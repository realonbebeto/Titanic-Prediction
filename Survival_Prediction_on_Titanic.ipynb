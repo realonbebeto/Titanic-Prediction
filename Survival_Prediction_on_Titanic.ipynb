{
  "nbformat": 4,
  "nbformat_minor": 5,
  "metadata": {
    "kernelspec": {
      "display_name": "Python 3",
      "language": "python",
      "name": "python3"
    },
    "language_info": {
      "codemirror_mode": {
        "name": "ipython",
        "version": 3
      },
      "file_extension": ".py",
      "mimetype": "text/x-python",
      "name": "python",
      "nbconvert_exporter": "python",
      "pygments_lexer": "ipython3",
      "version": "3.8.3"
    },
    "colab": {
      "name": "Survival Prediction on Titanic.ipynb",
      "provenance": [],
      "collapsed_sections": [],
      "include_colab_link": true
    }
  },
  "cells": [
    {
      "cell_type": "markdown",
      "metadata": {
        "id": "view-in-github",
        "colab_type": "text"
      },
      "source": [
        "<a href=\"https://colab.research.google.com/github/realonbebeto/Titanic-Prediction/blob/main/Survival_Prediction_on_Titanic.ipynb\" target=\"_parent\"><img src=\"https://colab.research.google.com/assets/colab-badge.svg\" alt=\"Open In Colab\"/></a>"
      ]
    },
    {
      "cell_type": "markdown",
      "metadata": {
        "id": "natural-liberty"
      },
      "source": [
        "## Exploration of Titanic Data and Prediction of Survival\n",
        "\n",
        "This notebook will aim to:\n",
        "1. Assess and explore relationships between the features in the data\n",
        "2. Create new features from the available ones both in the train and test data\n",
        "3. Impute missing values with justifiable ones\n",
        "4. Explore various algorithms(Classifiers)\n",
        "5. Select the best algorithm to help predict an unseen data(test)\n",
        "6. Fine tune hyperparameters to create an optimum model\n",
        "7. Predict survival from the test data\n",
        "\n",
        "Progressively, libraries will be imported as required"
      ],
      "id": "natural-liberty"
    },
    {
      "cell_type": "code",
      "metadata": {
        "id": "weighted-gossip"
      },
      "source": [
        "import pandas as pd\n",
        "import matplotlib.pyplot as plt\n",
        "import seaborn as sns\n",
        "%matplotlib inline"
      ],
      "id": "weighted-gossip",
      "execution_count": null,
      "outputs": []
    },
    {
      "cell_type": "code",
      "metadata": {
        "colab": {
          "base_uri": "https://localhost:8080/"
        },
        "id": "CbCnKERaUadT",
        "outputId": "71430ca8-05f1-4e0c-884d-32a844c46653"
      },
      "source": [
        "from google.colab import drive\n",
        "drive.mount('/content/drive')"
      ],
      "id": "CbCnKERaUadT",
      "execution_count": null,
      "outputs": [
        {
          "output_type": "stream",
          "text": [
            "Drive already mounted at /content/drive; to attempt to forcibly remount, call drive.mount(\"/content/drive\", force_remount=True).\n"
          ],
          "name": "stdout"
        }
      ]
    },
    {
      "cell_type": "code",
      "metadata": {
        "id": "union-empty"
      },
      "source": [
        "df_train = pd.read_csv('/content/drive/MyDrive/MLData/train.csv')\n",
        "df_test = pd.read_csv('/content/drive/MyDrive/MLData/test.csv')"
      ],
      "id": "union-empty",
      "execution_count": null,
      "outputs": []
    },
    {
      "cell_type": "code",
      "metadata": {
        "id": "automatic-amendment",
        "colab": {
          "base_uri": "https://localhost:8080/",
          "height": 289
        },
        "outputId": "4bea14ea-b93c-413d-87b0-88b7c25ff8dd"
      },
      "source": [
        "df_train.head()"
      ],
      "id": "automatic-amendment",
      "execution_count": null,
      "outputs": [
        {
          "output_type": "execute_result",
          "data": {
            "text/html": [
              "<div>\n",
              "<style scoped>\n",
              "    .dataframe tbody tr th:only-of-type {\n",
              "        vertical-align: middle;\n",
              "    }\n",
              "\n",
              "    .dataframe tbody tr th {\n",
              "        vertical-align: top;\n",
              "    }\n",
              "\n",
              "    .dataframe thead th {\n",
              "        text-align: right;\n",
              "    }\n",
              "</style>\n",
              "<table border=\"1\" class=\"dataframe\">\n",
              "  <thead>\n",
              "    <tr style=\"text-align: right;\">\n",
              "      <th></th>\n",
              "      <th>PassengerId</th>\n",
              "      <th>Survived</th>\n",
              "      <th>Pclass</th>\n",
              "      <th>Name</th>\n",
              "      <th>Sex</th>\n",
              "      <th>Age</th>\n",
              "      <th>SibSp</th>\n",
              "      <th>Parch</th>\n",
              "      <th>Ticket</th>\n",
              "      <th>Fare</th>\n",
              "      <th>Cabin</th>\n",
              "      <th>Embarked</th>\n",
              "    </tr>\n",
              "  </thead>\n",
              "  <tbody>\n",
              "    <tr>\n",
              "      <th>0</th>\n",
              "      <td>1</td>\n",
              "      <td>0</td>\n",
              "      <td>3</td>\n",
              "      <td>Braund, Mr. Owen Harris</td>\n",
              "      <td>male</td>\n",
              "      <td>22.0</td>\n",
              "      <td>1</td>\n",
              "      <td>0</td>\n",
              "      <td>A/5 21171</td>\n",
              "      <td>7.2500</td>\n",
              "      <td>NaN</td>\n",
              "      <td>S</td>\n",
              "    </tr>\n",
              "    <tr>\n",
              "      <th>1</th>\n",
              "      <td>2</td>\n",
              "      <td>1</td>\n",
              "      <td>1</td>\n",
              "      <td>Cumings, Mrs. John Bradley (Florence Briggs Th...</td>\n",
              "      <td>female</td>\n",
              "      <td>38.0</td>\n",
              "      <td>1</td>\n",
              "      <td>0</td>\n",
              "      <td>PC 17599</td>\n",
              "      <td>71.2833</td>\n",
              "      <td>C85</td>\n",
              "      <td>C</td>\n",
              "    </tr>\n",
              "    <tr>\n",
              "      <th>2</th>\n",
              "      <td>3</td>\n",
              "      <td>1</td>\n",
              "      <td>3</td>\n",
              "      <td>Heikkinen, Miss. Laina</td>\n",
              "      <td>female</td>\n",
              "      <td>26.0</td>\n",
              "      <td>0</td>\n",
              "      <td>0</td>\n",
              "      <td>STON/O2. 3101282</td>\n",
              "      <td>7.9250</td>\n",
              "      <td>NaN</td>\n",
              "      <td>S</td>\n",
              "    </tr>\n",
              "    <tr>\n",
              "      <th>3</th>\n",
              "      <td>4</td>\n",
              "      <td>1</td>\n",
              "      <td>1</td>\n",
              "      <td>Futrelle, Mrs. Jacques Heath (Lily May Peel)</td>\n",
              "      <td>female</td>\n",
              "      <td>35.0</td>\n",
              "      <td>1</td>\n",
              "      <td>0</td>\n",
              "      <td>113803</td>\n",
              "      <td>53.1000</td>\n",
              "      <td>C123</td>\n",
              "      <td>S</td>\n",
              "    </tr>\n",
              "    <tr>\n",
              "      <th>4</th>\n",
              "      <td>5</td>\n",
              "      <td>0</td>\n",
              "      <td>3</td>\n",
              "      <td>Allen, Mr. William Henry</td>\n",
              "      <td>male</td>\n",
              "      <td>35.0</td>\n",
              "      <td>0</td>\n",
              "      <td>0</td>\n",
              "      <td>373450</td>\n",
              "      <td>8.0500</td>\n",
              "      <td>NaN</td>\n",
              "      <td>S</td>\n",
              "    </tr>\n",
              "  </tbody>\n",
              "</table>\n",
              "</div>"
            ],
            "text/plain": [
              "   PassengerId  Survived  Pclass  ...     Fare Cabin  Embarked\n",
              "0            1         0       3  ...   7.2500   NaN         S\n",
              "1            2         1       1  ...  71.2833   C85         C\n",
              "2            3         1       3  ...   7.9250   NaN         S\n",
              "3            4         1       1  ...  53.1000  C123         S\n",
              "4            5         0       3  ...   8.0500   NaN         S\n",
              "\n",
              "[5 rows x 12 columns]"
            ]
          },
          "metadata": {
            "tags": []
          },
          "execution_count": 191
        }
      ]
    },
    {
      "cell_type": "markdown",
      "metadata": {
        "id": "visible-embassy"
      },
      "source": [
        "##### **Feature Observations**\n",
        "\n",
        "Here we will look at the potential of every feature in feature engineering.\n",
        "\n",
        "**1. _PassengerID_** - does not have any indication to create a new feature from it.\n",
        "\n",
        "**2. _Survived_** - is a class feature to be predicted with regard to each passengerin the test data thus no feature can be derived from it.\n",
        "\n",
        "**3. _Pclass_** - is class feature detailing the ticket classification if 1st, 2nd, or 3rd and no feature can be got from it.\n",
        "\n",
        "**4. _Name_** - is the string of words unique to each passenger but has potential to create **Title** and **Surname** features.\n",
        "\n",
        "**4. _Sex_** - is categorical feature detailing passenger orientation if male or female and no feature can be created from it.\n",
        "\n",
        "**5. _Age_** - is an ordinal unique feature showing amount of years lived and can create an **AgeGroup** categorical feature.\n",
        "\n",
        "**6. _SibSp_** - is a feature showing the relationship of either Sibling or Spouse and create a **FamilySize** feature together with the **Parch** feature.\n",
        "\n",
        "**7. _Parch_** - is a feature showing the relationship of either Parent or Child and can create a **FamilySize** feature together with the **SibSp** feature.\n",
        "\n",
        "**8. _Ticket_** - is a feature detailing the unique ticket number of each passenger and can be explored to create **T_Prefix** feature.\n",
        "\n",
        "**9. _Fare_** - is a feature showing the amount paid by each passenger and can help create a **FareGroup** feature.\n",
        "\n",
        "**10. _Cabin_** - is a feature detailing in which cabin the passenger was in or assigned and could create a categorical **CabinClass** feature.\n",
        "\n",
        "**11. _Embarked_** - is a feature detailing the port of entry by passenger and has no potent to create another feature.\n",
        "\n",
        "#### **Initial Exploration**"
      ],
      "id": "visible-embassy"
    },
    {
      "cell_type": "code",
      "metadata": {
        "id": "speaking-republican",
        "colab": {
          "base_uri": "https://localhost:8080/"
        },
        "outputId": "57065f95-0888-40fa-cb91-1cc52407c112"
      },
      "source": [
        "df_train.info()"
      ],
      "id": "speaking-republican",
      "execution_count": null,
      "outputs": [
        {
          "output_type": "stream",
          "text": [
            "<class 'pandas.core.frame.DataFrame'>\n",
            "RangeIndex: 891 entries, 0 to 890\n",
            "Data columns (total 12 columns):\n",
            " #   Column       Non-Null Count  Dtype  \n",
            "---  ------       --------------  -----  \n",
            " 0   PassengerId  891 non-null    int64  \n",
            " 1   Survived     891 non-null    int64  \n",
            " 2   Pclass       891 non-null    int64  \n",
            " 3   Name         891 non-null    object \n",
            " 4   Sex          891 non-null    object \n",
            " 5   Age          714 non-null    float64\n",
            " 6   SibSp        891 non-null    int64  \n",
            " 7   Parch        891 non-null    int64  \n",
            " 8   Ticket       891 non-null    object \n",
            " 9   Fare         891 non-null    float64\n",
            " 10  Cabin        204 non-null    object \n",
            " 11  Embarked     889 non-null    object \n",
            "dtypes: float64(2), int64(5), object(5)\n",
            "memory usage: 83.7+ KB\n"
          ],
          "name": "stdout"
        }
      ]
    },
    {
      "cell_type": "code",
      "metadata": {
        "id": "opposed-booking",
        "colab": {
          "base_uri": "https://localhost:8080/"
        },
        "outputId": "dca9dabd-b7bb-441a-c7f4-5da513d77ab1"
      },
      "source": [
        "1 - (df_train.count() / len(df_train))"
      ],
      "id": "opposed-booking",
      "execution_count": null,
      "outputs": [
        {
          "output_type": "execute_result",
          "data": {
            "text/plain": [
              "PassengerId    0.000000\n",
              "Survived       0.000000\n",
              "Pclass         0.000000\n",
              "Name           0.000000\n",
              "Sex            0.000000\n",
              "Age            0.198653\n",
              "SibSp          0.000000\n",
              "Parch          0.000000\n",
              "Ticket         0.000000\n",
              "Fare           0.000000\n",
              "Cabin          0.771044\n",
              "Embarked       0.002245\n",
              "dtype: float64"
            ]
          },
          "metadata": {
            "tags": []
          },
          "execution_count": 193
        }
      ]
    },
    {
      "cell_type": "markdown",
      "metadata": {
        "id": "invisible-liver"
      },
      "source": [
        "**Observations**\n",
        "\n",
        "1. Age has about 20% missing values which can be imputed with either mean, mode or median\n",
        "2. Cabin has about 77% missing values and any imputation will give a distribution not representative of actual or close enough.\n",
        "3. Emabarked has about 0.22% missing values giving an indication of an easy imputation of the missing values\n",
        "4. All the other features do not have missing values."
      ],
      "id": "invisible-liver"
    },
    {
      "cell_type": "code",
      "metadata": {
        "id": "cubic-nitrogen",
        "colab": {
          "base_uri": "https://localhost:8080/",
          "height": 444
        },
        "outputId": "7f32575e-f2da-4951-87b7-662a49563458"
      },
      "source": [
        "df_train.describe(include='all')"
      ],
      "id": "cubic-nitrogen",
      "execution_count": null,
      "outputs": [
        {
          "output_type": "execute_result",
          "data": {
            "text/html": [
              "<div>\n",
              "<style scoped>\n",
              "    .dataframe tbody tr th:only-of-type {\n",
              "        vertical-align: middle;\n",
              "    }\n",
              "\n",
              "    .dataframe tbody tr th {\n",
              "        vertical-align: top;\n",
              "    }\n",
              "\n",
              "    .dataframe thead th {\n",
              "        text-align: right;\n",
              "    }\n",
              "</style>\n",
              "<table border=\"1\" class=\"dataframe\">\n",
              "  <thead>\n",
              "    <tr style=\"text-align: right;\">\n",
              "      <th></th>\n",
              "      <th>PassengerId</th>\n",
              "      <th>Survived</th>\n",
              "      <th>Pclass</th>\n",
              "      <th>Name</th>\n",
              "      <th>Sex</th>\n",
              "      <th>Age</th>\n",
              "      <th>SibSp</th>\n",
              "      <th>Parch</th>\n",
              "      <th>Ticket</th>\n",
              "      <th>Fare</th>\n",
              "      <th>Cabin</th>\n",
              "      <th>Embarked</th>\n",
              "    </tr>\n",
              "  </thead>\n",
              "  <tbody>\n",
              "    <tr>\n",
              "      <th>count</th>\n",
              "      <td>891.000000</td>\n",
              "      <td>891.000000</td>\n",
              "      <td>891.000000</td>\n",
              "      <td>891</td>\n",
              "      <td>891</td>\n",
              "      <td>714.000000</td>\n",
              "      <td>891.000000</td>\n",
              "      <td>891.000000</td>\n",
              "      <td>891</td>\n",
              "      <td>891.000000</td>\n",
              "      <td>204</td>\n",
              "      <td>889</td>\n",
              "    </tr>\n",
              "    <tr>\n",
              "      <th>unique</th>\n",
              "      <td>NaN</td>\n",
              "      <td>NaN</td>\n",
              "      <td>NaN</td>\n",
              "      <td>891</td>\n",
              "      <td>2</td>\n",
              "      <td>NaN</td>\n",
              "      <td>NaN</td>\n",
              "      <td>NaN</td>\n",
              "      <td>681</td>\n",
              "      <td>NaN</td>\n",
              "      <td>147</td>\n",
              "      <td>3</td>\n",
              "    </tr>\n",
              "    <tr>\n",
              "      <th>top</th>\n",
              "      <td>NaN</td>\n",
              "      <td>NaN</td>\n",
              "      <td>NaN</td>\n",
              "      <td>Pain, Dr. Alfred</td>\n",
              "      <td>male</td>\n",
              "      <td>NaN</td>\n",
              "      <td>NaN</td>\n",
              "      <td>NaN</td>\n",
              "      <td>347082</td>\n",
              "      <td>NaN</td>\n",
              "      <td>G6</td>\n",
              "      <td>S</td>\n",
              "    </tr>\n",
              "    <tr>\n",
              "      <th>freq</th>\n",
              "      <td>NaN</td>\n",
              "      <td>NaN</td>\n",
              "      <td>NaN</td>\n",
              "      <td>1</td>\n",
              "      <td>577</td>\n",
              "      <td>NaN</td>\n",
              "      <td>NaN</td>\n",
              "      <td>NaN</td>\n",
              "      <td>7</td>\n",
              "      <td>NaN</td>\n",
              "      <td>4</td>\n",
              "      <td>644</td>\n",
              "    </tr>\n",
              "    <tr>\n",
              "      <th>mean</th>\n",
              "      <td>446.000000</td>\n",
              "      <td>0.383838</td>\n",
              "      <td>2.308642</td>\n",
              "      <td>NaN</td>\n",
              "      <td>NaN</td>\n",
              "      <td>29.699118</td>\n",
              "      <td>0.523008</td>\n",
              "      <td>0.381594</td>\n",
              "      <td>NaN</td>\n",
              "      <td>32.204208</td>\n",
              "      <td>NaN</td>\n",
              "      <td>NaN</td>\n",
              "    </tr>\n",
              "    <tr>\n",
              "      <th>std</th>\n",
              "      <td>257.353842</td>\n",
              "      <td>0.486592</td>\n",
              "      <td>0.836071</td>\n",
              "      <td>NaN</td>\n",
              "      <td>NaN</td>\n",
              "      <td>14.526497</td>\n",
              "      <td>1.102743</td>\n",
              "      <td>0.806057</td>\n",
              "      <td>NaN</td>\n",
              "      <td>49.693429</td>\n",
              "      <td>NaN</td>\n",
              "      <td>NaN</td>\n",
              "    </tr>\n",
              "    <tr>\n",
              "      <th>min</th>\n",
              "      <td>1.000000</td>\n",
              "      <td>0.000000</td>\n",
              "      <td>1.000000</td>\n",
              "      <td>NaN</td>\n",
              "      <td>NaN</td>\n",
              "      <td>0.420000</td>\n",
              "      <td>0.000000</td>\n",
              "      <td>0.000000</td>\n",
              "      <td>NaN</td>\n",
              "      <td>0.000000</td>\n",
              "      <td>NaN</td>\n",
              "      <td>NaN</td>\n",
              "    </tr>\n",
              "    <tr>\n",
              "      <th>25%</th>\n",
              "      <td>223.500000</td>\n",
              "      <td>0.000000</td>\n",
              "      <td>2.000000</td>\n",
              "      <td>NaN</td>\n",
              "      <td>NaN</td>\n",
              "      <td>20.125000</td>\n",
              "      <td>0.000000</td>\n",
              "      <td>0.000000</td>\n",
              "      <td>NaN</td>\n",
              "      <td>7.910400</td>\n",
              "      <td>NaN</td>\n",
              "      <td>NaN</td>\n",
              "    </tr>\n",
              "    <tr>\n",
              "      <th>50%</th>\n",
              "      <td>446.000000</td>\n",
              "      <td>0.000000</td>\n",
              "      <td>3.000000</td>\n",
              "      <td>NaN</td>\n",
              "      <td>NaN</td>\n",
              "      <td>28.000000</td>\n",
              "      <td>0.000000</td>\n",
              "      <td>0.000000</td>\n",
              "      <td>NaN</td>\n",
              "      <td>14.454200</td>\n",
              "      <td>NaN</td>\n",
              "      <td>NaN</td>\n",
              "    </tr>\n",
              "    <tr>\n",
              "      <th>75%</th>\n",
              "      <td>668.500000</td>\n",
              "      <td>1.000000</td>\n",
              "      <td>3.000000</td>\n",
              "      <td>NaN</td>\n",
              "      <td>NaN</td>\n",
              "      <td>38.000000</td>\n",
              "      <td>1.000000</td>\n",
              "      <td>0.000000</td>\n",
              "      <td>NaN</td>\n",
              "      <td>31.000000</td>\n",
              "      <td>NaN</td>\n",
              "      <td>NaN</td>\n",
              "    </tr>\n",
              "    <tr>\n",
              "      <th>max</th>\n",
              "      <td>891.000000</td>\n",
              "      <td>1.000000</td>\n",
              "      <td>3.000000</td>\n",
              "      <td>NaN</td>\n",
              "      <td>NaN</td>\n",
              "      <td>80.000000</td>\n",
              "      <td>8.000000</td>\n",
              "      <td>6.000000</td>\n",
              "      <td>NaN</td>\n",
              "      <td>512.329200</td>\n",
              "      <td>NaN</td>\n",
              "      <td>NaN</td>\n",
              "    </tr>\n",
              "  </tbody>\n",
              "</table>\n",
              "</div>"
            ],
            "text/plain": [
              "        PassengerId    Survived      Pclass  ...        Fare Cabin  Embarked\n",
              "count    891.000000  891.000000  891.000000  ...  891.000000   204       889\n",
              "unique          NaN         NaN         NaN  ...         NaN   147         3\n",
              "top             NaN         NaN         NaN  ...         NaN    G6         S\n",
              "freq            NaN         NaN         NaN  ...         NaN     4       644\n",
              "mean     446.000000    0.383838    2.308642  ...   32.204208   NaN       NaN\n",
              "std      257.353842    0.486592    0.836071  ...   49.693429   NaN       NaN\n",
              "min        1.000000    0.000000    1.000000  ...    0.000000   NaN       NaN\n",
              "25%      223.500000    0.000000    2.000000  ...    7.910400   NaN       NaN\n",
              "50%      446.000000    0.000000    3.000000  ...   14.454200   NaN       NaN\n",
              "75%      668.500000    1.000000    3.000000  ...   31.000000   NaN       NaN\n",
              "max      891.000000    1.000000    3.000000  ...  512.329200   NaN       NaN\n",
              "\n",
              "[11 rows x 12 columns]"
            ]
          },
          "metadata": {
            "tags": []
          },
          "execution_count": 194
        }
      ]
    },
    {
      "cell_type": "markdown",
      "metadata": {
        "id": "standard-tiger"
      },
      "source": [
        "**Observation**\n",
        "\n",
        "1. Minimum fare is 0 and also seems not normal"
      ],
      "id": "standard-tiger"
    },
    {
      "cell_type": "markdown",
      "metadata": {
        "id": "elgAyMJW5ju3"
      },
      "source": [
        "#### **Imputation of Age and Embarked Features**"
      ],
      "id": "elgAyMJW5ju3"
    },
    {
      "cell_type": "code",
      "metadata": {
        "id": "4-Br-aZI5lYZ"
      },
      "source": [
        "from sklearn.impute import KNNImputer\n",
        "from sklearn.preprocessing import MinMaxScaler\n",
        "from sklearn.preprocessing import OneHotEncoder\n",
        "\n",
        "data = df_train[['Survived', 'Pclass', 'Sex','Age', 'SibSp','Parch', 'Fare', 'Embarked']]"
      ],
      "id": "4-Br-aZI5lYZ",
      "execution_count": null,
      "outputs": []
    },
    {
      "cell_type": "code",
      "metadata": {
        "id": "iscVl-tL55C7"
      },
      "source": [
        "# Sex and Embarked encoding\n",
        "\n",
        "sx_em_dumm = pd.get_dummies(data[['Sex', 'Embarked']], drop_first=True)\n",
        "data1 = pd.concat([data, sx_em_dumm], axis=1)\n",
        "data1.drop(['Sex', 'Embarked'], axis=1, inplace=True)"
      ],
      "id": "iscVl-tL55C7",
      "execution_count": null,
      "outputs": []
    },
    {
      "cell_type": "code",
      "metadata": {
        "id": "JL3Po6XUFADc"
      },
      "source": [
        "# Scaling for KNN Imputer\n",
        "\n",
        "scaler = MinMaxScaler()\n",
        "datatrmd = scaler.fit_transform(data1)\n",
        "df = pd.DataFrame(data=datatrmd, columns=data1.columns)"
      ],
      "id": "JL3Po6XUFADc",
      "execution_count": null,
      "outputs": []
    },
    {
      "cell_type": "code",
      "metadata": {
        "id": "mcSeuBIMMHmd"
      },
      "source": [
        "# Imputing Missing Values\n",
        "knn_imputer = KNNImputer(weights='distance', copy=True)\n",
        "df1 = pd.DataFrame(knn_imputer.fit_transform(df), columns=df.columns)"
      ],
      "id": "mcSeuBIMMHmd",
      "execution_count": null,
      "outputs": []
    },
    {
      "cell_type": "code",
      "metadata": {
        "id": "gtP_hx3RNWQB"
      },
      "source": [
        "datainv = scaler.inverse_transform(df1)\n",
        "df2 = pd.DataFrame(data=datainv, columns=data1.columns)"
      ],
      "id": "gtP_hx3RNWQB",
      "execution_count": null,
      "outputs": []
    },
    {
      "cell_type": "code",
      "metadata": {
        "id": "qlAtM1ttOd3a"
      },
      "source": [
        "# Inverse Encode Sex and Embarked\n",
        "\n",
        "def sexify(feature):\n",
        "  X = feature.copy()\n",
        "\n",
        "  sex = []\n",
        "  for i in X:\n",
        "    if float(i) == 1.0:\n",
        "      sex.append('male')\n",
        "    else:\n",
        "      sex.append('female')\n",
        "  \n",
        "  return sex\n",
        "\n",
        "def embify(data):\n",
        "  X = data.copy()\n",
        "  embark = []\n",
        "\n",
        "  for i in range(len(X)):\n",
        "    if (X.iloc[i, 0] == 1.0)  & (X.iloc[i, 1] == 0.0):\n",
        "      embark.append('Q')\n",
        "    elif (X.iloc[i, 0] == 0.0) & (X.iloc[i, 1] == 1.0):\n",
        "      embark.append('S')\n",
        "    elif (X.iloc[i, 0] == 0.0) & (X.iloc[i, 1] == 0.0):\n",
        "      embark.append('C')\n",
        "  \n",
        "  return embark"
      ],
      "id": "qlAtM1ttOd3a",
      "execution_count": null,
      "outputs": []
    },
    {
      "cell_type": "code",
      "metadata": {
        "id": "kRabHtyVsjns"
      },
      "source": [
        "# Recreating the Sex feature\n",
        "df2['Sex'] = sexify(df['Sex_male'])"
      ],
      "id": "kRabHtyVsjns",
      "execution_count": null,
      "outputs": []
    },
    {
      "cell_type": "code",
      "metadata": {
        "id": "6dM5tjILt5NJ"
      },
      "source": [
        "# Recreating the Embarked Feature\n",
        "df2['Embarked'] = embify(df[['Embarked_Q', 'Embarked_S']])"
      ],
      "id": "6dM5tjILt5NJ",
      "execution_count": null,
      "outputs": []
    },
    {
      "cell_type": "code",
      "metadata": {
        "colab": {
          "base_uri": "https://localhost:8080/",
          "height": 221
        },
        "id": "DQ9DAUy4x0PR",
        "outputId": "3c33373b-dfe0-42c6-c6f4-54353d25186e"
      },
      "source": [
        "train_data = pd.concat([df2, df_train[['PassengerId', 'Name']]], axis=1)\n",
        "train_data.head()"
      ],
      "id": "DQ9DAUy4x0PR",
      "execution_count": null,
      "outputs": [
        {
          "output_type": "execute_result",
          "data": {
            "text/html": [
              "<div>\n",
              "<style scoped>\n",
              "    .dataframe tbody tr th:only-of-type {\n",
              "        vertical-align: middle;\n",
              "    }\n",
              "\n",
              "    .dataframe tbody tr th {\n",
              "        vertical-align: top;\n",
              "    }\n",
              "\n",
              "    .dataframe thead th {\n",
              "        text-align: right;\n",
              "    }\n",
              "</style>\n",
              "<table border=\"1\" class=\"dataframe\">\n",
              "  <thead>\n",
              "    <tr style=\"text-align: right;\">\n",
              "      <th></th>\n",
              "      <th>Survived</th>\n",
              "      <th>Pclass</th>\n",
              "      <th>Age</th>\n",
              "      <th>SibSp</th>\n",
              "      <th>Parch</th>\n",
              "      <th>Fare</th>\n",
              "      <th>Sex_male</th>\n",
              "      <th>Embarked_Q</th>\n",
              "      <th>Embarked_S</th>\n",
              "      <th>Sex</th>\n",
              "      <th>Embarked</th>\n",
              "      <th>PassengerId</th>\n",
              "      <th>Name</th>\n",
              "    </tr>\n",
              "  </thead>\n",
              "  <tbody>\n",
              "    <tr>\n",
              "      <th>0</th>\n",
              "      <td>0.0</td>\n",
              "      <td>3.0</td>\n",
              "      <td>22.0</td>\n",
              "      <td>1.0</td>\n",
              "      <td>0.0</td>\n",
              "      <td>7.2500</td>\n",
              "      <td>1.0</td>\n",
              "      <td>0.0</td>\n",
              "      <td>1.0</td>\n",
              "      <td>male</td>\n",
              "      <td>S</td>\n",
              "      <td>1</td>\n",
              "      <td>Braund, Mr. Owen Harris</td>\n",
              "    </tr>\n",
              "    <tr>\n",
              "      <th>1</th>\n",
              "      <td>1.0</td>\n",
              "      <td>1.0</td>\n",
              "      <td>38.0</td>\n",
              "      <td>1.0</td>\n",
              "      <td>0.0</td>\n",
              "      <td>71.2833</td>\n",
              "      <td>0.0</td>\n",
              "      <td>0.0</td>\n",
              "      <td>0.0</td>\n",
              "      <td>female</td>\n",
              "      <td>C</td>\n",
              "      <td>2</td>\n",
              "      <td>Cumings, Mrs. John Bradley (Florence Briggs Th...</td>\n",
              "    </tr>\n",
              "    <tr>\n",
              "      <th>2</th>\n",
              "      <td>1.0</td>\n",
              "      <td>3.0</td>\n",
              "      <td>26.0</td>\n",
              "      <td>0.0</td>\n",
              "      <td>0.0</td>\n",
              "      <td>7.9250</td>\n",
              "      <td>0.0</td>\n",
              "      <td>0.0</td>\n",
              "      <td>1.0</td>\n",
              "      <td>female</td>\n",
              "      <td>S</td>\n",
              "      <td>3</td>\n",
              "      <td>Heikkinen, Miss. Laina</td>\n",
              "    </tr>\n",
              "    <tr>\n",
              "      <th>3</th>\n",
              "      <td>1.0</td>\n",
              "      <td>1.0</td>\n",
              "      <td>35.0</td>\n",
              "      <td>1.0</td>\n",
              "      <td>0.0</td>\n",
              "      <td>53.1000</td>\n",
              "      <td>0.0</td>\n",
              "      <td>0.0</td>\n",
              "      <td>1.0</td>\n",
              "      <td>female</td>\n",
              "      <td>S</td>\n",
              "      <td>4</td>\n",
              "      <td>Futrelle, Mrs. Jacques Heath (Lily May Peel)</td>\n",
              "    </tr>\n",
              "    <tr>\n",
              "      <th>4</th>\n",
              "      <td>0.0</td>\n",
              "      <td>3.0</td>\n",
              "      <td>35.0</td>\n",
              "      <td>0.0</td>\n",
              "      <td>0.0</td>\n",
              "      <td>8.0500</td>\n",
              "      <td>1.0</td>\n",
              "      <td>0.0</td>\n",
              "      <td>1.0</td>\n",
              "      <td>male</td>\n",
              "      <td>S</td>\n",
              "      <td>5</td>\n",
              "      <td>Allen, Mr. William Henry</td>\n",
              "    </tr>\n",
              "  </tbody>\n",
              "</table>\n",
              "</div>"
            ],
            "text/plain": [
              "   Survived  ...                                               Name\n",
              "0       0.0  ...                            Braund, Mr. Owen Harris\n",
              "1       1.0  ...  Cumings, Mrs. John Bradley (Florence Briggs Th...\n",
              "2       1.0  ...                             Heikkinen, Miss. Laina\n",
              "3       1.0  ...       Futrelle, Mrs. Jacques Heath (Lily May Peel)\n",
              "4       0.0  ...                           Allen, Mr. William Henry\n",
              "\n",
              "[5 rows x 13 columns]"
            ]
          },
          "metadata": {
            "tags": []
          },
          "execution_count": 203
        }
      ]
    },
    {
      "cell_type": "markdown",
      "metadata": {
        "id": "tY7h0kyA10M0"
      },
      "source": [
        "#### **Exploration the Relationship of Features to Survival**"
      ],
      "id": "tY7h0kyA10M0"
    },
    {
      "cell_type": "code",
      "metadata": {
        "id": "amber-publication",
        "colab": {
          "base_uri": "https://localhost:8080/",
          "height": 499
        },
        "outputId": "bda13bad-6cd1-4b04-fc51-3c5570e22f7c"
      },
      "source": [
        "train_data[['Age', 'Fare']].hist(bins=50, figsize=(12, 8))\n",
        "plt.show()"
      ],
      "id": "amber-publication",
      "execution_count": null,
      "outputs": [
        {
          "output_type": "display_data",
          "data": {
            "image/png": "[encoded data removed]",
            "text/plain": [
              "<Figure size 864x576 with 2 Axes>"
            ]
          },
          "metadata": {
            "tags": [],
            "needs_background": "light"
          }
        }
      ]
    },
    {
      "cell_type": "markdown",
      "metadata": {
        "id": "digital-alberta"
      },
      "source": [
        "1. **Sex**"
      ],
      "id": "digital-alberta"
    },
    {
      "cell_type": "code",
      "metadata": {
        "id": "beautiful-charity",
        "colab": {
          "base_uri": "https://localhost:8080/",
          "height": 279
        },
        "outputId": "8cddf528-382c-4f38-f182-1193bb9d394f"
      },
      "source": [
        "sns.barplot(data=train_data, x='Sex', y='Survived', hue='Sex')\n",
        "plt.show()"
      ],
      "id": "beautiful-charity",
      "execution_count": null,
      "outputs": [
        {
          "output_type": "display_data",
          "data": {
            "image/png": "[encoded data removed]",
            "text/plain": [
              "<Figure size 432x288 with 1 Axes>"
            ]
          },
          "metadata": {
            "tags": [],
            "needs_background": "light"
          }
        }
      ]
    },
    {
      "cell_type": "markdown",
      "metadata": {
        "id": "becoming-manitoba"
      },
      "source": [
        "**Observation**\n",
        "\n",
        "Being a female, there is a likelihood to survive.\n",
        "\n",
        "2. **Pclass**"
      ],
      "id": "becoming-manitoba"
    },
    {
      "cell_type": "code",
      "metadata": {
        "id": "approximate-newcastle",
        "colab": {
          "base_uri": "https://localhost:8080/",
          "height": 279
        },
        "outputId": "30aadc49-f7b1-45ab-c3ae-141abd0c9939"
      },
      "source": [
        "sns.barplot(data=train_data, x= 'Pclass', y='Survived', hue='Pclass')\n",
        "plt.show()"
      ],
      "id": "approximate-newcastle",
      "execution_count": null,
      "outputs": [
        {
          "output_type": "display_data",
          "data": {
            "image/png": "[encoded data removed]",
            "text/plain": [
              "<Figure size 432x288 with 1 Axes>"
            ]
          },
          "metadata": {
            "tags": [],
            "needs_background": "light"
          }
        }
      ]
    },
    {
      "cell_type": "markdown",
      "metadata": {
        "id": "spiritual-chambers"
      },
      "source": [
        "**Observation**\n",
        "\n",
        "Passenger class 1 and 2 have a higher likelihood to survive.\n",
        "\n",
        "3. **Age**\n",
        "\n",
        "We will create a new class feature - **AgeGroup** which will assist in classification of age and give the general relationship with the **Survival** feature.\n",
        "Classification will be as follows:\n",
        "\n",
        "0-5 -> Baby\n",
        "\n",
        "6-15 -> Child\n",
        "\n",
        "16-35 -> Youth\n",
        "\n",
        "36-55 -> Adult\n",
        "\n",
        "55-80 -> Senior"
      ],
      "id": "spiritual-chambers"
    },
    {
      "cell_type": "code",
      "metadata": {
        "id": "found-arthritis"
      },
      "source": [
        "import numpy as np\n",
        "\n",
        "bins = [0, 6, 16, 36, 55, np.inf]\n",
        "labels = ['Baby', 'Child', 'Youth', 'Adult', 'Senior']\n",
        "\n",
        "train_data['AgeGroup'] = pd.cut(train_data['Age'], bins = bins, labels = labels)"
      ],
      "id": "found-arthritis",
      "execution_count": null,
      "outputs": []
    },
    {
      "cell_type": "code",
      "metadata": {
        "id": "instant-adrian",
        "colab": {
          "base_uri": "https://localhost:8080/",
          "height": 279
        },
        "outputId": "339f065e-ba11-4099-8e1a-1cdcdddc8d8a"
      },
      "source": [
        "sns.barplot(data=train_data, x='AgeGroup', y='Survived', hue='AgeGroup')\n",
        "plt.show()"
      ],
      "id": "instant-adrian",
      "execution_count": null,
      "outputs": [
        {
          "output_type": "display_data",
          "data": {
            "image/png": "[encoded data removed]",
            "text/plain": [
              "<Figure size 432x288 with 1 Axes>"
            ]
          },
          "metadata": {
            "tags": [],
            "needs_background": "light"
          }
        }
      ]
    },
    {
      "cell_type": "markdown",
      "metadata": {
        "id": "lovely-immunology"
      },
      "source": [
        "**Observation**\n",
        "\n",
        "1. Babies have a high likelihood to survive\n",
        "2. Childrend and Adults have a similar likelihood to survive almost shared with youths\n",
        "3. Seniors have the lowest survival rate\n",
        "\n",
        "\n",
        "\n",
        "\n",
        "4. **SibSp**"
      ],
      "id": "lovely-immunology"
    },
    {
      "cell_type": "code",
      "metadata": {
        "id": "outer-biology",
        "colab": {
          "base_uri": "https://localhost:8080/",
          "height": 279
        },
        "outputId": "204ae653-cb94-4f17-aaa4-2327ab2a2b59"
      },
      "source": [
        "sns.barplot(data=train_data, x='SibSp', y='Survived', hue='SibSp')\n",
        "plt.show()"
      ],
      "id": "outer-biology",
      "execution_count": null,
      "outputs": [
        {
          "output_type": "display_data",
          "data": {
            "image/png": "[encoded data removed]",
            "text/plain": [
              "<Figure size 432x288 with 1 Axes>"
            ]
          },
          "metadata": {
            "tags": [],
            "needs_background": "light"
          }
        }
      ]
    },
    {
      "cell_type": "markdown",
      "metadata": {
        "id": "defensive-reform"
      },
      "source": [
        "**Observations**\n",
        "\n",
        "There is a high likelihood to survive for a passenger who is alone or with only one extra person.\n",
        "\n",
        "5. **Parch**"
      ],
      "id": "defensive-reform"
    },
    {
      "cell_type": "code",
      "metadata": {
        "id": "corrected-athens",
        "colab": {
          "base_uri": "https://localhost:8080/",
          "height": 279
        },
        "outputId": "c8d226e2-0e0f-410b-8e8f-3928a8422d42"
      },
      "source": [
        "sns.barplot(data=train_data, x='Parch', y='Survived', hue='Parch')\n",
        "plt.show()"
      ],
      "id": "corrected-athens",
      "execution_count": null,
      "outputs": [
        {
          "output_type": "display_data",
          "data": {
            "image/png": "[encoded data removed]",
            "text/plain": [
              "<Figure size 432x288 with 1 Axes>"
            ]
          },
          "metadata": {
            "tags": [],
            "needs_background": "light"
          }
        }
      ]
    },
    {
      "cell_type": "markdown",
      "metadata": {
        "id": "joint-platinum"
      },
      "source": [
        "**Observation**\n",
        "\n",
        "Passengers with parent child relationship were more likely to survive.\n",
        "\n",
        "6. **Ticket**"
      ],
      "id": "joint-platinum"
    },
    {
      "cell_type": "code",
      "metadata": {
        "id": "recent-pepper",
        "colab": {
          "base_uri": "https://localhost:8080/"
        },
        "outputId": "5f029b92-4025-4bfa-9612-83a6d16c652d"
      },
      "source": [
        "891 - int(df_train['Ticket'].unique().shape[0])"
      ],
      "id": "recent-pepper",
      "execution_count": null,
      "outputs": [
        {
          "output_type": "execute_result",
          "data": {
            "text/plain": [
              "210"
            ]
          },
          "metadata": {
            "tags": []
          },
          "execution_count": 211
        }
      ]
    },
    {
      "cell_type": "markdown",
      "metadata": {
        "id": "convertible-doctor"
      },
      "source": [
        "Only 210 tickets are shared among the passengers giving the impression that less could be got from the Ticket feature.\n",
        "\n",
        "7. **Fare**\n",
        "\n",
        "There are fares which are zero which is not factual. This notebook will impute them using Pclass means."
      ],
      "id": "convertible-doctor"
    },
    {
      "cell_type": "code",
      "metadata": {
        "id": "conscious-cleaning",
        "colab": {
          "base_uri": "https://localhost:8080/",
          "height": 514
        },
        "outputId": "8ec59bef-cd80-4189-d247-aabdf7e5489f"
      },
      "source": [
        "train_data[['Fare', 'Pclass']][train_data['Fare'] == 0]"
      ],
      "id": "conscious-cleaning",
      "execution_count": null,
      "outputs": [
        {
          "output_type": "execute_result",
          "data": {
            "text/html": [
              "<div>\n",
              "<style scoped>\n",
              "    .dataframe tbody tr th:only-of-type {\n",
              "        vertical-align: middle;\n",
              "    }\n",
              "\n",
              "    .dataframe tbody tr th {\n",
              "        vertical-align: top;\n",
              "    }\n",
              "\n",
              "    .dataframe thead th {\n",
              "        text-align: right;\n",
              "    }\n",
              "</style>\n",
              "<table border=\"1\" class=\"dataframe\">\n",
              "  <thead>\n",
              "    <tr style=\"text-align: right;\">\n",
              "      <th></th>\n",
              "      <th>Fare</th>\n",
              "      <th>Pclass</th>\n",
              "    </tr>\n",
              "  </thead>\n",
              "  <tbody>\n",
              "    <tr>\n",
              "      <th>179</th>\n",
              "      <td>0.0</td>\n",
              "      <td>3.0</td>\n",
              "    </tr>\n",
              "    <tr>\n",
              "      <th>263</th>\n",
              "      <td>0.0</td>\n",
              "      <td>1.0</td>\n",
              "    </tr>\n",
              "    <tr>\n",
              "      <th>271</th>\n",
              "      <td>0.0</td>\n",
              "      <td>3.0</td>\n",
              "    </tr>\n",
              "    <tr>\n",
              "      <th>277</th>\n",
              "      <td>0.0</td>\n",
              "      <td>2.0</td>\n",
              "    </tr>\n",
              "    <tr>\n",
              "      <th>302</th>\n",
              "      <td>0.0</td>\n",
              "      <td>3.0</td>\n",
              "    </tr>\n",
              "    <tr>\n",
              "      <th>413</th>\n",
              "      <td>0.0</td>\n",
              "      <td>2.0</td>\n",
              "    </tr>\n",
              "    <tr>\n",
              "      <th>466</th>\n",
              "      <td>0.0</td>\n",
              "      <td>2.0</td>\n",
              "    </tr>\n",
              "    <tr>\n",
              "      <th>481</th>\n",
              "      <td>0.0</td>\n",
              "      <td>2.0</td>\n",
              "    </tr>\n",
              "    <tr>\n",
              "      <th>597</th>\n",
              "      <td>0.0</td>\n",
              "      <td>3.0</td>\n",
              "    </tr>\n",
              "    <tr>\n",
              "      <th>633</th>\n",
              "      <td>0.0</td>\n",
              "      <td>1.0</td>\n",
              "    </tr>\n",
              "    <tr>\n",
              "      <th>674</th>\n",
              "      <td>0.0</td>\n",
              "      <td>2.0</td>\n",
              "    </tr>\n",
              "    <tr>\n",
              "      <th>732</th>\n",
              "      <td>0.0</td>\n",
              "      <td>2.0</td>\n",
              "    </tr>\n",
              "    <tr>\n",
              "      <th>806</th>\n",
              "      <td>0.0</td>\n",
              "      <td>1.0</td>\n",
              "    </tr>\n",
              "    <tr>\n",
              "      <th>815</th>\n",
              "      <td>0.0</td>\n",
              "      <td>1.0</td>\n",
              "    </tr>\n",
              "    <tr>\n",
              "      <th>822</th>\n",
              "      <td>0.0</td>\n",
              "      <td>1.0</td>\n",
              "    </tr>\n",
              "  </tbody>\n",
              "</table>\n",
              "</div>"
            ],
            "text/plain": [
              "     Fare  Pclass\n",
              "179   0.0     3.0\n",
              "263   0.0     1.0\n",
              "271   0.0     3.0\n",
              "277   0.0     2.0\n",
              "302   0.0     3.0\n",
              "413   0.0     2.0\n",
              "466   0.0     2.0\n",
              "481   0.0     2.0\n",
              "597   0.0     3.0\n",
              "633   0.0     1.0\n",
              "674   0.0     2.0\n",
              "732   0.0     2.0\n",
              "806   0.0     1.0\n",
              "815   0.0     1.0\n",
              "822   0.0     1.0"
            ]
          },
          "metadata": {
            "tags": []
          },
          "execution_count": 212
        }
      ]
    },
    {
      "cell_type": "code",
      "metadata": {
        "id": "fatal-given",
        "colab": {
          "base_uri": "https://localhost:8080/"
        },
        "outputId": "07eeb668-3a0b-47d6-afbe-5ae9b4d62a89"
      },
      "source": [
        "pclass_mean1 = round(train_data['Fare'][train_data['Pclass'] == 1].mean(), 4)\n",
        "pclass_mean2 = round(train_data['Fare'][train_data['Pclass'] == 2].mean(), 4)\n",
        "pclass_mean3 = round(train_data['Fare'][train_data['Pclass'] == 3].mean(), 4)\n",
        "print(f'Mean 1: {pclass_mean1}, Mean 2: {pclass_mean2}, Mean : {pclass_mean3}')"
      ],
      "id": "fatal-given",
      "execution_count": null,
      "outputs": [
        {
          "output_type": "stream",
          "text": [
            "Mean 1: 84.1547, Mean 2: 20.6622, Mean : 13.6756\n"
          ],
          "name": "stdout"
        }
      ]
    },
    {
      "cell_type": "code",
      "metadata": {
        "scrolled": true,
        "id": "communist-gospel",
        "colab": {
          "base_uri": "https://localhost:8080/"
        },
        "outputId": "9d77f10c-8a37-4305-99d7-22d64d6a1eac"
      },
      "source": [
        "train_data['Fare'][(train_data['Pclass'] == 1) & (train_data['Fare'] == 0)] = pclass_mean1\n",
        "train_data['Fare'][(train_data['Pclass'] == 2) & (train_data['Fare'] == 0)] = pclass_mean2\n",
        "train_data['Fare'][(train_data['Pclass'] == 3) & (train_data['Fare'] == 0)] = pclass_mean3"
      ],
      "id": "communist-gospel",
      "execution_count": null,
      "outputs": [
        {
          "output_type": "stream",
          "text": [
            "/usr/local/lib/python3.7/dist-packages/ipykernel_launcher.py:1: SettingWithCopyWarning: \n",
            "A value is trying to be set on a copy of a slice from a DataFrame\n",
            "\n",
            "See the caveats in the documentation: https://pandas.pydata.org/pandas-docs/stable/user_guide/indexing.html#returning-a-view-versus-a-copy\n",
            "  \"\"\"Entry point for launching an IPython kernel.\n",
            "/usr/local/lib/python3.7/dist-packages/ipykernel_launcher.py:2: SettingWithCopyWarning: \n",
            "A value is trying to be set on a copy of a slice from a DataFrame\n",
            "\n",
            "See the caveats in the documentation: https://pandas.pydata.org/pandas-docs/stable/user_guide/indexing.html#returning-a-view-versus-a-copy\n",
            "  \n",
            "/usr/local/lib/python3.7/dist-packages/ipykernel_launcher.py:3: SettingWithCopyWarning: \n",
            "A value is trying to be set on a copy of a slice from a DataFrame\n",
            "\n",
            "See the caveats in the documentation: https://pandas.pydata.org/pandas-docs/stable/user_guide/indexing.html#returning-a-view-versus-a-copy\n",
            "  This is separate from the ipykernel package so we can avoid doing imports until\n"
          ],
          "name": "stderr"
        }
      ]
    },
    {
      "cell_type": "code",
      "metadata": {
        "id": "coated-senate",
        "colab": {
          "base_uri": "https://localhost:8080/",
          "height": 483
        },
        "outputId": "558bb0d6-f81f-4bb5-ce37-b5deea4b0fd2"
      },
      "source": [
        "train_data['Fare'].hist(bins=50, figsize=(12, 8))\n",
        "plt.show()"
      ],
      "id": "coated-senate",
      "execution_count": null,
      "outputs": [
        {
          "output_type": "display_data",
          "data": {
            "image/png": "[encoded data removed]",
            "text/plain": [
              "<Figure size 864x576 with 1 Axes>"
            ]
          },
          "metadata": {
            "tags": [],
            "needs_background": "light"
          }
        }
      ]
    },
    {
      "cell_type": "markdown",
      "metadata": {
        "id": "chemical-louis"
      },
      "source": [
        "Due to the disparity of the fare this notebook will create **FareGroup** feature as classified as:\n",
        "\n",
        "0-40 -> Low(1)\n",
        "\n",
        "41-100 -> Mid(2)\n",
        "\n",
        "101-200 -> High(3)\n",
        "\n",
        "201-500+ -> V.High(4)"
      ],
      "id": "chemical-louis"
    },
    {
      "cell_type": "code",
      "metadata": {
        "id": "elder-copyright",
        "colab": {
          "base_uri": "https://localhost:8080/",
          "height": 289
        },
        "outputId": "801155e0-d3eb-494e-cf75-19af949d2f9f"
      },
      "source": [
        "train_data['FareGroup'] = pd.cut(train_data['Fare'], bins = [0, 41, 101, 201, np.inf], labels=[1, 2, 3, 4]).astype(int)\n",
        "train_data.head()"
      ],
      "id": "elder-copyright",
      "execution_count": null,
      "outputs": [
        {
          "output_type": "execute_result",
          "data": {
            "text/html": [
              "<div>\n",
              "<style scoped>\n",
              "    .dataframe tbody tr th:only-of-type {\n",
              "        vertical-align: middle;\n",
              "    }\n",
              "\n",
              "    .dataframe tbody tr th {\n",
              "        vertical-align: top;\n",
              "    }\n",
              "\n",
              "    .dataframe thead th {\n",
              "        text-align: right;\n",
              "    }\n",
              "</style>\n",
              "<table border=\"1\" class=\"dataframe\">\n",
              "  <thead>\n",
              "    <tr style=\"text-align: right;\">\n",
              "      <th></th>\n",
              "      <th>Survived</th>\n",
              "      <th>Pclass</th>\n",
              "      <th>Age</th>\n",
              "      <th>SibSp</th>\n",
              "      <th>Parch</th>\n",
              "      <th>Fare</th>\n",
              "      <th>Sex_male</th>\n",
              "      <th>Embarked_Q</th>\n",
              "      <th>Embarked_S</th>\n",
              "      <th>Sex</th>\n",
              "      <th>Embarked</th>\n",
              "      <th>PassengerId</th>\n",
              "      <th>Name</th>\n",
              "      <th>AgeGroup</th>\n",
              "      <th>FareGroup</th>\n",
              "    </tr>\n",
              "  </thead>\n",
              "  <tbody>\n",
              "    <tr>\n",
              "      <th>0</th>\n",
              "      <td>0.0</td>\n",
              "      <td>3.0</td>\n",
              "      <td>22.0</td>\n",
              "      <td>1.0</td>\n",
              "      <td>0.0</td>\n",
              "      <td>7.2500</td>\n",
              "      <td>1.0</td>\n",
              "      <td>0.0</td>\n",
              "      <td>1.0</td>\n",
              "      <td>male</td>\n",
              "      <td>S</td>\n",
              "      <td>1</td>\n",
              "      <td>Braund, Mr. Owen Harris</td>\n",
              "      <td>Youth</td>\n",
              "      <td>1</td>\n",
              "    </tr>\n",
              "    <tr>\n",
              "      <th>1</th>\n",
              "      <td>1.0</td>\n",
              "      <td>1.0</td>\n",
              "      <td>38.0</td>\n",
              "      <td>1.0</td>\n",
              "      <td>0.0</td>\n",
              "      <td>71.2833</td>\n",
              "      <td>0.0</td>\n",
              "      <td>0.0</td>\n",
              "      <td>0.0</td>\n",
              "      <td>female</td>\n",
              "      <td>C</td>\n",
              "      <td>2</td>\n",
              "      <td>Cumings, Mrs. John Bradley (Florence Briggs Th...</td>\n",
              "      <td>Adult</td>\n",
              "      <td>2</td>\n",
              "    </tr>\n",
              "    <tr>\n",
              "      <th>2</th>\n",
              "      <td>1.0</td>\n",
              "      <td>3.0</td>\n",
              "      <td>26.0</td>\n",
              "      <td>0.0</td>\n",
              "      <td>0.0</td>\n",
              "      <td>7.9250</td>\n",
              "      <td>0.0</td>\n",
              "      <td>0.0</td>\n",
              "      <td>1.0</td>\n",
              "      <td>female</td>\n",
              "      <td>S</td>\n",
              "      <td>3</td>\n",
              "      <td>Heikkinen, Miss. Laina</td>\n",
              "      <td>Youth</td>\n",
              "      <td>1</td>\n",
              "    </tr>\n",
              "    <tr>\n",
              "      <th>3</th>\n",
              "      <td>1.0</td>\n",
              "      <td>1.0</td>\n",
              "      <td>35.0</td>\n",
              "      <td>1.0</td>\n",
              "      <td>0.0</td>\n",
              "      <td>53.1000</td>\n",
              "      <td>0.0</td>\n",
              "      <td>0.0</td>\n",
              "      <td>1.0</td>\n",
              "      <td>female</td>\n",
              "      <td>S</td>\n",
              "      <td>4</td>\n",
              "      <td>Futrelle, Mrs. Jacques Heath (Lily May Peel)</td>\n",
              "      <td>Youth</td>\n",
              "      <td>2</td>\n",
              "    </tr>\n",
              "    <tr>\n",
              "      <th>4</th>\n",
              "      <td>0.0</td>\n",
              "      <td>3.0</td>\n",
              "      <td>35.0</td>\n",
              "      <td>0.0</td>\n",
              "      <td>0.0</td>\n",
              "      <td>8.0500</td>\n",
              "      <td>1.0</td>\n",
              "      <td>0.0</td>\n",
              "      <td>1.0</td>\n",
              "      <td>male</td>\n",
              "      <td>S</td>\n",
              "      <td>5</td>\n",
              "      <td>Allen, Mr. William Henry</td>\n",
              "      <td>Youth</td>\n",
              "      <td>1</td>\n",
              "    </tr>\n",
              "  </tbody>\n",
              "</table>\n",
              "</div>"
            ],
            "text/plain": [
              "   Survived  Pclass  ...  AgeGroup  FareGroup\n",
              "0       0.0     3.0  ...     Youth          1\n",
              "1       1.0     1.0  ...     Adult          2\n",
              "2       1.0     3.0  ...     Youth          1\n",
              "3       1.0     1.0  ...     Youth          2\n",
              "4       0.0     3.0  ...     Youth          1\n",
              "\n",
              "[5 rows x 15 columns]"
            ]
          },
          "metadata": {
            "tags": []
          },
          "execution_count": 216
        }
      ]
    },
    {
      "cell_type": "markdown",
      "metadata": {
        "id": "national-florence"
      },
      "source": [
        "8. **Embarked**"
      ],
      "id": "national-florence"
    },
    {
      "cell_type": "code",
      "metadata": {
        "id": "instrumental-watts",
        "colab": {
          "base_uri": "https://localhost:8080/",
          "height": 279
        },
        "outputId": "2ed3f21e-c701-4158-b211-d6b5ed09f434"
      },
      "source": [
        "sns.barplot(data=train_data, x='Embarked', y='Survived', hue='Embarked')\n",
        "plt.show()"
      ],
      "id": "instrumental-watts",
      "execution_count": null,
      "outputs": [
        {
          "output_type": "display_data",
          "data": {
            "image/png": "[encoded data removed]",
            "text/plain": [
              "<Figure size 432x288 with 1 Axes>"
            ]
          },
          "metadata": {
            "tags": [],
            "needs_background": "light"
          }
        }
      ]
    },
    {
      "cell_type": "markdown",
      "metadata": {
        "id": "available-correlation"
      },
      "source": [
        "**Observations**\n",
        "\n",
        "Passengers who embarked at Cherbourg had a high likelihood of survival with those at Southampton having the lowest of the three embarkment points.\n",
        "\n",
        "9. **Name**"
      ],
      "id": "available-correlation"
    },
    {
      "cell_type": "code",
      "metadata": {
        "id": "durable-process"
      },
      "source": [
        "# Funtion to take the dataframe and feature, pick the title and return a list of the titles\n",
        "def titling(X, attrib):\n",
        "    titles = []\n",
        "    for i in range(len(X)):\n",
        "        titles.append(str(df_train[attrib][i]).split('.')[0].split(',')[1].strip(' '))\n",
        "    \n",
        "    return titles"
      ],
      "id": "durable-process",
      "execution_count": null,
      "outputs": []
    },
    {
      "cell_type": "code",
      "metadata": {
        "id": "temporal-bunch",
        "colab": {
          "base_uri": "https://localhost:8080/"
        },
        "outputId": "d5de3628-5433-4a0c-afa8-f0bc08852c80"
      },
      "source": [
        "train_data['Title'] = titling(train_data, 'Name')\n",
        "train_data['Title'].unique()"
      ],
      "id": "temporal-bunch",
      "execution_count": null,
      "outputs": [
        {
          "output_type": "execute_result",
          "data": {
            "text/plain": [
              "array(['Mr', 'Mrs', 'Miss', 'Master', 'Don', 'Rev', 'Dr', 'Mme', 'Ms',\n",
              "       'Major', 'Lady', 'Sir', 'Mlle', 'Col', 'Capt', 'the Countess',\n",
              "       'Jonkheer'], dtype=object)"
            ]
          },
          "metadata": {
            "tags": []
          },
          "execution_count": 219
        }
      ]
    },
    {
      "cell_type": "code",
      "metadata": {
        "id": "funky-prospect",
        "colab": {
          "base_uri": "https://localhost:8080/",
          "height": 758
        },
        "outputId": "4875bf3f-8cef-4251-d4cb-a2366ae0cb64"
      },
      "source": [
        "plt.figure(figsize=(18, 12))\n",
        "g = sns.barplot(data=train_data, x='Title', y='Survived')\n",
        "g.set_xticklabels(labels=train_data['Title'].unique(), rotation=45)\n",
        "plt.show()"
      ],
      "id": "funky-prospect",
      "execution_count": null,
      "outputs": [
        {
          "output_type": "display_data",
          "data": {
            "image/png": "[encoded data removed]",
            "text/plain": [
              "<Figure size 1296x864 with 1 Axes>"
            ]
          },
          "metadata": {
            "tags": [],
            "needs_background": "light"
          }
        }
      ]
    },
    {
      "cell_type": "markdown",
      "metadata": {
        "id": "personalized-battle"
      },
      "source": [
        "**Observations**\n",
        "\n",
        "From the plot above there is a classification of title and their survival rate. Royal titles had a good survival rate. Common titles had a fair chance of survival and lowest level had the poorest chance in survival.\n",
        "\n",
        "Classes for the titles will be:\n",
        "\n",
        "[Master, Major, Lady, Sir, Col, the Countess] -> Royal(1)\n",
        "\n",
        "[Mr, Mrs, Miss, Dr, Mme, Ms, Mlle] -> Common(2)\n",
        "\n",
        "[Don, Rev, Capt, Jonkheer] -> Low(3)\n",
        "\n",
        "This notebook will use label encoding."
      ],
      "id": "personalized-battle"
    },
    {
      "cell_type": "code",
      "metadata": {
        "id": "whole-consumer"
      },
      "source": [
        "def tilgrouping(X, attrib):\n",
        "    royal = ['Master', 'Major', 'Lady', 'Sir', 'Col', 'the Countess']\n",
        "    common = ['Mr', 'Mrs', 'Miss', 'Dr', 'Mme', 'Ms', 'Mlle']\n",
        "    low = ['Don', 'Rev', 'Capt', 'Jonkheer']\n",
        "    \n",
        "    titleg = []\n",
        "    \n",
        "    for i in range(len(X[attrib])):\n",
        "        if (X[attrib][i]) in royal:\n",
        "            titleg.append(1)\n",
        "        elif (X[attrib][i]) in common:\n",
        "            titleg.append(2)\n",
        "        elif (X[attrib][i]) in low:\n",
        "            titleg.append(3)\n",
        "    \n",
        "    return titleg"
      ],
      "id": "whole-consumer",
      "execution_count": null,
      "outputs": []
    },
    {
      "cell_type": "code",
      "metadata": {
        "id": "cubic-carpet",
        "colab": {
          "base_uri": "https://localhost:8080/",
          "height": 496
        },
        "outputId": "af774b6b-7105-4af8-9fa9-67e78d72ccc6"
      },
      "source": [
        "train_data['TitleGroup'] = tilgrouping(train_data, 'Title')\n",
        "train_data.head()"
      ],
      "id": "cubic-carpet",
      "execution_count": null,
      "outputs": [
        {
          "output_type": "execute_result",
          "data": {
            "text/html": [
              "<div>\n",
              "<style scoped>\n",
              "    .dataframe tbody tr th:only-of-type {\n",
              "        vertical-align: middle;\n",
              "    }\n",
              "\n",
              "    .dataframe tbody tr th {\n",
              "        vertical-align: top;\n",
              "    }\n",
              "\n",
              "    .dataframe thead th {\n",
              "        text-align: right;\n",
              "    }\n",
              "</style>\n",
              "<table border=\"1\" class=\"dataframe\">\n",
              "  <thead>\n",
              "    <tr style=\"text-align: right;\">\n",
              "      <th></th>\n",
              "      <th>Survived</th>\n",
              "      <th>Pclass</th>\n",
              "      <th>Age</th>\n",
              "      <th>SibSp</th>\n",
              "      <th>Parch</th>\n",
              "      <th>Fare</th>\n",
              "      <th>Sex_male</th>\n",
              "      <th>Embarked_Q</th>\n",
              "      <th>Embarked_S</th>\n",
              "      <th>Sex</th>\n",
              "      <th>Embarked</th>\n",
              "      <th>PassengerId</th>\n",
              "      <th>Name</th>\n",
              "      <th>AgeGroup</th>\n",
              "      <th>FareGroup</th>\n",
              "      <th>Title</th>\n",
              "      <th>TitleGroup</th>\n",
              "    </tr>\n",
              "  </thead>\n",
              "  <tbody>\n",
              "    <tr>\n",
              "      <th>0</th>\n",
              "      <td>0.0</td>\n",
              "      <td>3.0</td>\n",
              "      <td>22.0</td>\n",
              "      <td>1.0</td>\n",
              "      <td>0.0</td>\n",
              "      <td>7.2500</td>\n",
              "      <td>1.0</td>\n",
              "      <td>0.0</td>\n",
              "      <td>1.0</td>\n",
              "      <td>male</td>\n",
              "      <td>S</td>\n",
              "      <td>1</td>\n",
              "      <td>Braund, Mr. Owen Harris</td>\n",
              "      <td>Youth</td>\n",
              "      <td>1</td>\n",
              "      <td>Mr</td>\n",
              "      <td>2</td>\n",
              "    </tr>\n",
              "    <tr>\n",
              "      <th>1</th>\n",
              "      <td>1.0</td>\n",
              "      <td>1.0</td>\n",
              "      <td>38.0</td>\n",
              "      <td>1.0</td>\n",
              "      <td>0.0</td>\n",
              "      <td>71.2833</td>\n",
              "      <td>0.0</td>\n",
              "      <td>0.0</td>\n",
              "      <td>0.0</td>\n",
              "      <td>female</td>\n",
              "      <td>C</td>\n",
              "      <td>2</td>\n",
              "      <td>Cumings, Mrs. John Bradley (Florence Briggs Th...</td>\n",
              "      <td>Adult</td>\n",
              "      <td>2</td>\n",
              "      <td>Mrs</td>\n",
              "      <td>2</td>\n",
              "    </tr>\n",
              "    <tr>\n",
              "      <th>2</th>\n",
              "      <td>1.0</td>\n",
              "      <td>3.0</td>\n",
              "      <td>26.0</td>\n",
              "      <td>0.0</td>\n",
              "      <td>0.0</td>\n",
              "      <td>7.9250</td>\n",
              "      <td>0.0</td>\n",
              "      <td>0.0</td>\n",
              "      <td>1.0</td>\n",
              "      <td>female</td>\n",
              "      <td>S</td>\n",
              "      <td>3</td>\n",
              "      <td>Heikkinen, Miss. Laina</td>\n",
              "      <td>Youth</td>\n",
              "      <td>1</td>\n",
              "      <td>Miss</td>\n",
              "      <td>2</td>\n",
              "    </tr>\n",
              "    <tr>\n",
              "      <th>3</th>\n",
              "      <td>1.0</td>\n",
              "      <td>1.0</td>\n",
              "      <td>35.0</td>\n",
              "      <td>1.0</td>\n",
              "      <td>0.0</td>\n",
              "      <td>53.1000</td>\n",
              "      <td>0.0</td>\n",
              "      <td>0.0</td>\n",
              "      <td>1.0</td>\n",
              "      <td>female</td>\n",
              "      <td>S</td>\n",
              "      <td>4</td>\n",
              "      <td>Futrelle, Mrs. Jacques Heath (Lily May Peel)</td>\n",
              "      <td>Youth</td>\n",
              "      <td>2</td>\n",
              "      <td>Mrs</td>\n",
              "      <td>2</td>\n",
              "    </tr>\n",
              "    <tr>\n",
              "      <th>4</th>\n",
              "      <td>0.0</td>\n",
              "      <td>3.0</td>\n",
              "      <td>35.0</td>\n",
              "      <td>0.0</td>\n",
              "      <td>0.0</td>\n",
              "      <td>8.0500</td>\n",
              "      <td>1.0</td>\n",
              "      <td>0.0</td>\n",
              "      <td>1.0</td>\n",
              "      <td>male</td>\n",
              "      <td>S</td>\n",
              "      <td>5</td>\n",
              "      <td>Allen, Mr. William Henry</td>\n",
              "      <td>Youth</td>\n",
              "      <td>1</td>\n",
              "      <td>Mr</td>\n",
              "      <td>2</td>\n",
              "    </tr>\n",
              "  </tbody>\n",
              "</table>\n",
              "</div>"
            ],
            "text/plain": [
              "   Survived  Pclass   Age  SibSp  ...  AgeGroup  FareGroup  Title  TitleGroup\n",
              "0       0.0     3.0  22.0    1.0  ...     Youth          1     Mr           2\n",
              "1       1.0     1.0  38.0    1.0  ...     Adult          2    Mrs           2\n",
              "2       1.0     3.0  26.0    0.0  ...     Youth          1   Miss           2\n",
              "3       1.0     1.0  35.0    1.0  ...     Youth          2    Mrs           2\n",
              "4       0.0     3.0  35.0    0.0  ...     Youth          1     Mr           2\n",
              "\n",
              "[5 rows x 17 columns]"
            ]
          },
          "metadata": {
            "tags": []
          },
          "execution_count": 222
        }
      ]
    },
    {
      "cell_type": "code",
      "metadata": {
        "id": "handy-observer",
        "colab": {
          "base_uri": "https://localhost:8080/",
          "height": 279
        },
        "outputId": "fc9f273f-e67d-40a2-dfa6-2331d7ccd610"
      },
      "source": [
        "sns.barplot(data=train_data, x='TitleGroup', y='Survived', hue='TitleGroup')\n",
        "plt.show()"
      ],
      "id": "handy-observer",
      "execution_count": null,
      "outputs": [
        {
          "output_type": "display_data",
          "data": {
            "image/png": "[encoded data removed]",
            "text/plain": [
              "<Figure size 432x288 with 1 Axes>"
            ]
          },
          "metadata": {
            "tags": [],
            "needs_background": "light"
          }
        }
      ]
    },
    {
      "cell_type": "markdown",
      "metadata": {
        "id": "documented-wholesale"
      },
      "source": [
        "**Observations**\n",
        "\n",
        "1. Class 1 which is royal has the higest chance at survival with:\n",
        "2. class 3 with the lowest chance at survival"
      ],
      "id": "documented-wholesale"
    },
    {
      "cell_type": "markdown",
      "metadata": {
        "id": "studied-stadium"
      },
      "source": [
        "10. **Family Size and Family Type**\n",
        "\n",
        "The Family Size and Family type are features engineered from _SibSp_ and _Parch_ features which singly have different effects on survival and this notebook wants to explore if they are combine what their effect is."
      ],
      "id": "studied-stadium"
    },
    {
      "cell_type": "code",
      "metadata": {
        "id": "interstate-twelve",
        "colab": {
          "base_uri": "https://localhost:8080/",
          "height": 496
        },
        "outputId": "d53af084-bdc4-4ef3-fc1d-60335a9e6e7e"
      },
      "source": [
        "train_data['FamilySize'] = train_data['SibSp'] + train_data['Parch']\n",
        "train_data.head()"
      ],
      "id": "interstate-twelve",
      "execution_count": null,
      "outputs": [
        {
          "output_type": "execute_result",
          "data": {
            "text/html": [
              "<div>\n",
              "<style scoped>\n",
              "    .dataframe tbody tr th:only-of-type {\n",
              "        vertical-align: middle;\n",
              "    }\n",
              "\n",
              "    .dataframe tbody tr th {\n",
              "        vertical-align: top;\n",
              "    }\n",
              "\n",
              "    .dataframe thead th {\n",
              "        text-align: right;\n",
              "    }\n",
              "</style>\n",
              "<table border=\"1\" class=\"dataframe\">\n",
              "  <thead>\n",
              "    <tr style=\"text-align: right;\">\n",
              "      <th></th>\n",
              "      <th>Survived</th>\n",
              "      <th>Pclass</th>\n",
              "      <th>Age</th>\n",
              "      <th>SibSp</th>\n",
              "      <th>Parch</th>\n",
              "      <th>Fare</th>\n",
              "      <th>Sex_male</th>\n",
              "      <th>Embarked_Q</th>\n",
              "      <th>Embarked_S</th>\n",
              "      <th>Sex</th>\n",
              "      <th>Embarked</th>\n",
              "      <th>PassengerId</th>\n",
              "      <th>Name</th>\n",
              "      <th>AgeGroup</th>\n",
              "      <th>FareGroup</th>\n",
              "      <th>Title</th>\n",
              "      <th>TitleGroup</th>\n",
              "      <th>FamilySize</th>\n",
              "    </tr>\n",
              "  </thead>\n",
              "  <tbody>\n",
              "    <tr>\n",
              "      <th>0</th>\n",
              "      <td>0.0</td>\n",
              "      <td>3.0</td>\n",
              "      <td>22.0</td>\n",
              "      <td>1.0</td>\n",
              "      <td>0.0</td>\n",
              "      <td>7.2500</td>\n",
              "      <td>1.0</td>\n",
              "      <td>0.0</td>\n",
              "      <td>1.0</td>\n",
              "      <td>male</td>\n",
              "      <td>S</td>\n",
              "      <td>1</td>\n",
              "      <td>Braund, Mr. Owen Harris</td>\n",
              "      <td>Youth</td>\n",
              "      <td>1</td>\n",
              "      <td>Mr</td>\n",
              "      <td>2</td>\n",
              "      <td>1.0</td>\n",
              "    </tr>\n",
              "    <tr>\n",
              "      <th>1</th>\n",
              "      <td>1.0</td>\n",
              "      <td>1.0</td>\n",
              "      <td>38.0</td>\n",
              "      <td>1.0</td>\n",
              "      <td>0.0</td>\n",
              "      <td>71.2833</td>\n",
              "      <td>0.0</td>\n",
              "      <td>0.0</td>\n",
              "      <td>0.0</td>\n",
              "      <td>female</td>\n",
              "      <td>C</td>\n",
              "      <td>2</td>\n",
              "      <td>Cumings, Mrs. John Bradley (Florence Briggs Th...</td>\n",
              "      <td>Adult</td>\n",
              "      <td>2</td>\n",
              "      <td>Mrs</td>\n",
              "      <td>2</td>\n",
              "      <td>1.0</td>\n",
              "    </tr>\n",
              "    <tr>\n",
              "      <th>2</th>\n",
              "      <td>1.0</td>\n",
              "      <td>3.0</td>\n",
              "      <td>26.0</td>\n",
              "      <td>0.0</td>\n",
              "      <td>0.0</td>\n",
              "      <td>7.9250</td>\n",
              "      <td>0.0</td>\n",
              "      <td>0.0</td>\n",
              "      <td>1.0</td>\n",
              "      <td>female</td>\n",
              "      <td>S</td>\n",
              "      <td>3</td>\n",
              "      <td>Heikkinen, Miss. Laina</td>\n",
              "      <td>Youth</td>\n",
              "      <td>1</td>\n",
              "      <td>Miss</td>\n",
              "      <td>2</td>\n",
              "      <td>0.0</td>\n",
              "    </tr>\n",
              "    <tr>\n",
              "      <th>3</th>\n",
              "      <td>1.0</td>\n",
              "      <td>1.0</td>\n",
              "      <td>35.0</td>\n",
              "      <td>1.0</td>\n",
              "      <td>0.0</td>\n",
              "      <td>53.1000</td>\n",
              "      <td>0.0</td>\n",
              "      <td>0.0</td>\n",
              "      <td>1.0</td>\n",
              "      <td>female</td>\n",
              "      <td>S</td>\n",
              "      <td>4</td>\n",
              "      <td>Futrelle, Mrs. Jacques Heath (Lily May Peel)</td>\n",
              "      <td>Youth</td>\n",
              "      <td>2</td>\n",
              "      <td>Mrs</td>\n",
              "      <td>2</td>\n",
              "      <td>1.0</td>\n",
              "    </tr>\n",
              "    <tr>\n",
              "      <th>4</th>\n",
              "      <td>0.0</td>\n",
              "      <td>3.0</td>\n",
              "      <td>35.0</td>\n",
              "      <td>0.0</td>\n",
              "      <td>0.0</td>\n",
              "      <td>8.0500</td>\n",
              "      <td>1.0</td>\n",
              "      <td>0.0</td>\n",
              "      <td>1.0</td>\n",
              "      <td>male</td>\n",
              "      <td>S</td>\n",
              "      <td>5</td>\n",
              "      <td>Allen, Mr. William Henry</td>\n",
              "      <td>Youth</td>\n",
              "      <td>1</td>\n",
              "      <td>Mr</td>\n",
              "      <td>2</td>\n",
              "      <td>0.0</td>\n",
              "    </tr>\n",
              "  </tbody>\n",
              "</table>\n",
              "</div>"
            ],
            "text/plain": [
              "   Survived  Pclass   Age  SibSp  ...  FareGroup  Title  TitleGroup  FamilySize\n",
              "0       0.0     3.0  22.0    1.0  ...          1     Mr           2         1.0\n",
              "1       1.0     1.0  38.0    1.0  ...          2    Mrs           2         1.0\n",
              "2       1.0     3.0  26.0    0.0  ...          1   Miss           2         0.0\n",
              "3       1.0     1.0  35.0    1.0  ...          2    Mrs           2         1.0\n",
              "4       0.0     3.0  35.0    0.0  ...          1     Mr           2         0.0\n",
              "\n",
              "[5 rows x 18 columns]"
            ]
          },
          "metadata": {
            "tags": []
          },
          "execution_count": 224
        }
      ]
    },
    {
      "cell_type": "code",
      "metadata": {
        "id": "intelligent-small",
        "colab": {
          "base_uri": "https://localhost:8080/",
          "height": 483
        },
        "outputId": "dd3e6cb6-2519-4f6d-f941-557dd7d22b93"
      },
      "source": [
        "train_data['FamilySize'].hist(bins =5, figsize=(12, 8))\n",
        "plt.show()"
      ],
      "id": "intelligent-small",
      "execution_count": null,
      "outputs": [
        {
          "output_type": "display_data",
          "data": {
            "image/png": "[encoded data removed]",
            "text/plain": [
              "<Figure size 864x576 with 1 Axes>"
            ]
          },
          "metadata": {
            "tags": [],
            "needs_background": "light"
          }
        }
      ]
    },
    {
      "cell_type": "code",
      "metadata": {
        "id": "tribal-attack"
      },
      "source": [
        "train_data['FamilyType'] = pd.cut(train_data['FamilySize'], bins=[-1, 0.5, 4, np.inf], labels=['Alone', 'Small', 'Big'])"
      ],
      "id": "tribal-attack",
      "execution_count": null,
      "outputs": []
    },
    {
      "cell_type": "code",
      "metadata": {
        "id": "crude-appreciation",
        "colab": {
          "base_uri": "https://localhost:8080/",
          "height": 279
        },
        "outputId": "e0c89bd5-8410-4fce-96ce-5735a7d99ca1"
      },
      "source": [
        "sns.barplot(data=train_data, x='FamilyType', y ='Survived', hue='FamilyType')\n",
        "plt.show()"
      ],
      "id": "crude-appreciation",
      "execution_count": null,
      "outputs": [
        {
          "output_type": "display_data",
          "data": {
            "image/png": "[encoded data removed]",
            "text/plain": [
              "<Figure size 432x288 with 1 Axes>"
            ]
          },
          "metadata": {
            "tags": [],
            "needs_background": "light"
          }
        }
      ]
    },
    {
      "cell_type": "markdown",
      "metadata": {
        "id": "junior-frontier"
      },
      "source": [
        "#### Creating a Clean Train, Validation and Test Data\n",
        "\n",
        "Before delving into modelling and any transformation, this notebook first identifies the necessary features. Then it splits the **train_data** into **train** and **validation** datasets. Lastly transformations required follow.\n",
        "\n",
        "Required features: 'Survived', 'Pclass', 'Sex', 'Age', 'SibSp', 'Parch', 'Fare', 'Embarked', 'AgeGroup', 'FareGroup', 'TitleGroup', 'FamilySize', 'FamilyType'\n",
        "\n",
        "Features for Encoding: 'Sex', 'Embarked', 'AgeGroup', 'FamilyType'\n",
        "\n",
        "###### **One-Hot Encoding**\n",
        "1. Sex\n",
        "2. Embarked\n",
        "3. AgeGroup\n",
        "\n",
        "###### **Label Encoding**\n",
        "1. FamilyType"
      ],
      "id": "junior-frontier"
    },
    {
      "cell_type": "code",
      "metadata": {
        "id": "h7dlKIUXAINx"
      },
      "source": [
        "from sklearn.model_selection import train_test_split\n",
        "\n",
        "X_train, X_valid, y_train, y_valid = train_test_split(train_data[['Pclass', 'Sex', 'Age', 'SibSp', 'Parch', \n",
        "                                                                 'Fare', 'Embarked', 'AgeGroup', 'FareGroup', 'TitleGroup', 'FamilySize', 'FamilyType']], train_data[['Survived']], test_size=0.3, random_state=42)"
      ],
      "id": "h7dlKIUXAINx",
      "execution_count": null,
      "outputs": []
    },
    {
      "cell_type": "markdown",
      "metadata": {
        "id": "zI0MNubfBbLP"
      },
      "source": [
        "#### **One Hot Encoding**"
      ],
      "id": "zI0MNubfBbLP"
    },
    {
      "cell_type": "code",
      "metadata": {
        "id": "PAxWIVjsBreL"
      },
      "source": [
        "dummies = pd.get_dummies(X_train[['Sex', 'Embarked', 'AgeGroup']], drop_first=True)\n",
        "inputs = pd.concat([X_train.drop(['Sex', 'Embarked', 'AgeGroup'], axis=1), dummies], axis=1)"
      ],
      "id": "PAxWIVjsBreL",
      "execution_count": null,
      "outputs": []
    },
    {
      "cell_type": "code",
      "metadata": {
        "id": "indirect-piece"
      },
      "source": [
        "from sklearn.preprocessing import LabelEncoder\n",
        "le = LabelEncoder()"
      ],
      "id": "indirect-piece",
      "execution_count": null,
      "outputs": []
    },
    {
      "cell_type": "code",
      "metadata": {
        "id": "logical-counter"
      },
      "source": [
        "le.fit(inputs['FamilyType'])\n",
        "inputs['FamilyType'] = le.transform(inputs['FamilyType'])"
      ],
      "id": "logical-counter",
      "execution_count": null,
      "outputs": []
    },
    {
      "cell_type": "markdown",
      "metadata": {
        "id": "noted-conservation"
      },
      "source": [
        "#### Testing Different Models\n",
        "\n",
        "This notebook will try and test the following models:\n",
        "\n",
        "1. Random Forest\n",
        "2. LightGBM\n",
        "3. SVC\n",
        "4. KNN\n",
        "5. AdaBoost\n",
        "\n",
        "6. CatBoost\n",
        "\n",
        "From the 6 the best will then be selected to be used to predict survival of passengers in the test dataset"
      ],
      "id": "noted-conservation"
    },
    {
      "cell_type": "code",
      "metadata": {
        "colab": {
          "base_uri": "https://localhost:8080/"
        },
        "id": "654H7c39D1_X",
        "outputId": "eee418aa-089b-4ba6-8ef8-45c6db8b6ea0"
      },
      "source": [
        "!pip install catboost"
      ],
      "id": "654H7c39D1_X",
      "execution_count": null,
      "outputs": [
        {
          "output_type": "stream",
          "text": [
            "Requirement already satisfied: catboost in /usr/local/lib/python3.7/dist-packages (0.25.1)\n",
            "Requirement already satisfied: scipy in /usr/local/lib/python3.7/dist-packages (from catboost) (1.4.1)\n",
            "Requirement already satisfied: pandas>=0.24.0 in /usr/local/lib/python3.7/dist-packages (from catboost) (1.1.5)\n",
            "Requirement already satisfied: plotly in /usr/local/lib/python3.7/dist-packages (from catboost) (4.4.1)\n",
            "Requirement already satisfied: numpy>=1.16.0 in /usr/local/lib/python3.7/dist-packages (from catboost) (1.19.5)\n",
            "Requirement already satisfied: graphviz in /usr/local/lib/python3.7/dist-packages (from catboost) (0.10.1)\n",
            "Requirement already satisfied: six in /usr/local/lib/python3.7/dist-packages (from catboost) (1.15.0)\n",
            "Requirement already satisfied: matplotlib in /usr/local/lib/python3.7/dist-packages (from catboost) (3.2.2)\n",
            "Requirement already satisfied: pytz>=2017.2 in /usr/local/lib/python3.7/dist-packages (from pandas>=0.24.0->catboost) (2018.9)\n",
            "Requirement already satisfied: python-dateutil>=2.7.3 in /usr/local/lib/python3.7/dist-packages (from pandas>=0.24.0->catboost) (2.8.1)\n",
            "Requirement already satisfied: retrying>=1.3.3 in /usr/local/lib/python3.7/dist-packages (from plotly->catboost) (1.3.3)\n",
            "Requirement already satisfied: kiwisolver>=1.0.1 in /usr/local/lib/python3.7/dist-packages (from matplotlib->catboost) (1.3.1)\n",
            "Requirement already satisfied: cycler>=0.10 in /usr/local/lib/python3.7/dist-packages (from matplotlib->catboost) (0.10.0)\n",
            "Requirement already satisfied: pyparsing!=2.0.4,!=2.1.2,!=2.1.6,>=2.0.1 in /usr/local/lib/python3.7/dist-packages (from matplotlib->catboost) (2.4.7)\n"
          ],
          "name": "stdout"
        }
      ]
    },
    {
      "cell_type": "code",
      "metadata": {
        "id": "naked-battery"
      },
      "source": [
        "\n",
        "from sklearn.ensemble import RandomForestClassifier\n",
        "from sklearn.svm import SVC\n",
        "from sklearn.neighbors import KNeighborsClassifier\n",
        "from catboost import CatBoostClassifier\n",
        "from sklearn.ensemble import AdaBoostClassifier\n",
        "from sklearn.metrics import accuracy_score, classification_report\n",
        "from sklearn.model_selection import cross_val_score\n",
        "from lightgbm import LGBMClassifier"
      ],
      "id": "naked-battery",
      "execution_count": null,
      "outputs": []
    },
    {
      "cell_type": "code",
      "metadata": {
        "id": "dimensional-posting"
      },
      "source": [
        "def display_scores(scores):\n",
        "    print('Scores: ', scores)\n",
        "    print('Mean Score:', scores.mean())\n",
        "    print('Std: ', scores.std())"
      ],
      "id": "dimensional-posting",
      "execution_count": null,
      "outputs": []
    },
    {
      "cell_type": "markdown",
      "metadata": {
        "id": "sunset-report"
      },
      "source": [
        "1. KNN"
      ],
      "id": "sunset-report"
    },
    {
      "cell_type": "code",
      "metadata": {
        "id": "positive-quarter",
        "colab": {
          "base_uri": "https://localhost:8080/"
        },
        "outputId": "ea8b1c65-0140-4807-9a86-4ecc9f5ca466"
      },
      "source": [
        "knn_cls = KNeighborsClassifier()\n",
        "scores_knn = cross_val_score(knn_cls, inputs, y_train.values.ravel(), scoring='accuracy', cv=10)\n",
        "\n",
        "display_scores(scores_knn)"
      ],
      "id": "positive-quarter",
      "execution_count": null,
      "outputs": [
        {
          "output_type": "stream",
          "text": [
            "Scores:  [0.61904762 0.73015873 0.71428571 0.69354839 0.66129032 0.69354839\n",
            " 0.67741935 0.70967742 0.72580645 0.70967742]\n",
            "Mean Score: 0.6934459805427547\n",
            "Std:  0.03190958480510952\n"
          ],
          "name": "stdout"
        }
      ]
    },
    {
      "cell_type": "markdown",
      "metadata": {
        "id": "sporting-operations"
      },
      "source": [
        "2. SVC"
      ],
      "id": "sporting-operations"
    },
    {
      "cell_type": "code",
      "metadata": {
        "id": "graphic-hobby",
        "colab": {
          "base_uri": "https://localhost:8080/"
        },
        "outputId": "814e2b3b-774b-4d27-f393-a2ff84882877"
      },
      "source": [
        "svc_cls = SVC()\n",
        "\n",
        "scores_svc = cross_val_score(svc_cls, inputs, y_train.values.ravel(), scoring='accuracy', cv=10)\n",
        "display_scores(scores_svc)"
      ],
      "id": "graphic-hobby",
      "execution_count": null,
      "outputs": [
        {
          "output_type": "stream",
          "text": [
            "Scores:  [0.68253968 0.68253968 0.71428571 0.69354839 0.62903226 0.61290323\n",
            " 0.66129032 0.64516129 0.69354839 0.70967742]\n",
            "Mean Score: 0.672452636968766\n",
            "Std:  0.032450155074130176\n"
          ],
          "name": "stdout"
        }
      ]
    },
    {
      "cell_type": "markdown",
      "metadata": {
        "id": "subsequent-astrology"
      },
      "source": [
        "3. Random Forest"
      ],
      "id": "subsequent-astrology"
    },
    {
      "cell_type": "code",
      "metadata": {
        "id": "coastal-latitude",
        "colab": {
          "base_uri": "https://localhost:8080/"
        },
        "outputId": "0396285a-f5ff-4a84-c780-aff77e9387c6"
      },
      "source": [
        "rf_cls = RandomForestClassifier()\n",
        "\n",
        "scores_rf = cross_val_score(rf_cls, inputs, y_train.values.ravel(), scoring='accuracy', cv=10)\n",
        "display_scores(scores_rf)"
      ],
      "id": "coastal-latitude",
      "execution_count": null,
      "outputs": [
        {
          "output_type": "stream",
          "text": [
            "Scores:  [0.82539683 0.79365079 0.84126984 0.85483871 0.82258065 0.77419355\n",
            " 0.82258065 0.79032258 0.82258065 0.88709677]\n",
            "Mean Score: 0.8234511008704557\n",
            "Std:  0.031259212708418825\n"
          ],
          "name": "stdout"
        }
      ]
    },
    {
      "cell_type": "markdown",
      "metadata": {
        "id": "sitting-stewart"
      },
      "source": [
        "4. LightGBM"
      ],
      "id": "sitting-stewart"
    },
    {
      "cell_type": "code",
      "metadata": {
        "id": "stable-record",
        "colab": {
          "base_uri": "https://localhost:8080/"
        },
        "outputId": "23e1e705-8d67-4473-bf60-a12681909782"
      },
      "source": [
        "lgb_cls = LGBMClassifier()\n",
        "\n",
        "scores_lgb = cross_val_score(lgb_cls, inputs, y_train.values.ravel(), scoring='accuracy', cv=10)\n",
        "display_scores(scores_lgb)"
      ],
      "id": "stable-record",
      "execution_count": null,
      "outputs": [
        {
          "output_type": "stream",
          "text": [
            "Scores:  [0.82539683 0.79365079 0.92063492 0.87096774 0.77419355 0.77419355\n",
            " 0.85483871 0.83870968 0.80645161 0.90322581]\n",
            "Mean Score: 0.836226318484383\n",
            "Std:  0.048668176096427866\n"
          ],
          "name": "stdout"
        }
      ]
    },
    {
      "cell_type": "markdown",
      "metadata": {
        "id": "realistic-bandwidth"
      },
      "source": [
        "5. AdaBoost"
      ],
      "id": "realistic-bandwidth"
    },
    {
      "cell_type": "code",
      "metadata": {
        "id": "collect-marsh",
        "colab": {
          "base_uri": "https://localhost:8080/"
        },
        "outputId": "5979c1b2-dfeb-4333-b96b-3c8b33b2d54d"
      },
      "source": [
        "ada_cls = AdaBoostClassifier()\n",
        "\n",
        "scores_ada = cross_val_score(ada_cls, inputs, y_train.values.ravel(), scoring='accuracy', cv=10)\n",
        "display_scores(scores_ada)"
      ],
      "id": "collect-marsh",
      "execution_count": null,
      "outputs": [
        {
          "output_type": "stream",
          "text": [
            "Scores:  [0.77777778 0.77777778 0.95238095 0.87096774 0.77419355 0.77419355\n",
            " 0.82258065 0.82258065 0.79032258 0.91935484]\n",
            "Mean Score: 0.8282130056323604\n",
            "Std:  0.061624053280435936\n"
          ],
          "name": "stdout"
        }
      ]
    },
    {
      "cell_type": "markdown",
      "metadata": {
        "id": "typical-humanity"
      },
      "source": [
        "6. CatBoost"
      ],
      "id": "typical-humanity"
    },
    {
      "cell_type": "code",
      "metadata": {
        "id": "returning-proxy"
      },
      "source": [
        "cat_features = ['Sex', 'Embarked', 'AgeGroup', 'FamilyType']\n",
        "cat_cls = CatBoostClassifier(iterations=2500, learning_rate=0.05, random_seed=42, cat_features=cat_features, verbose=False)\n",
        "\n",
        "scores_cat = cross_val_score(cat_cls, X_train, y_train.values.ravel(), scoring='accuracy', cv=10)"
      ],
      "id": "returning-proxy",
      "execution_count": null,
      "outputs": []
    },
    {
      "cell_type": "code",
      "metadata": {
        "id": "characteristic-embassy",
        "colab": {
          "base_uri": "https://localhost:8080/"
        },
        "outputId": "b4646b9b-f97c-451d-cadb-8539c707fb29"
      },
      "source": [
        "display_scores(scores_cat)"
      ],
      "id": "characteristic-embassy",
      "execution_count": null,
      "outputs": [
        {
          "output_type": "stream",
          "text": [
            "Scores:  [0.79365079 0.77777778 0.87301587 0.88709677 0.80645161 0.75806452\n",
            " 0.82258065 0.87096774 0.83870968 0.93548387]\n",
            "Mean Score: 0.8363799283154121\n",
            "Std:  0.05236138461957098\n"
          ],
          "name": "stdout"
        }
      ]
    },
    {
      "cell_type": "markdown",
      "metadata": {
        "id": "perfect-estonia"
      },
      "source": [
        "**Observation**\n",
        "\n",
        "From little exploration, CatBoost performs the best with very high Test and Train Scores.\n",
        "This notebook will explore a further exploration by means of hyperparameter tuning via GridSearch to select the best estimator with optimum parameters.\n",
        "\n",
        "The selected algorithms for hyperparameter tuning are: Random Forest, AdaBoost, LightGBM, and CatBoost\n",
        "\n",
        "#### Hyperparameter Tuning"
      ],
      "id": "perfect-estonia"
    },
    {
      "cell_type": "code",
      "metadata": {
        "id": "stylish-vector"
      },
      "source": [
        "from sklearn.model_selection import GridSearchCV\n",
        "from sklearn.model_selection import StratifiedKFold\n",
        "\n",
        "\n",
        "# Random Forest param Grid\n",
        "rf_param_grid = {\n",
        "    'n_estimators': [100, 250, 400,],\n",
        "    'criterion': ['gini', 'entropy'],\n",
        "    \"min_samples_split\":[2,3,10],\n",
        "    \"min_samples_leaf\":[1,3,10],\n",
        "    'max_features': ['sqrt', 'log2'],\n",
        "    'random_state':[8, 16, 42],\n",
        "}\n",
        "\n",
        "lgb_param_grid = {\n",
        "    'boosting_type ':['gbdt', 'rf', 'goss', 'dart'],\n",
        "    'learning_rate': [0.025, 0.05, 0.1, 0.2],\n",
        "    'n_estimators': [100, 250, 400],\n",
        "    'metric': ['auc', 'average_precision'],\n",
        "    'random_state':[8, 16, 42],\n",
        "}\n",
        "\n",
        "ada_param_grid = {\n",
        "    'n_estimators': [50, 100, 250],\n",
        "    'learning_rate': [0.1, 0.5, 1, 1.5],\n",
        "    'random_state':[8, 16, 42],\n",
        "}\n",
        "\n",
        "cat_param_grid = {\n",
        "    'iterations': [1000, 1600, 2000, 2400],\n",
        "    'learning_rate': [0.01, 0.03, 0.05],\n",
        "    'random_state':[8, 16, 42],\n",
        "}\n",
        "\n",
        "classifier_param = [rf_param_grid, lgb_param_grid, ada_param_grid]\n",
        "\n",
        "# Classifiers\n",
        "\n",
        "classifier = [RandomForestClassifier(), LGBMClassifier(), AdaBoostClassifier()]"
      ],
      "id": "stylish-vector",
      "execution_count": null,
      "outputs": []
    },
    {
      "cell_type": "code",
      "metadata": {
        "id": "broken-blade"
      },
      "source": [
        "cv_result = []\n",
        "best_estimators = []\n",
        "\n",
        "for i in range(len(classifier)):\n",
        "    clf = GridSearchCV(classifier[i], param_grid=classifier_param[i], \n",
        "                       scoring='accuracy', n_jobs=-1, cv=StratifiedKFold(n_splits=10))\n",
        "    clf.fit(inputs, y_train.values.ravel())\n",
        "    cv_result.append(clf.best_score_)\n",
        "    best_estimators.append(clf.best_estimator_)"
      ],
      "id": "broken-blade",
      "execution_count": null,
      "outputs": []
    },
    {
      "cell_type": "code",
      "metadata": {
        "id": "polar-composer"
      },
      "source": [
        "clf2 = GridSearchCV(CatBoostClassifier(cat_features=cat_features, verbose=False), param_grid=cat_param_grid,\n",
        "                    scoring='accuracy', n_jobs=-1, cv=StratifiedKFold(n_splits=10))\n",
        "clf2.fit(X_train, y_train.values.ravel())\n",
        "cv_result.append(clf2.best_score_)\n",
        "best_estimators.append(clf2.best_estimator_)"
      ],
      "id": "polar-composer",
      "execution_count": null,
      "outputs": []
    },
    {
      "cell_type": "code",
      "metadata": {
        "id": "julian-boring"
      },
      "source": [
        "result = pd.DataFrame({'Mean Score': cv_result, 'Model': ['Random Forest', 'LightGBM', 'AdaBoost', 'CatBoost']})"
      ],
      "id": "julian-boring",
      "execution_count": null,
      "outputs": []
    },
    {
      "cell_type": "code",
      "metadata": {
        "id": "deadly-decline",
        "colab": {
          "base_uri": "https://localhost:8080/",
          "height": 295
        },
        "outputId": "1786c56f-37a3-4cde-d1e9-3193f80b86f1"
      },
      "source": [
        "g = sns.barplot(data=result, x='Mean Score', y='Model')\n",
        "g.set_xlabel('Mean Score')\n",
        "g.set_title('Mean Scores for the Models')\n",
        "plt.show()"
      ],
      "id": "deadly-decline",
      "execution_count": null,
      "outputs": [
        {
          "output_type": "display_data",
          "data": {
            "image/png": "[encoded data removed]",
            "text/plain": [
              "<Figure size 432x288 with 1 Axes>"
            ]
          },
          "metadata": {
            "tags": [],
            "needs_background": "light"
          }
        }
      ]
    },
    {
      "cell_type": "code",
      "metadata": {
        "id": "assumed-perry"
      },
      "source": [
        "rf_model = best_estimators[0]\n",
        "lgb_model= best_estimators[1]\n",
        "ada_model = best_estimators[2]\n",
        "cat_model = best_estimators[3]"
      ],
      "id": "assumed-perry",
      "execution_count": null,
      "outputs": []
    },
    {
      "cell_type": "markdown",
      "metadata": {
        "id": "intensive-frequency"
      },
      "source": [
        "#### Validate the Models"
      ],
      "id": "intensive-frequency"
    },
    {
      "cell_type": "code",
      "metadata": {
        "id": "Vjt0FyeGXM-s"
      },
      "source": [
        "dummies_ = pd.get_dummies(X_valid[['Sex', 'Embarked', 'AgeGroup']], drop_first=True)\n",
        "inputs_valid = pd.concat([X_valid.drop(['Sex', 'Embarked', 'AgeGroup'], axis=1), dummies_], axis=1)"
      ],
      "id": "Vjt0FyeGXM-s",
      "execution_count": null,
      "outputs": []
    },
    {
      "cell_type": "code",
      "metadata": {
        "colab": {
          "base_uri": "https://localhost:8080/",
          "height": 224
        },
        "id": "uyN_V17nXEG_",
        "outputId": "2a88b1bb-0414-4cee-95f5-4aef52c17b57"
      },
      "source": [
        "inputs_valid['FamilyType'] =le.transform(inputs_valid['FamilyType'])\n",
        "inputs_valid.head()"
      ],
      "id": "uyN_V17nXEG_",
      "execution_count": null,
      "outputs": [
        {
          "output_type": "execute_result",
          "data": {
            "text/html": [
              "<div>\n",
              "<style scoped>\n",
              "    .dataframe tbody tr th:only-of-type {\n",
              "        vertical-align: middle;\n",
              "    }\n",
              "\n",
              "    .dataframe tbody tr th {\n",
              "        vertical-align: top;\n",
              "    }\n",
              "\n",
              "    .dataframe thead th {\n",
              "        text-align: right;\n",
              "    }\n",
              "</style>\n",
              "<table border=\"1\" class=\"dataframe\">\n",
              "  <thead>\n",
              "    <tr style=\"text-align: right;\">\n",
              "      <th></th>\n",
              "      <th>Pclass</th>\n",
              "      <th>Age</th>\n",
              "      <th>SibSp</th>\n",
              "      <th>Parch</th>\n",
              "      <th>Fare</th>\n",
              "      <th>FareGroup</th>\n",
              "      <th>TitleGroup</th>\n",
              "      <th>FamilySize</th>\n",
              "      <th>FamilyType</th>\n",
              "      <th>Sex_male</th>\n",
              "      <th>Embarked_Q</th>\n",
              "      <th>Embarked_S</th>\n",
              "      <th>AgeGroup_Child</th>\n",
              "      <th>AgeGroup_Youth</th>\n",
              "      <th>AgeGroup_Adult</th>\n",
              "      <th>AgeGroup_Senior</th>\n",
              "    </tr>\n",
              "  </thead>\n",
              "  <tbody>\n",
              "    <tr>\n",
              "      <th>709</th>\n",
              "      <td>3.0</td>\n",
              "      <td>19.875223</td>\n",
              "      <td>1.0</td>\n",
              "      <td>1.0</td>\n",
              "      <td>15.2458</td>\n",
              "      <td>1</td>\n",
              "      <td>1</td>\n",
              "      <td>2.0</td>\n",
              "      <td>2</td>\n",
              "      <td>1</td>\n",
              "      <td>0</td>\n",
              "      <td>0</td>\n",
              "      <td>0</td>\n",
              "      <td>1</td>\n",
              "      <td>0</td>\n",
              "      <td>0</td>\n",
              "    </tr>\n",
              "    <tr>\n",
              "      <th>439</th>\n",
              "      <td>2.0</td>\n",
              "      <td>31.000000</td>\n",
              "      <td>0.0</td>\n",
              "      <td>0.0</td>\n",
              "      <td>10.5000</td>\n",
              "      <td>1</td>\n",
              "      <td>2</td>\n",
              "      <td>0.0</td>\n",
              "      <td>0</td>\n",
              "      <td>1</td>\n",
              "      <td>0</td>\n",
              "      <td>1</td>\n",
              "      <td>0</td>\n",
              "      <td>1</td>\n",
              "      <td>0</td>\n",
              "      <td>0</td>\n",
              "    </tr>\n",
              "    <tr>\n",
              "      <th>840</th>\n",
              "      <td>3.0</td>\n",
              "      <td>20.000000</td>\n",
              "      <td>0.0</td>\n",
              "      <td>0.0</td>\n",
              "      <td>7.9250</td>\n",
              "      <td>1</td>\n",
              "      <td>2</td>\n",
              "      <td>0.0</td>\n",
              "      <td>0</td>\n",
              "      <td>1</td>\n",
              "      <td>0</td>\n",
              "      <td>1</td>\n",
              "      <td>0</td>\n",
              "      <td>1</td>\n",
              "      <td>0</td>\n",
              "      <td>0</td>\n",
              "    </tr>\n",
              "    <tr>\n",
              "      <th>720</th>\n",
              "      <td>2.0</td>\n",
              "      <td>6.000000</td>\n",
              "      <td>0.0</td>\n",
              "      <td>1.0</td>\n",
              "      <td>33.0000</td>\n",
              "      <td>1</td>\n",
              "      <td>2</td>\n",
              "      <td>1.0</td>\n",
              "      <td>2</td>\n",
              "      <td>0</td>\n",
              "      <td>0</td>\n",
              "      <td>1</td>\n",
              "      <td>0</td>\n",
              "      <td>0</td>\n",
              "      <td>0</td>\n",
              "      <td>0</td>\n",
              "    </tr>\n",
              "    <tr>\n",
              "      <th>39</th>\n",
              "      <td>3.0</td>\n",
              "      <td>14.000000</td>\n",
              "      <td>1.0</td>\n",
              "      <td>0.0</td>\n",
              "      <td>11.2417</td>\n",
              "      <td>1</td>\n",
              "      <td>2</td>\n",
              "      <td>1.0</td>\n",
              "      <td>2</td>\n",
              "      <td>0</td>\n",
              "      <td>0</td>\n",
              "      <td>0</td>\n",
              "      <td>1</td>\n",
              "      <td>0</td>\n",
              "      <td>0</td>\n",
              "      <td>0</td>\n",
              "    </tr>\n",
              "  </tbody>\n",
              "</table>\n",
              "</div>"
            ],
            "text/plain": [
              "     Pclass        Age  SibSp  ...  AgeGroup_Youth  AgeGroup_Adult  AgeGroup_Senior\n",
              "709     3.0  19.875223    1.0  ...               1               0                0\n",
              "439     2.0  31.000000    0.0  ...               1               0                0\n",
              "840     3.0  20.000000    0.0  ...               1               0                0\n",
              "720     2.0   6.000000    0.0  ...               0               0                0\n",
              "39      3.0  14.000000    1.0  ...               0               0                0\n",
              "\n",
              "[5 rows x 16 columns]"
            ]
          },
          "metadata": {
            "tags": []
          },
          "execution_count": 257
        }
      ]
    },
    {
      "cell_type": "code",
      "metadata": {
        "id": "worthy-rebound",
        "colab": {
          "base_uri": "https://localhost:8080/"
        },
        "outputId": "416c7661-c7c7-491d-d057-3a1bdc2c5817"
      },
      "source": [
        "rf_preds = rf_model.predict(inputs_valid)\n",
        "lgb_preds = lgb_model.predict(inputs_valid)\n",
        "ada_preds = ada_model.predict(inputs_valid)\n",
        "cat_preds = cat_model.predict(X_valid)\n",
        "\n",
        "rf_acc = accuracy_score(y_valid.values.ravel(), rf_preds)\n",
        "lgb_acc = accuracy_score(y_valid.values.ravel(), lgb_preds)\n",
        "ada_acc = accuracy_score(y_valid.values.ravel(), ada_preds)\n",
        "cat_acc = accuracy_score(y_valid.values.ravel(), cat_preds)\n",
        "\n",
        "print(f'Accuracies -> Random Forest: {rf_acc}, LightGBM: {lgb_acc}, AdaBoost: {ada_acc}, CatBoost:{cat_acc}')"
      ],
      "id": "worthy-rebound",
      "execution_count": null,
      "outputs": [
        {
          "output_type": "stream",
          "text": [
            "Accuracies -> Random Forest: 0.8283582089552238, LightGBM: 0.8246268656716418, AdaBoost: 0.8246268656716418, CatBoost:0.8395522388059702\n"
          ],
          "name": "stdout"
        }
      ]
    },
    {
      "cell_type": "markdown",
      "metadata": {
        "id": "favorite-venture"
      },
      "source": [
        "**Observation**\n",
        "From the test accuracies(demonstrating prediction on unseen data) the models rank as follows:\n",
        "1. CatBoost\n",
        "2. Random Forest\n",
        "3. LightGBM & AdaBoost"
      ],
      "id": "favorite-venture"
    },
    {
      "cell_type": "markdown",
      "metadata": {
        "id": "similar-commerce"
      },
      "source": [
        "###  **Predict Survival of the Passengers in the Test Data**"
      ],
      "id": "similar-commerce"
    },
    {
      "cell_type": "markdown",
      "metadata": {
        "id": "pU9vtAxWbToz"
      },
      "source": [
        "###### **Processing Test Data**"
      ],
      "id": "pU9vtAxWbToz"
    },
    {
      "cell_type": "code",
      "metadata": {
        "id": "satellite-kennedy",
        "colab": {
          "base_uri": "https://localhost:8080/"
        },
        "outputId": "157514d7-1d34-4a00-fefd-4db714a10966"
      },
      "source": [
        "X_train.shape"
      ],
      "id": "satellite-kennedy",
      "execution_count": null,
      "outputs": [
        {
          "output_type": "execute_result",
          "data": {
            "text/plain": [
              "(418, 11)"
            ]
          },
          "metadata": {
            "tags": []
          },
          "execution_count": 259
        }
      ]
    },
    {
      "cell_type": "code",
      "metadata": {
        "id": "elect-terrorism",
        "colab": {
          "base_uri": "https://localhost:8080/"
        },
        "outputId": "31ec4b47-d58c-4bfa-fe18-eaaa672f42fd"
      },
      "source": [
        "df_test.info()"
      ],
      "id": "elect-terrorism",
      "execution_count": null,
      "outputs": [
        {
          "output_type": "stream",
          "text": [
            "<class 'pandas.core.frame.DataFrame'>\n",
            "RangeIndex: 418 entries, 0 to 417\n",
            "Data columns (total 11 columns):\n",
            " #   Column       Non-Null Count  Dtype  \n",
            "---  ------       --------------  -----  \n",
            " 0   PassengerId  418 non-null    int64  \n",
            " 1   Pclass       418 non-null    int64  \n",
            " 2   Name         418 non-null    object \n",
            " 3   Sex          418 non-null    object \n",
            " 4   Age          332 non-null    float64\n",
            " 5   SibSp        418 non-null    int64  \n",
            " 6   Parch        418 non-null    int64  \n",
            " 7   Ticket       418 non-null    object \n",
            " 8   Fare         417 non-null    float64\n",
            " 9   Cabin        91 non-null     object \n",
            " 10  Embarked     418 non-null    object \n",
            "dtypes: float64(2), int64(4), object(5)\n",
            "memory usage: 36.0+ KB\n"
          ],
          "name": "stdout"
        }
      ]
    },
    {
      "cell_type": "markdown",
      "metadata": {
        "id": "YX6fhtQvdWWl"
      },
      "source": [
        "##### Imputing Missing Values and Feature Engineering in the Test Dataset"
      ],
      "id": "YX6fhtQvdWWl"
    },
    {
      "cell_type": "code",
      "metadata": {
        "id": "toxic-participation"
      },
      "source": [
        "data1 = df_test[['Pclass', 'Sex','Age', 'SibSp','Parch', 'Fare', 'Embarked']]"
      ],
      "id": "toxic-participation",
      "execution_count": null,
      "outputs": []
    },
    {
      "cell_type": "code",
      "metadata": {
        "colab": {
          "base_uri": "https://localhost:8080/",
          "height": 204
        },
        "id": "Jg1JUs3Efzhj",
        "outputId": "fff59a48-3cb9-467b-c242-d1ca0437d178"
      },
      "source": [
        "data1.head()"
      ],
      "id": "Jg1JUs3Efzhj",
      "execution_count": null,
      "outputs": [
        {
          "output_type": "execute_result",
          "data": {
            "text/html": [
              "<div>\n",
              "<style scoped>\n",
              "    .dataframe tbody tr th:only-of-type {\n",
              "        vertical-align: middle;\n",
              "    }\n",
              "\n",
              "    .dataframe tbody tr th {\n",
              "        vertical-align: top;\n",
              "    }\n",
              "\n",
              "    .dataframe thead th {\n",
              "        text-align: right;\n",
              "    }\n",
              "</style>\n",
              "<table border=\"1\" class=\"dataframe\">\n",
              "  <thead>\n",
              "    <tr style=\"text-align: right;\">\n",
              "      <th></th>\n",
              "      <th>Pclass</th>\n",
              "      <th>Sex</th>\n",
              "      <th>Age</th>\n",
              "      <th>SibSp</th>\n",
              "      <th>Parch</th>\n",
              "      <th>Fare</th>\n",
              "      <th>Embarked</th>\n",
              "    </tr>\n",
              "  </thead>\n",
              "  <tbody>\n",
              "    <tr>\n",
              "      <th>0</th>\n",
              "      <td>3</td>\n",
              "      <td>male</td>\n",
              "      <td>34.5</td>\n",
              "      <td>0</td>\n",
              "      <td>0</td>\n",
              "      <td>7.8292</td>\n",
              "      <td>Q</td>\n",
              "    </tr>\n",
              "    <tr>\n",
              "      <th>1</th>\n",
              "      <td>3</td>\n",
              "      <td>female</td>\n",
              "      <td>47.0</td>\n",
              "      <td>1</td>\n",
              "      <td>0</td>\n",
              "      <td>7.0000</td>\n",
              "      <td>S</td>\n",
              "    </tr>\n",
              "    <tr>\n",
              "      <th>2</th>\n",
              "      <td>2</td>\n",
              "      <td>male</td>\n",
              "      <td>62.0</td>\n",
              "      <td>0</td>\n",
              "      <td>0</td>\n",
              "      <td>9.6875</td>\n",
              "      <td>Q</td>\n",
              "    </tr>\n",
              "    <tr>\n",
              "      <th>3</th>\n",
              "      <td>3</td>\n",
              "      <td>male</td>\n",
              "      <td>27.0</td>\n",
              "      <td>0</td>\n",
              "      <td>0</td>\n",
              "      <td>8.6625</td>\n",
              "      <td>S</td>\n",
              "    </tr>\n",
              "    <tr>\n",
              "      <th>4</th>\n",
              "      <td>3</td>\n",
              "      <td>female</td>\n",
              "      <td>22.0</td>\n",
              "      <td>1</td>\n",
              "      <td>1</td>\n",
              "      <td>12.2875</td>\n",
              "      <td>S</td>\n",
              "    </tr>\n",
              "  </tbody>\n",
              "</table>\n",
              "</div>"
            ],
            "text/plain": [
              "   Pclass     Sex   Age  SibSp  Parch     Fare Embarked\n",
              "0       3    male  34.5      0      0   7.8292        Q\n",
              "1       3  female  47.0      1      0   7.0000        S\n",
              "2       2    male  62.0      0      0   9.6875        Q\n",
              "3       3    male  27.0      0      0   8.6625        S\n",
              "4       3  female  22.0      1      1  12.2875        S"
            ]
          },
          "metadata": {
            "tags": []
          },
          "execution_count": 264
        }
      ]
    },
    {
      "cell_type": "code",
      "metadata": {
        "id": "vQV7wmfHf6ts"
      },
      "source": [
        "# Sex and Embarked Encoding\n",
        "seencoding = pd.get_dummies(data1[['Sex', 'Embarked']], drop_first=True)\n",
        "data_tst = pd.concat([data1.drop(['Sex', 'Embarked'], axis=1), seencoding], axis=1)"
      ],
      "id": "vQV7wmfHf6ts",
      "execution_count": null,
      "outputs": []
    },
    {
      "cell_type": "code",
      "metadata": {
        "colab": {
          "base_uri": "https://localhost:8080/"
        },
        "id": "yH1ysOwDjiZO",
        "outputId": "c6ef6b49-959e-4a12-8057-992c4c77f1fe"
      },
      "source": [
        "data_tst.shape"
      ],
      "id": "yH1ysOwDjiZO",
      "execution_count": null,
      "outputs": [
        {
          "output_type": "execute_result",
          "data": {
            "text/plain": [
              "(418, 8)"
            ]
          },
          "metadata": {
            "tags": []
          },
          "execution_count": 268
        }
      ]
    },
    {
      "cell_type": "code",
      "metadata": {
        "id": "8H6SB4GqiwGg"
      },
      "source": [
        "# Scaling\n",
        "scaler1 = MinMaxScaler()\n",
        "tst_fmd = scaler1.fit_transform(data_tst)\n",
        "data_tst1 = pd.DataFrame(data=tst_fmd, columns=data_tst.columns)"
      ],
      "id": "8H6SB4GqiwGg",
      "execution_count": null,
      "outputs": []
    },
    {
      "cell_type": "code",
      "metadata": {
        "colab": {
          "base_uri": "https://localhost:8080/",
          "height": 204
        },
        "id": "4u_UQYBincY4",
        "outputId": "be42f293-e8b5-4d5e-e9fc-0c3be1344930"
      },
      "source": [
        "data_tst1.head()"
      ],
      "id": "4u_UQYBincY4",
      "execution_count": null,
      "outputs": [
        {
          "output_type": "execute_result",
          "data": {
            "text/html": [
              "<div>\n",
              "<style scoped>\n",
              "    .dataframe tbody tr th:only-of-type {\n",
              "        vertical-align: middle;\n",
              "    }\n",
              "\n",
              "    .dataframe tbody tr th {\n",
              "        vertical-align: top;\n",
              "    }\n",
              "\n",
              "    .dataframe thead th {\n",
              "        text-align: right;\n",
              "    }\n",
              "</style>\n",
              "<table border=\"1\" class=\"dataframe\">\n",
              "  <thead>\n",
              "    <tr style=\"text-align: right;\">\n",
              "      <th></th>\n",
              "      <th>Pclass</th>\n",
              "      <th>Age</th>\n",
              "      <th>SibSp</th>\n",
              "      <th>Parch</th>\n",
              "      <th>Fare</th>\n",
              "      <th>Sex_male</th>\n",
              "      <th>Embarked_Q</th>\n",
              "      <th>Embarked_S</th>\n",
              "    </tr>\n",
              "  </thead>\n",
              "  <tbody>\n",
              "    <tr>\n",
              "      <th>0</th>\n",
              "      <td>1.0</td>\n",
              "      <td>0.452723</td>\n",
              "      <td>0.000</td>\n",
              "      <td>0.000000</td>\n",
              "      <td>0.015282</td>\n",
              "      <td>1.0</td>\n",
              "      <td>1.0</td>\n",
              "      <td>0.0</td>\n",
              "    </tr>\n",
              "    <tr>\n",
              "      <th>1</th>\n",
              "      <td>1.0</td>\n",
              "      <td>0.617566</td>\n",
              "      <td>0.125</td>\n",
              "      <td>0.000000</td>\n",
              "      <td>0.013663</td>\n",
              "      <td>0.0</td>\n",
              "      <td>0.0</td>\n",
              "      <td>1.0</td>\n",
              "    </tr>\n",
              "    <tr>\n",
              "      <th>2</th>\n",
              "      <td>0.5</td>\n",
              "      <td>0.815377</td>\n",
              "      <td>0.000</td>\n",
              "      <td>0.000000</td>\n",
              "      <td>0.018909</td>\n",
              "      <td>1.0</td>\n",
              "      <td>1.0</td>\n",
              "      <td>0.0</td>\n",
              "    </tr>\n",
              "    <tr>\n",
              "      <th>3</th>\n",
              "      <td>1.0</td>\n",
              "      <td>0.353818</td>\n",
              "      <td>0.000</td>\n",
              "      <td>0.000000</td>\n",
              "      <td>0.016908</td>\n",
              "      <td>1.0</td>\n",
              "      <td>0.0</td>\n",
              "      <td>1.0</td>\n",
              "    </tr>\n",
              "    <tr>\n",
              "      <th>4</th>\n",
              "      <td>1.0</td>\n",
              "      <td>0.287881</td>\n",
              "      <td>0.125</td>\n",
              "      <td>0.111111</td>\n",
              "      <td>0.023984</td>\n",
              "      <td>0.0</td>\n",
              "      <td>0.0</td>\n",
              "      <td>1.0</td>\n",
              "    </tr>\n",
              "  </tbody>\n",
              "</table>\n",
              "</div>"
            ],
            "text/plain": [
              "   Pclass       Age  SibSp  ...  Sex_male  Embarked_Q  Embarked_S\n",
              "0     1.0  0.452723  0.000  ...       1.0         1.0         0.0\n",
              "1     1.0  0.617566  0.125  ...       0.0         0.0         1.0\n",
              "2     0.5  0.815377  0.000  ...       1.0         1.0         0.0\n",
              "3     1.0  0.353818  0.000  ...       1.0         0.0         1.0\n",
              "4     1.0  0.287881  0.125  ...       0.0         0.0         1.0\n",
              "\n",
              "[5 rows x 8 columns]"
            ]
          },
          "metadata": {
            "tags": []
          },
          "execution_count": 279
        }
      ]
    },
    {
      "cell_type": "code",
      "metadata": {
        "colab": {
          "base_uri": "https://localhost:8080/",
          "height": 204
        },
        "id": "CTUSUiWjns_S",
        "outputId": "79a1528e-0799-40a5-8460-0e6c3df273ab"
      },
      "source": [
        "# Imputing Missing Values\n",
        "data_tst2 = knn_imputer.fit_transform(data_tst1)\n",
        "data_tst3 = pd.DataFrame(data=data_tst2, columns=data_tst1.columns)\n",
        "data_tst3.head()"
      ],
      "id": "CTUSUiWjns_S",
      "execution_count": null,
      "outputs": [
        {
          "output_type": "execute_result",
          "data": {
            "text/html": [
              "<div>\n",
              "<style scoped>\n",
              "    .dataframe tbody tr th:only-of-type {\n",
              "        vertical-align: middle;\n",
              "    }\n",
              "\n",
              "    .dataframe tbody tr th {\n",
              "        vertical-align: top;\n",
              "    }\n",
              "\n",
              "    .dataframe thead th {\n",
              "        text-align: right;\n",
              "    }\n",
              "</style>\n",
              "<table border=\"1\" class=\"dataframe\">\n",
              "  <thead>\n",
              "    <tr style=\"text-align: right;\">\n",
              "      <th></th>\n",
              "      <th>Pclass</th>\n",
              "      <th>Age</th>\n",
              "      <th>SibSp</th>\n",
              "      <th>Parch</th>\n",
              "      <th>Fare</th>\n",
              "      <th>Sex_male</th>\n",
              "      <th>Embarked_Q</th>\n",
              "      <th>Embarked_S</th>\n",
              "    </tr>\n",
              "  </thead>\n",
              "  <tbody>\n",
              "    <tr>\n",
              "      <th>0</th>\n",
              "      <td>1.0</td>\n",
              "      <td>0.452723</td>\n",
              "      <td>0.000</td>\n",
              "      <td>0.000000</td>\n",
              "      <td>0.015282</td>\n",
              "      <td>1.0</td>\n",
              "      <td>1.0</td>\n",
              "      <td>0.0</td>\n",
              "    </tr>\n",
              "    <tr>\n",
              "      <th>1</th>\n",
              "      <td>1.0</td>\n",
              "      <td>0.617566</td>\n",
              "      <td>0.125</td>\n",
              "      <td>0.000000</td>\n",
              "      <td>0.013663</td>\n",
              "      <td>0.0</td>\n",
              "      <td>0.0</td>\n",
              "      <td>1.0</td>\n",
              "    </tr>\n",
              "    <tr>\n",
              "      <th>2</th>\n",
              "      <td>0.5</td>\n",
              "      <td>0.815377</td>\n",
              "      <td>0.000</td>\n",
              "      <td>0.000000</td>\n",
              "      <td>0.018909</td>\n",
              "      <td>1.0</td>\n",
              "      <td>1.0</td>\n",
              "      <td>0.0</td>\n",
              "    </tr>\n",
              "    <tr>\n",
              "      <th>3</th>\n",
              "      <td>1.0</td>\n",
              "      <td>0.353818</td>\n",
              "      <td>0.000</td>\n",
              "      <td>0.000000</td>\n",
              "      <td>0.016908</td>\n",
              "      <td>1.0</td>\n",
              "      <td>0.0</td>\n",
              "      <td>1.0</td>\n",
              "    </tr>\n",
              "    <tr>\n",
              "      <th>4</th>\n",
              "      <td>1.0</td>\n",
              "      <td>0.287881</td>\n",
              "      <td>0.125</td>\n",
              "      <td>0.111111</td>\n",
              "      <td>0.023984</td>\n",
              "      <td>0.0</td>\n",
              "      <td>0.0</td>\n",
              "      <td>1.0</td>\n",
              "    </tr>\n",
              "  </tbody>\n",
              "</table>\n",
              "</div>"
            ],
            "text/plain": [
              "   Pclass       Age  SibSp  ...  Sex_male  Embarked_Q  Embarked_S\n",
              "0     1.0  0.452723  0.000  ...       1.0         1.0         0.0\n",
              "1     1.0  0.617566  0.125  ...       0.0         0.0         1.0\n",
              "2     0.5  0.815377  0.000  ...       1.0         1.0         0.0\n",
              "3     1.0  0.353818  0.000  ...       1.0         0.0         1.0\n",
              "4     1.0  0.287881  0.125  ...       0.0         0.0         1.0\n",
              "\n",
              "[5 rows x 8 columns]"
            ]
          },
          "metadata": {
            "tags": []
          },
          "execution_count": 282
        }
      ]
    },
    {
      "cell_type": "code",
      "metadata": {
        "colab": {
          "base_uri": "https://localhost:8080/",
          "height": 204
        },
        "id": "lJjYk_LsqnW9",
        "outputId": "dc099853-48f8-49b7-f49c-7d67e92a79d2"
      },
      "source": [
        "data_tst_inv = scaler1.inverse_transform(data_tst3)\n",
        "data_tst4 = pd.DataFrame(data=data_tst_inv, columns=data_tst3.columns)\n",
        "data_tst4.head()"
      ],
      "id": "lJjYk_LsqnW9",
      "execution_count": null,
      "outputs": [
        {
          "output_type": "execute_result",
          "data": {
            "text/html": [
              "<div>\n",
              "<style scoped>\n",
              "    .dataframe tbody tr th:only-of-type {\n",
              "        vertical-align: middle;\n",
              "    }\n",
              "\n",
              "    .dataframe tbody tr th {\n",
              "        vertical-align: top;\n",
              "    }\n",
              "\n",
              "    .dataframe thead th {\n",
              "        text-align: right;\n",
              "    }\n",
              "</style>\n",
              "<table border=\"1\" class=\"dataframe\">\n",
              "  <thead>\n",
              "    <tr style=\"text-align: right;\">\n",
              "      <th></th>\n",
              "      <th>Pclass</th>\n",
              "      <th>Age</th>\n",
              "      <th>SibSp</th>\n",
              "      <th>Parch</th>\n",
              "      <th>Fare</th>\n",
              "      <th>Sex_male</th>\n",
              "      <th>Embarked_Q</th>\n",
              "      <th>Embarked_S</th>\n",
              "    </tr>\n",
              "  </thead>\n",
              "  <tbody>\n",
              "    <tr>\n",
              "      <th>0</th>\n",
              "      <td>3.0</td>\n",
              "      <td>34.5</td>\n",
              "      <td>0.0</td>\n",
              "      <td>0.0</td>\n",
              "      <td>7.8292</td>\n",
              "      <td>1.0</td>\n",
              "      <td>1.0</td>\n",
              "      <td>0.0</td>\n",
              "    </tr>\n",
              "    <tr>\n",
              "      <th>1</th>\n",
              "      <td>3.0</td>\n",
              "      <td>47.0</td>\n",
              "      <td>1.0</td>\n",
              "      <td>0.0</td>\n",
              "      <td>7.0000</td>\n",
              "      <td>0.0</td>\n",
              "      <td>0.0</td>\n",
              "      <td>1.0</td>\n",
              "    </tr>\n",
              "    <tr>\n",
              "      <th>2</th>\n",
              "      <td>2.0</td>\n",
              "      <td>62.0</td>\n",
              "      <td>0.0</td>\n",
              "      <td>0.0</td>\n",
              "      <td>9.6875</td>\n",
              "      <td>1.0</td>\n",
              "      <td>1.0</td>\n",
              "      <td>0.0</td>\n",
              "    </tr>\n",
              "    <tr>\n",
              "      <th>3</th>\n",
              "      <td>3.0</td>\n",
              "      <td>27.0</td>\n",
              "      <td>0.0</td>\n",
              "      <td>0.0</td>\n",
              "      <td>8.6625</td>\n",
              "      <td>1.0</td>\n",
              "      <td>0.0</td>\n",
              "      <td>1.0</td>\n",
              "    </tr>\n",
              "    <tr>\n",
              "      <th>4</th>\n",
              "      <td>3.0</td>\n",
              "      <td>22.0</td>\n",
              "      <td>1.0</td>\n",
              "      <td>1.0</td>\n",
              "      <td>12.2875</td>\n",
              "      <td>0.0</td>\n",
              "      <td>0.0</td>\n",
              "      <td>1.0</td>\n",
              "    </tr>\n",
              "  </tbody>\n",
              "</table>\n",
              "</div>"
            ],
            "text/plain": [
              "   Pclass   Age  SibSp  Parch     Fare  Sex_male  Embarked_Q  Embarked_S\n",
              "0     3.0  34.5    0.0    0.0   7.8292       1.0         1.0         0.0\n",
              "1     3.0  47.0    1.0    0.0   7.0000       0.0         0.0         1.0\n",
              "2     2.0  62.0    0.0    0.0   9.6875       1.0         1.0         0.0\n",
              "3     3.0  27.0    0.0    0.0   8.6625       1.0         0.0         1.0\n",
              "4     3.0  22.0    1.0    1.0  12.2875       0.0         0.0         1.0"
            ]
          },
          "metadata": {
            "tags": []
          },
          "execution_count": 284
        }
      ]
    },
    {
      "cell_type": "code",
      "metadata": {
        "id": "YUJy9ULir8F-"
      },
      "source": [
        "# Recreate the Sex Feature\n",
        "\n",
        "data_tst4['Sex'] = sexify(data_tst4['Sex_male'])"
      ],
      "id": "YUJy9ULir8F-",
      "execution_count": null,
      "outputs": []
    },
    {
      "cell_type": "code",
      "metadata": {
        "id": "VUtJ6bz_szpG"
      },
      "source": [
        "# Recreate the Embarked Feature\n",
        "data_tst4['Embarked'] = embify(data_tst4[['Embarked_Q', 'Embarked_S']])"
      ],
      "id": "VUtJ6bz_szpG",
      "execution_count": null,
      "outputs": []
    },
    {
      "cell_type": "code",
      "metadata": {
        "id": "W1kNWCVZtJE0"
      },
      "source": [
        "test_data = pd.concat([data_tst4[['Pclass', 'Sex', 'Age', 'SibSp', 'Parch', 'Fare', 'Embarked']], df_test[['PassengerId','Name']]], axis=1)"
      ],
      "id": "W1kNWCVZtJE0",
      "execution_count": null,
      "outputs": []
    },
    {
      "cell_type": "code",
      "metadata": {
        "colab": {
          "base_uri": "https://localhost:8080/"
        },
        "id": "QXPNdMSJvSjw",
        "outputId": "e03a29b1-af05-4ab1-b26f-86a2ea50ea19"
      },
      "source": [
        "test_data.columns, X_train.columns"
      ],
      "id": "QXPNdMSJvSjw",
      "execution_count": null,
      "outputs": [
        {
          "output_type": "execute_result",
          "data": {
            "text/plain": [
              "(Index(['Pclass', 'Sex', 'Age', 'SibSp', 'Parch', 'Fare', 'Embarked',\n",
              "        'PassengerId', 'Name'],\n",
              "       dtype='object'),\n",
              " Index(['Pclass', 'Sex', 'Age', 'SibSp', 'Parch', 'Fare', 'Embarked',\n",
              "        'AgeGroup', 'FareGroup', 'TitleGroup', 'FamilySize', 'FamilyType'],\n",
              "       dtype='object'))"
            ]
          },
          "metadata": {
            "tags": []
          },
          "execution_count": 347
        }
      ]
    },
    {
      "cell_type": "code",
      "metadata": {
        "colab": {
          "base_uri": "https://localhost:8080/",
          "height": 111
        },
        "id": "-07pSpXswOIN",
        "outputId": "0c072d41-de15-405b-e5fb-b5a3267cf5cc"
      },
      "source": [
        "test_data[['Fare', 'Pclass']][test_data['Fare'] == 0]"
      ],
      "id": "-07pSpXswOIN",
      "execution_count": null,
      "outputs": [
        {
          "output_type": "execute_result",
          "data": {
            "text/html": [
              "<div>\n",
              "<style scoped>\n",
              "    .dataframe tbody tr th:only-of-type {\n",
              "        vertical-align: middle;\n",
              "    }\n",
              "\n",
              "    .dataframe tbody tr th {\n",
              "        vertical-align: top;\n",
              "    }\n",
              "\n",
              "    .dataframe thead th {\n",
              "        text-align: right;\n",
              "    }\n",
              "</style>\n",
              "<table border=\"1\" class=\"dataframe\">\n",
              "  <thead>\n",
              "    <tr style=\"text-align: right;\">\n",
              "      <th></th>\n",
              "      <th>Fare</th>\n",
              "      <th>Pclass</th>\n",
              "    </tr>\n",
              "  </thead>\n",
              "  <tbody>\n",
              "    <tr>\n",
              "      <th>266</th>\n",
              "      <td>0.0</td>\n",
              "      <td>1.0</td>\n",
              "    </tr>\n",
              "    <tr>\n",
              "      <th>372</th>\n",
              "      <td>0.0</td>\n",
              "      <td>1.0</td>\n",
              "    </tr>\n",
              "  </tbody>\n",
              "</table>\n",
              "</div>"
            ],
            "text/plain": [
              "     Fare  Pclass\n",
              "266   0.0     1.0\n",
              "372   0.0     1.0"
            ]
          },
          "metadata": {
            "tags": []
          },
          "execution_count": 349
        }
      ]
    },
    {
      "cell_type": "code",
      "metadata": {
        "id": "y1t4aAGBwoQz"
      },
      "source": [
        "pclass_mean1t = round(test_data['Fare'][test_data['Pclass'] == 1.0].mean(), 4)"
      ],
      "id": "y1t4aAGBwoQz",
      "execution_count": null,
      "outputs": []
    },
    {
      "cell_type": "code",
      "metadata": {
        "colab": {
          "base_uri": "https://localhost:8080/"
        },
        "id": "RmWHoOIk-OM2",
        "outputId": "e3c73713-b773-4c54-d920-62fa250ddcef"
      },
      "source": [
        "test_data['Fare'][(test_data['Fare'] == 0) & (test_data['Pclass'] == 1)] =pclass_mean1t"
      ],
      "id": "RmWHoOIk-OM2",
      "execution_count": null,
      "outputs": [
        {
          "output_type": "stream",
          "text": [
            "/usr/local/lib/python3.7/dist-packages/ipykernel_launcher.py:1: SettingWithCopyWarning: \n",
            "A value is trying to be set on a copy of a slice from a DataFrame\n",
            "\n",
            "See the caveats in the documentation: https://pandas.pydata.org/pandas-docs/stable/user_guide/indexing.html#returning-a-view-versus-a-copy\n",
            "  \"\"\"Entry point for launching an IPython kernel.\n"
          ],
          "name": "stderr"
        }
      ]
    },
    {
      "cell_type": "code",
      "metadata": {
        "id": "P24UGHPB27QU"
      },
      "source": [
        "test_data['AgeGroup'] = pd.cut(test_data['Age'], bins = bins, labels = labels)"
      ],
      "id": "P24UGHPB27QU",
      "execution_count": null,
      "outputs": []
    },
    {
      "cell_type": "code",
      "metadata": {
        "colab": {
          "base_uri": "https://localhost:8080/",
          "height": 204
        },
        "id": "Fwn4vr3l3B5a",
        "outputId": "f0c3d3bb-2c4a-4801-d114-db469165848c"
      },
      "source": [
        "test_data.head()"
      ],
      "id": "Fwn4vr3l3B5a",
      "execution_count": null,
      "outputs": [
        {
          "output_type": "execute_result",
          "data": {
            "text/html": [
              "<div>\n",
              "<style scoped>\n",
              "    .dataframe tbody tr th:only-of-type {\n",
              "        vertical-align: middle;\n",
              "    }\n",
              "\n",
              "    .dataframe tbody tr th {\n",
              "        vertical-align: top;\n",
              "    }\n",
              "\n",
              "    .dataframe thead th {\n",
              "        text-align: right;\n",
              "    }\n",
              "</style>\n",
              "<table border=\"1\" class=\"dataframe\">\n",
              "  <thead>\n",
              "    <tr style=\"text-align: right;\">\n",
              "      <th></th>\n",
              "      <th>Pclass</th>\n",
              "      <th>Sex</th>\n",
              "      <th>Age</th>\n",
              "      <th>SibSp</th>\n",
              "      <th>Parch</th>\n",
              "      <th>Fare</th>\n",
              "      <th>Embarked</th>\n",
              "      <th>PassengerId</th>\n",
              "      <th>Name</th>\n",
              "      <th>AgeGroup</th>\n",
              "    </tr>\n",
              "  </thead>\n",
              "  <tbody>\n",
              "    <tr>\n",
              "      <th>0</th>\n",
              "      <td>3.0</td>\n",
              "      <td>male</td>\n",
              "      <td>34.5</td>\n",
              "      <td>0.0</td>\n",
              "      <td>0.0</td>\n",
              "      <td>7.8292</td>\n",
              "      <td>Q</td>\n",
              "      <td>892</td>\n",
              "      <td>Kelly, Mr. James</td>\n",
              "      <td>Youth</td>\n",
              "    </tr>\n",
              "    <tr>\n",
              "      <th>1</th>\n",
              "      <td>3.0</td>\n",
              "      <td>female</td>\n",
              "      <td>47.0</td>\n",
              "      <td>1.0</td>\n",
              "      <td>0.0</td>\n",
              "      <td>7.0000</td>\n",
              "      <td>S</td>\n",
              "      <td>893</td>\n",
              "      <td>Wilkes, Mrs. James (Ellen Needs)</td>\n",
              "      <td>Adult</td>\n",
              "    </tr>\n",
              "    <tr>\n",
              "      <th>2</th>\n",
              "      <td>2.0</td>\n",
              "      <td>male</td>\n",
              "      <td>62.0</td>\n",
              "      <td>0.0</td>\n",
              "      <td>0.0</td>\n",
              "      <td>9.6875</td>\n",
              "      <td>Q</td>\n",
              "      <td>894</td>\n",
              "      <td>Myles, Mr. Thomas Francis</td>\n",
              "      <td>Senior</td>\n",
              "    </tr>\n",
              "    <tr>\n",
              "      <th>3</th>\n",
              "      <td>3.0</td>\n",
              "      <td>male</td>\n",
              "      <td>27.0</td>\n",
              "      <td>0.0</td>\n",
              "      <td>0.0</td>\n",
              "      <td>8.6625</td>\n",
              "      <td>S</td>\n",
              "      <td>895</td>\n",
              "      <td>Wirz, Mr. Albert</td>\n",
              "      <td>Youth</td>\n",
              "    </tr>\n",
              "    <tr>\n",
              "      <th>4</th>\n",
              "      <td>3.0</td>\n",
              "      <td>female</td>\n",
              "      <td>22.0</td>\n",
              "      <td>1.0</td>\n",
              "      <td>1.0</td>\n",
              "      <td>12.2875</td>\n",
              "      <td>S</td>\n",
              "      <td>896</td>\n",
              "      <td>Hirvonen, Mrs. Alexander (Helga E Lindqvist)</td>\n",
              "      <td>Youth</td>\n",
              "    </tr>\n",
              "  </tbody>\n",
              "</table>\n",
              "</div>"
            ],
            "text/plain": [
              "   Pclass     Sex  ...                                          Name  AgeGroup\n",
              "0     3.0    male  ...                              Kelly, Mr. James     Youth\n",
              "1     3.0  female  ...              Wilkes, Mrs. James (Ellen Needs)     Adult\n",
              "2     2.0    male  ...                     Myles, Mr. Thomas Francis    Senior\n",
              "3     3.0    male  ...                              Wirz, Mr. Albert     Youth\n",
              "4     3.0  female  ...  Hirvonen, Mrs. Alexander (Helga E Lindqvist)     Youth\n",
              "\n",
              "[5 rows x 10 columns]"
            ]
          },
          "metadata": {
            "tags": []
          },
          "execution_count": 358
        }
      ]
    },
    {
      "cell_type": "code",
      "metadata": {
        "id": "satellite-relationship"
      },
      "source": [
        "test_data['FareGroup'] = pd.cut(test_data['Fare'], bins = [0, 41, 101, 201, np.inf], labels=[1, 2, 3, 4]).astype(int)"
      ],
      "id": "satellite-relationship",
      "execution_count": null,
      "outputs": []
    },
    {
      "cell_type": "code",
      "metadata": {
        "id": "Ffw_B_1P3e94"
      },
      "source": [
        "test_data['Title'] = titling(test_data, 'Name')"
      ],
      "id": "Ffw_B_1P3e94",
      "execution_count": null,
      "outputs": []
    },
    {
      "cell_type": "code",
      "metadata": {
        "id": "wrsXU9Us3xPt"
      },
      "source": [
        "test_data['TitleGroup'] = tilgrouping(test_data, 'Title')"
      ],
      "id": "wrsXU9Us3xPt",
      "execution_count": null,
      "outputs": []
    },
    {
      "cell_type": "code",
      "metadata": {
        "id": "wlDry08C4A7v"
      },
      "source": [
        "test_data['FamilySize'] = test_data['SibSp'] + test_data['Parch']\n",
        "test_data['FamilyType'] = pd.cut(test_data['FamilySize'], bins=[-1, 0.5, 4, np.inf], labels=['Alone', 'Small', 'Big'])"
      ],
      "id": "wlDry08C4A7v",
      "execution_count": null,
      "outputs": []
    },
    {
      "cell_type": "code",
      "metadata": {
        "id": "decent-banking",
        "colab": {
          "base_uri": "https://localhost:8080/"
        },
        "outputId": "6ed4346d-8b32-4d63-dd5b-6d49eb505b6d"
      },
      "source": [
        "test_data.info()"
      ],
      "id": "decent-banking",
      "execution_count": null,
      "outputs": [
        {
          "output_type": "stream",
          "text": [
            "<class 'pandas.core.frame.DataFrame'>\n",
            "RangeIndex: 418 entries, 0 to 417\n",
            "Data columns (total 15 columns):\n",
            " #   Column       Non-Null Count  Dtype   \n",
            "---  ------       --------------  -----   \n",
            " 0   Pclass       418 non-null    float64 \n",
            " 1   Sex          418 non-null    object  \n",
            " 2   Age          418 non-null    float64 \n",
            " 3   SibSp        418 non-null    float64 \n",
            " 4   Parch        418 non-null    float64 \n",
            " 5   Fare         418 non-null    float64 \n",
            " 6   Embarked     418 non-null    object  \n",
            " 7   PassengerId  418 non-null    int64   \n",
            " 8   Name         418 non-null    object  \n",
            " 9   AgeGroup     418 non-null    category\n",
            " 10  FareGroup    418 non-null    int64   \n",
            " 11  Title        418 non-null    object  \n",
            " 12  TitleGroup   418 non-null    int64   \n",
            " 13  FamilySize   418 non-null    float64 \n",
            " 14  FamilyType   418 non-null    category\n",
            "dtypes: category(2), float64(6), int64(3), object(4)\n",
            "memory usage: 43.7+ KB\n"
          ],
          "name": "stdout"
        }
      ]
    },
    {
      "cell_type": "code",
      "metadata": {
        "id": "Xol9Lc0dFnTj"
      },
      "source": [
        "test_data.to_csv('/content/drive/MyDrive/MLData/Titanic/Prepd_Titanic_test_data.csv',index=False)"
      ],
      "id": "Xol9Lc0dFnTj",
      "execution_count": null,
      "outputs": []
    },
    {
      "cell_type": "code",
      "metadata": {
        "id": "noted-billy"
      },
      "source": [
        "test_preds = cat_model.predict(test_data[['Pclass', 'Sex', 'Age', 'SibSp', 'Parch', 'Fare', 'Embarked',\n",
        "       'AgeGroup', 'FareGroup', 'TitleGroup', 'FamilySize', 'FamilyType']])"
      ],
      "id": "noted-billy",
      "execution_count": null,
      "outputs": []
    },
    {
      "cell_type": "code",
      "metadata": {
        "id": "precise-wrist"
      },
      "source": [
        "survival_results = pd.concat([df_test['PassengerId'], pd.Series(test_preds, name='Survived')], axis=1)"
      ],
      "id": "precise-wrist",
      "execution_count": null,
      "outputs": []
    },
    {
      "cell_type": "code",
      "metadata": {
        "id": "suffering-furniture"
      },
      "source": [
        "survival_results.to_csv('survived_submission.csv', index=False)"
      ],
      "id": "suffering-furniture",
      "execution_count": null,
      "outputs": []
    },
    {
      "cell_type": "markdown",
      "metadata": {
        "id": "30I9zkT4HRoi"
      },
      "source": [
        "### **Saving the Model(s)**"
      ],
      "id": "30I9zkT4HRoi"
    },
    {
      "cell_type": "code",
      "metadata": {
        "id": "koTuF3pGGSjf"
      },
      "source": [
        "import joblib\n",
        "import os"
      ],
      "id": "koTuF3pGGSjf",
      "execution_count": null,
      "outputs": []
    },
    {
      "cell_type": "code",
      "metadata": {
        "id": "6NBA5VADHOSP"
      },
      "source": [
        "path = '/content/drive/MyDrive/MLData/Titanic'\n",
        "filenames =  ['Titanic_CatBoost_model.joblib', 'Titanic_LightGBM_model.joblib', 'Titanic_RF_model.joblib','Titanic_Ada_model.joblib']\n",
        "models = [cat_model, lgb_model, rf_model, ada_model]\n",
        "\n",
        "for i in range(len(filenames)):\n",
        "  joblib.dump(models[i], os.path.join(path, filenames[i]))"
      ],
      "id": "6NBA5VADHOSP",
      "execution_count": null,
      "outputs": []
    }
  ]
}