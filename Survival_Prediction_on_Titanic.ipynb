{
  "nbformat": 4,
  "nbformat_minor": 5,
  "metadata": {
    "kernelspec": {
      "display_name": "Python 3",
      "language": "python",
      "name": "python3"
    },
    "language_info": {
      "codemirror_mode": {
        "name": "ipython",
        "version": 3
      },
      "file_extension": ".py",
      "mimetype": "text/x-python",
      "name": "python",
      "nbconvert_exporter": "python",
      "pygments_lexer": "ipython3",
      "version": "3.8.3"
    },
    "colab": {
      "name": "Survival Prediction on Titanic.ipynb",
      "provenance": [],
      "collapsed_sections": [
        "junior-frontier"
      ],
      "include_colab_link": true
    },
    "accelerator": "TPU"
  },
  "cells": [
    {
      "cell_type": "markdown",
      "metadata": {
        "id": "view-in-github",
        "colab_type": "text"
      },
      "source": [
        "<a href=\"https://colab.research.google.com/github/realonbebeto/Titanic-Prediction/blob/main/Survival_Prediction_on_Titanic.ipynb\" target=\"_parent\"><img src=\"https://colab.research.google.com/assets/colab-badge.svg\" alt=\"Open In Colab\"/></a>"
      ]
    },
    {
      "cell_type": "markdown",
      "metadata": {
        "id": "natural-liberty"
      },
      "source": [
        "## Exploration of Titanic Data and Prediction of Survival\n",
        "\n",
        "This notebook will aim to:\n",
        "1. Assess and explore relationships between the features in the data\n",
        "2. Create new features from the available ones both in the train and test data\n",
        "3. Impute missing values with justifiable ones\n",
        "4. Explore various algorithms(Classifiers)\n",
        "5. Select the best algorithm to help predict an unseen data(test)\n",
        "6. Fine tune hyperparameters to create an optimum model\n",
        "7. Predict survival from the test data\n",
        "\n",
        "Progressively, libraries will be imported as required"
      ],
      "id": "natural-liberty"
    },
    {
      "cell_type": "code",
      "metadata": {
        "id": "weighted-gossip"
      },
      "source": [
        "import pandas as pd\n",
        "import matplotlib.pyplot as plt\n",
        "import seaborn as sns\n",
        "%matplotlib inline"
      ],
      "id": "weighted-gossip",
      "execution_count": 1,
      "outputs": []
    },
    {
      "cell_type": "code",
      "metadata": {
        "colab": {
          "base_uri": "https://localhost:8080/"
        },
        "id": "CbCnKERaUadT",
        "outputId": "284815d9-385c-4653-bc90-ebc92cf69429"
      },
      "source": [
        "from google.colab import drive\n",
        "drive.mount('/content/drive')"
      ],
      "id": "CbCnKERaUadT",
      "execution_count": 2,
      "outputs": [
        {
          "output_type": "stream",
          "text": [
            "Drive already mounted at /content/drive; to attempt to forcibly remount, call drive.mount(\"/content/drive\", force_remount=True).\n"
          ],
          "name": "stdout"
        }
      ]
    },
    {
      "cell_type": "code",
      "metadata": {
        "id": "union-empty"
      },
      "source": [
        "df_train = pd.read_csv('/content/drive/MyDrive/MLData/train.csv')\n",
        "df_test = pd.read_csv('/content/drive/MyDrive/MLData/test.csv')"
      ],
      "id": "union-empty",
      "execution_count": 3,
      "outputs": []
    },
    {
      "cell_type": "code",
      "metadata": {
        "id": "automatic-amendment",
        "colab": {
          "base_uri": "https://localhost:8080/",
          "height": 204
        },
        "outputId": "2248cecb-9782-4483-e23f-f9401702d3c1"
      },
      "source": [
        "df_train.head()"
      ],
      "id": "automatic-amendment",
      "execution_count": 4,
      "outputs": [
        {
          "output_type": "execute_result",
          "data": {
            "text/html": [
              "<div>\n",
              "<style scoped>\n",
              "    .dataframe tbody tr th:only-of-type {\n",
              "        vertical-align: middle;\n",
              "    }\n",
              "\n",
              "    .dataframe tbody tr th {\n",
              "        vertical-align: top;\n",
              "    }\n",
              "\n",
              "    .dataframe thead th {\n",
              "        text-align: right;\n",
              "    }\n",
              "</style>\n",
              "<table border=\"1\" class=\"dataframe\">\n",
              "  <thead>\n",
              "    <tr style=\"text-align: right;\">\n",
              "      <th></th>\n",
              "      <th>PassengerId</th>\n",
              "      <th>Survived</th>\n",
              "      <th>Pclass</th>\n",
              "      <th>Name</th>\n",
              "      <th>Sex</th>\n",
              "      <th>Age</th>\n",
              "      <th>SibSp</th>\n",
              "      <th>Parch</th>\n",
              "      <th>Ticket</th>\n",
              "      <th>Fare</th>\n",
              "      <th>Cabin</th>\n",
              "      <th>Embarked</th>\n",
              "    </tr>\n",
              "  </thead>\n",
              "  <tbody>\n",
              "    <tr>\n",
              "      <th>0</th>\n",
              "      <td>1</td>\n",
              "      <td>0</td>\n",
              "      <td>3</td>\n",
              "      <td>Braund, Mr. Owen Harris</td>\n",
              "      <td>male</td>\n",
              "      <td>22.0</td>\n",
              "      <td>1</td>\n",
              "      <td>0</td>\n",
              "      <td>A/5 21171</td>\n",
              "      <td>7.2500</td>\n",
              "      <td>NaN</td>\n",
              "      <td>S</td>\n",
              "    </tr>\n",
              "    <tr>\n",
              "      <th>1</th>\n",
              "      <td>2</td>\n",
              "      <td>1</td>\n",
              "      <td>1</td>\n",
              "      <td>Cumings, Mrs. John Bradley (Florence Briggs Th...</td>\n",
              "      <td>female</td>\n",
              "      <td>38.0</td>\n",
              "      <td>1</td>\n",
              "      <td>0</td>\n",
              "      <td>PC 17599</td>\n",
              "      <td>71.2833</td>\n",
              "      <td>C85</td>\n",
              "      <td>C</td>\n",
              "    </tr>\n",
              "    <tr>\n",
              "      <th>2</th>\n",
              "      <td>3</td>\n",
              "      <td>1</td>\n",
              "      <td>3</td>\n",
              "      <td>Heikkinen, Miss. Laina</td>\n",
              "      <td>female</td>\n",
              "      <td>26.0</td>\n",
              "      <td>0</td>\n",
              "      <td>0</td>\n",
              "      <td>STON/O2. 3101282</td>\n",
              "      <td>7.9250</td>\n",
              "      <td>NaN</td>\n",
              "      <td>S</td>\n",
              "    </tr>\n",
              "    <tr>\n",
              "      <th>3</th>\n",
              "      <td>4</td>\n",
              "      <td>1</td>\n",
              "      <td>1</td>\n",
              "      <td>Futrelle, Mrs. Jacques Heath (Lily May Peel)</td>\n",
              "      <td>female</td>\n",
              "      <td>35.0</td>\n",
              "      <td>1</td>\n",
              "      <td>0</td>\n",
              "      <td>113803</td>\n",
              "      <td>53.1000</td>\n",
              "      <td>C123</td>\n",
              "      <td>S</td>\n",
              "    </tr>\n",
              "    <tr>\n",
              "      <th>4</th>\n",
              "      <td>5</td>\n",
              "      <td>0</td>\n",
              "      <td>3</td>\n",
              "      <td>Allen, Mr. William Henry</td>\n",
              "      <td>male</td>\n",
              "      <td>35.0</td>\n",
              "      <td>0</td>\n",
              "      <td>0</td>\n",
              "      <td>373450</td>\n",
              "      <td>8.0500</td>\n",
              "      <td>NaN</td>\n",
              "      <td>S</td>\n",
              "    </tr>\n",
              "  </tbody>\n",
              "</table>\n",
              "</div>"
            ],
            "text/plain": [
              "   PassengerId  Survived  Pclass  ...     Fare Cabin  Embarked\n",
              "0            1         0       3  ...   7.2500   NaN         S\n",
              "1            2         1       1  ...  71.2833   C85         C\n",
              "2            3         1       3  ...   7.9250   NaN         S\n",
              "3            4         1       1  ...  53.1000  C123         S\n",
              "4            5         0       3  ...   8.0500   NaN         S\n",
              "\n",
              "[5 rows x 12 columns]"
            ]
          },
          "metadata": {
            "tags": []
          },
          "execution_count": 4
        }
      ]
    },
    {
      "cell_type": "markdown",
      "metadata": {
        "id": "visible-embassy"
      },
      "source": [
        "##### Feature Observations\n",
        "\n",
        "Here we will look at the potential of every feature in feature engineering.\n",
        "\n",
        "**1. _PassengerID_** - does not have any indication to create a new feature from it.\n",
        "\n",
        "**2. _Survived_** - is a class feature to be predicted with regard to each passengerin the test data thus no feature can be derived from it.\n",
        "\n",
        "**3. _Pclass_** - is class feature detailing the ticket classification if 1st, 2nd, or 3rd and no feature can be got from it.\n",
        "\n",
        "**4. _Name_** - is the string of words unique to each passenger but has potential to create **Title** and **Surname** features.\n",
        "\n",
        "**4. _Sex_** - is categorical feature detailing passenger orientation if male or female and no feature can be created from it.\n",
        "\n",
        "**5. _Age_** - is an ordinal unique feature showing amount of years lived and can create an **AgeGroup** categorical feature.\n",
        "\n",
        "**6. _SibSp_** - is a feature showing the relationship of either Sibling or Spouse and create a **FamilySize** feature together with the **Parch** feature.\n",
        "\n",
        "**7. _Parch_** - is a feature showing the relationship of either Parent or Child and can create a **FamilySize** feature together with the **SibSp** feature.\n",
        "\n",
        "**8. _Ticket_** - is a feature detailing the unique ticket number of each passenger and can be explored to create **T_Prefix** feature.\n",
        "\n",
        "**9. _Fare_** - is a feature showing the amount paid by each passenger and can help create a **FareGroup** feature.\n",
        "\n",
        "**10. _Cabin_** - is a feature detailing in which cabin the passenger was in or assigned and could create a categorical **CabinClass** feature.\n",
        "\n",
        "**11. _Embarked_** - is a feature detailing the port of entry by passenger and has no potent to create another feature.\n",
        "\n",
        "#### Exploration the Relationship of Features to Survival"
      ],
      "id": "visible-embassy"
    },
    {
      "cell_type": "code",
      "metadata": {
        "id": "speaking-republican",
        "colab": {
          "base_uri": "https://localhost:8080/"
        },
        "outputId": "e5239cab-655b-447f-cab8-cbf72390dd18"
      },
      "source": [
        "df_train.info()"
      ],
      "id": "speaking-republican",
      "execution_count": 5,
      "outputs": [
        {
          "output_type": "stream",
          "text": [
            "<class 'pandas.core.frame.DataFrame'>\n",
            "RangeIndex: 891 entries, 0 to 890\n",
            "Data columns (total 12 columns):\n",
            " #   Column       Non-Null Count  Dtype  \n",
            "---  ------       --------------  -----  \n",
            " 0   PassengerId  891 non-null    int64  \n",
            " 1   Survived     891 non-null    int64  \n",
            " 2   Pclass       891 non-null    int64  \n",
            " 3   Name         891 non-null    object \n",
            " 4   Sex          891 non-null    object \n",
            " 5   Age          714 non-null    float64\n",
            " 6   SibSp        891 non-null    int64  \n",
            " 7   Parch        891 non-null    int64  \n",
            " 8   Ticket       891 non-null    object \n",
            " 9   Fare         891 non-null    float64\n",
            " 10  Cabin        204 non-null    object \n",
            " 11  Embarked     889 non-null    object \n",
            "dtypes: float64(2), int64(5), object(5)\n",
            "memory usage: 83.7+ KB\n"
          ],
          "name": "stdout"
        }
      ]
    },
    {
      "cell_type": "code",
      "metadata": {
        "id": "opposed-booking",
        "colab": {
          "base_uri": "https://localhost:8080/"
        },
        "outputId": "ba475e88-5113-4825-e492-e1bffb8abc2e"
      },
      "source": [
        "1 - (df_train.count() / len(df_train))"
      ],
      "id": "opposed-booking",
      "execution_count": 6,
      "outputs": [
        {
          "output_type": "execute_result",
          "data": {
            "text/plain": [
              "PassengerId    0.000000\n",
              "Survived       0.000000\n",
              "Pclass         0.000000\n",
              "Name           0.000000\n",
              "Sex            0.000000\n",
              "Age            0.198653\n",
              "SibSp          0.000000\n",
              "Parch          0.000000\n",
              "Ticket         0.000000\n",
              "Fare           0.000000\n",
              "Cabin          0.771044\n",
              "Embarked       0.002245\n",
              "dtype: float64"
            ]
          },
          "metadata": {
            "tags": []
          },
          "execution_count": 6
        }
      ]
    },
    {
      "cell_type": "markdown",
      "metadata": {
        "id": "invisible-liver"
      },
      "source": [
        "**Observations**\n",
        "\n",
        "1. Age has about 20% missing values which can be imputed with either mean, mode or median\n",
        "2. Cabin has about 77% missing values and any imputation will give a distribution not representative of actual or close enough.\n",
        "3. Emabarked has about 0.22% missing values giving an indication of an easy imputation of the missing values\n",
        "4. All the other features do not have missing values."
      ],
      "id": "invisible-liver"
    },
    {
      "cell_type": "code",
      "metadata": {
        "id": "cubic-nitrogen",
        "colab": {
          "base_uri": "https://localhost:8080/",
          "height": 390
        },
        "outputId": "fb32559b-346f-43ef-f110-63256db44752"
      },
      "source": [
        "df_train.describe(include='all')"
      ],
      "id": "cubic-nitrogen",
      "execution_count": 7,
      "outputs": [
        {
          "output_type": "execute_result",
          "data": {
            "text/html": [
              "<div>\n",
              "<style scoped>\n",
              "    .dataframe tbody tr th:only-of-type {\n",
              "        vertical-align: middle;\n",
              "    }\n",
              "\n",
              "    .dataframe tbody tr th {\n",
              "        vertical-align: top;\n",
              "    }\n",
              "\n",
              "    .dataframe thead th {\n",
              "        text-align: right;\n",
              "    }\n",
              "</style>\n",
              "<table border=\"1\" class=\"dataframe\">\n",
              "  <thead>\n",
              "    <tr style=\"text-align: right;\">\n",
              "      <th></th>\n",
              "      <th>PassengerId</th>\n",
              "      <th>Survived</th>\n",
              "      <th>Pclass</th>\n",
              "      <th>Name</th>\n",
              "      <th>Sex</th>\n",
              "      <th>Age</th>\n",
              "      <th>SibSp</th>\n",
              "      <th>Parch</th>\n",
              "      <th>Ticket</th>\n",
              "      <th>Fare</th>\n",
              "      <th>Cabin</th>\n",
              "      <th>Embarked</th>\n",
              "    </tr>\n",
              "  </thead>\n",
              "  <tbody>\n",
              "    <tr>\n",
              "      <th>count</th>\n",
              "      <td>891.000000</td>\n",
              "      <td>891.000000</td>\n",
              "      <td>891.000000</td>\n",
              "      <td>891</td>\n",
              "      <td>891</td>\n",
              "      <td>714.000000</td>\n",
              "      <td>891.000000</td>\n",
              "      <td>891.000000</td>\n",
              "      <td>891</td>\n",
              "      <td>891.000000</td>\n",
              "      <td>204</td>\n",
              "      <td>889</td>\n",
              "    </tr>\n",
              "    <tr>\n",
              "      <th>unique</th>\n",
              "      <td>NaN</td>\n",
              "      <td>NaN</td>\n",
              "      <td>NaN</td>\n",
              "      <td>891</td>\n",
              "      <td>2</td>\n",
              "      <td>NaN</td>\n",
              "      <td>NaN</td>\n",
              "      <td>NaN</td>\n",
              "      <td>681</td>\n",
              "      <td>NaN</td>\n",
              "      <td>147</td>\n",
              "      <td>3</td>\n",
              "    </tr>\n",
              "    <tr>\n",
              "      <th>top</th>\n",
              "      <td>NaN</td>\n",
              "      <td>NaN</td>\n",
              "      <td>NaN</td>\n",
              "      <td>Lam, Mr. Ali</td>\n",
              "      <td>male</td>\n",
              "      <td>NaN</td>\n",
              "      <td>NaN</td>\n",
              "      <td>NaN</td>\n",
              "      <td>347082</td>\n",
              "      <td>NaN</td>\n",
              "      <td>G6</td>\n",
              "      <td>S</td>\n",
              "    </tr>\n",
              "    <tr>\n",
              "      <th>freq</th>\n",
              "      <td>NaN</td>\n",
              "      <td>NaN</td>\n",
              "      <td>NaN</td>\n",
              "      <td>1</td>\n",
              "      <td>577</td>\n",
              "      <td>NaN</td>\n",
              "      <td>NaN</td>\n",
              "      <td>NaN</td>\n",
              "      <td>7</td>\n",
              "      <td>NaN</td>\n",
              "      <td>4</td>\n",
              "      <td>644</td>\n",
              "    </tr>\n",
              "    <tr>\n",
              "      <th>mean</th>\n",
              "      <td>446.000000</td>\n",
              "      <td>0.383838</td>\n",
              "      <td>2.308642</td>\n",
              "      <td>NaN</td>\n",
              "      <td>NaN</td>\n",
              "      <td>29.699118</td>\n",
              "      <td>0.523008</td>\n",
              "      <td>0.381594</td>\n",
              "      <td>NaN</td>\n",
              "      <td>32.204208</td>\n",
              "      <td>NaN</td>\n",
              "      <td>NaN</td>\n",
              "    </tr>\n",
              "    <tr>\n",
              "      <th>std</th>\n",
              "      <td>257.353842</td>\n",
              "      <td>0.486592</td>\n",
              "      <td>0.836071</td>\n",
              "      <td>NaN</td>\n",
              "      <td>NaN</td>\n",
              "      <td>14.526497</td>\n",
              "      <td>1.102743</td>\n",
              "      <td>0.806057</td>\n",
              "      <td>NaN</td>\n",
              "      <td>49.693429</td>\n",
              "      <td>NaN</td>\n",
              "      <td>NaN</td>\n",
              "    </tr>\n",
              "    <tr>\n",
              "      <th>min</th>\n",
              "      <td>1.000000</td>\n",
              "      <td>0.000000</td>\n",
              "      <td>1.000000</td>\n",
              "      <td>NaN</td>\n",
              "      <td>NaN</td>\n",
              "      <td>0.420000</td>\n",
              "      <td>0.000000</td>\n",
              "      <td>0.000000</td>\n",
              "      <td>NaN</td>\n",
              "      <td>0.000000</td>\n",
              "      <td>NaN</td>\n",
              "      <td>NaN</td>\n",
              "    </tr>\n",
              "    <tr>\n",
              "      <th>25%</th>\n",
              "      <td>223.500000</td>\n",
              "      <td>0.000000</td>\n",
              "      <td>2.000000</td>\n",
              "      <td>NaN</td>\n",
              "      <td>NaN</td>\n",
              "      <td>20.125000</td>\n",
              "      <td>0.000000</td>\n",
              "      <td>0.000000</td>\n",
              "      <td>NaN</td>\n",
              "      <td>7.910400</td>\n",
              "      <td>NaN</td>\n",
              "      <td>NaN</td>\n",
              "    </tr>\n",
              "    <tr>\n",
              "      <th>50%</th>\n",
              "      <td>446.000000</td>\n",
              "      <td>0.000000</td>\n",
              "      <td>3.000000</td>\n",
              "      <td>NaN</td>\n",
              "      <td>NaN</td>\n",
              "      <td>28.000000</td>\n",
              "      <td>0.000000</td>\n",
              "      <td>0.000000</td>\n",
              "      <td>NaN</td>\n",
              "      <td>14.454200</td>\n",
              "      <td>NaN</td>\n",
              "      <td>NaN</td>\n",
              "    </tr>\n",
              "    <tr>\n",
              "      <th>75%</th>\n",
              "      <td>668.500000</td>\n",
              "      <td>1.000000</td>\n",
              "      <td>3.000000</td>\n",
              "      <td>NaN</td>\n",
              "      <td>NaN</td>\n",
              "      <td>38.000000</td>\n",
              "      <td>1.000000</td>\n",
              "      <td>0.000000</td>\n",
              "      <td>NaN</td>\n",
              "      <td>31.000000</td>\n",
              "      <td>NaN</td>\n",
              "      <td>NaN</td>\n",
              "    </tr>\n",
              "    <tr>\n",
              "      <th>max</th>\n",
              "      <td>891.000000</td>\n",
              "      <td>1.000000</td>\n",
              "      <td>3.000000</td>\n",
              "      <td>NaN</td>\n",
              "      <td>NaN</td>\n",
              "      <td>80.000000</td>\n",
              "      <td>8.000000</td>\n",
              "      <td>6.000000</td>\n",
              "      <td>NaN</td>\n",
              "      <td>512.329200</td>\n",
              "      <td>NaN</td>\n",
              "      <td>NaN</td>\n",
              "    </tr>\n",
              "  </tbody>\n",
              "</table>\n",
              "</div>"
            ],
            "text/plain": [
              "        PassengerId    Survived      Pclass  ...        Fare Cabin  Embarked\n",
              "count    891.000000  891.000000  891.000000  ...  891.000000   204       889\n",
              "unique          NaN         NaN         NaN  ...         NaN   147         3\n",
              "top             NaN         NaN         NaN  ...         NaN    G6         S\n",
              "freq            NaN         NaN         NaN  ...         NaN     4       644\n",
              "mean     446.000000    0.383838    2.308642  ...   32.204208   NaN       NaN\n",
              "std      257.353842    0.486592    0.836071  ...   49.693429   NaN       NaN\n",
              "min        1.000000    0.000000    1.000000  ...    0.000000   NaN       NaN\n",
              "25%      223.500000    0.000000    2.000000  ...    7.910400   NaN       NaN\n",
              "50%      446.000000    0.000000    3.000000  ...   14.454200   NaN       NaN\n",
              "75%      668.500000    1.000000    3.000000  ...   31.000000   NaN       NaN\n",
              "max      891.000000    1.000000    3.000000  ...  512.329200   NaN       NaN\n",
              "\n",
              "[11 rows x 12 columns]"
            ]
          },
          "metadata": {
            "tags": []
          },
          "execution_count": 7
        }
      ]
    },
    {
      "cell_type": "markdown",
      "metadata": {
        "id": "standard-tiger"
      },
      "source": [
        "**Observation**\n",
        "\n",
        "1. Minimum age is 0.42 and seems not normal\n",
        "2. Minimum fare is 0 and also seems not normal"
      ],
      "id": "standard-tiger"
    },
    {
      "cell_type": "code",
      "metadata": {
        "id": "amber-publication",
        "colab": {
          "base_uri": "https://localhost:8080/",
          "height": 499
        },
        "outputId": "f1a9c39a-8b38-4b46-9b53-d8e3ed8e96c3"
      },
      "source": [
        "df_train[['Age', 'Fare']].hist(bins=50, figsize=(12, 8))\n",
        "plt.show()"
      ],
      "id": "amber-publication",
      "execution_count": 8,
      "outputs": [
        {
          "output_type": "display_data",
          "data": {
            "image/png": "[encoded data removed]",
            "text/plain": [
              "<Figure size 864x576 with 2 Axes>"
            ]
          },
          "metadata": {
            "tags": [],
            "needs_background": "light"
          }
        }
      ]
    },
    {
      "cell_type": "markdown",
      "metadata": {
        "id": "digital-alberta"
      },
      "source": [
        "1. **Sex**"
      ],
      "id": "digital-alberta"
    },
    {
      "cell_type": "code",
      "metadata": {
        "id": "beautiful-charity",
        "colab": {
          "base_uri": "https://localhost:8080/",
          "height": 279
        },
        "outputId": "1d868b49-e950-4bd7-c339-4b5c77b3e76a"
      },
      "source": [
        "sns.barplot(data=df_train, x='Sex', y='Survived', hue='Sex')\n",
        "plt.show()"
      ],
      "id": "beautiful-charity",
      "execution_count": 9,
      "outputs": [
        {
          "output_type": "display_data",
          "data": {
            "image/png": "[encoded data removed]",
            "text/plain": [
              "<Figure size 432x288 with 1 Axes>"
            ]
          },
          "metadata": {
            "tags": [],
            "needs_background": "light"
          }
        }
      ]
    },
    {
      "cell_type": "markdown",
      "metadata": {
        "id": "becoming-manitoba"
      },
      "source": [
        "**Observation**\n",
        "\n",
        "Being a female, there is a likelihood to survive.\n",
        "\n",
        "2. **Pclass**"
      ],
      "id": "becoming-manitoba"
    },
    {
      "cell_type": "code",
      "metadata": {
        "id": "approximate-newcastle",
        "colab": {
          "base_uri": "https://localhost:8080/",
          "height": 279
        },
        "outputId": "255feaef-d5d3-4f71-ef62-4b71f4444c14"
      },
      "source": [
        "sns.barplot(data=df_train, x= 'Pclass', y='Survived', hue='Pclass')\n",
        "plt.show()"
      ],
      "id": "approximate-newcastle",
      "execution_count": 10,
      "outputs": [
        {
          "output_type": "display_data",
          "data": {
            "image/png": "[encoded data removed]",
            "text/plain": [
              "<Figure size 432x288 with 1 Axes>"
            ]
          },
          "metadata": {
            "tags": [],
            "needs_background": "light"
          }
        }
      ]
    },
    {
      "cell_type": "markdown",
      "metadata": {
        "id": "spiritual-chambers"
      },
      "source": [
        "**Observation**\n",
        "\n",
        "Passenger class 1 and 2 have a higher likelihood to survive.\n",
        "\n",
        "3. **Age**\n",
        "\n",
        "To represent age we will impute missing values and then create a new class feature - **AgeGroup**. For missing values this notebook will adopt the **Mode** to impute.\n",
        "Classification will be as follows:\n",
        "\n",
        "0-5 -> Baby\n",
        "\n",
        "6-15 -> Child\n",
        "\n",
        "16-35 -> Youth\n",
        "\n",
        "36-55 -> Adult\n",
        "\n",
        "55-80 -> Senior"
      ],
      "id": "spiritual-chambers"
    },
    {
      "cell_type": "code",
      "metadata": {
        "id": "global-humidity",
        "colab": {
          "base_uri": "https://localhost:8080/"
        },
        "outputId": "e3442bc3-28a5-410f-f561-98ac1ff9bbaa"
      },
      "source": [
        "mode = df_train['Age'].mode()\n",
        "mode"
      ],
      "id": "global-humidity",
      "execution_count": 11,
      "outputs": [
        {
          "output_type": "execute_result",
          "data": {
            "text/plain": [
              "0    24.0\n",
              "dtype: float64"
            ]
          },
          "metadata": {
            "tags": []
          },
          "execution_count": 11
        }
      ]
    },
    {
      "cell_type": "code",
      "metadata": {
        "id": "behind-variation",
        "colab": {
          "base_uri": "https://localhost:8080/"
        },
        "outputId": "c27c2f92-d493-4c1e-a903-93c8c4a17198"
      },
      "source": [
        "x= df_test['Age'].mode()\n",
        "print(x)"
      ],
      "id": "behind-variation",
      "execution_count": 12,
      "outputs": [
        {
          "output_type": "stream",
          "text": [
            "0    21.0\n",
            "1    24.0\n",
            "dtype: float64\n"
          ],
          "name": "stdout"
        }
      ]
    },
    {
      "cell_type": "code",
      "metadata": {
        "id": "eight-structure"
      },
      "source": [
        "df_train['Age'].fillna(24, inplace=True)\n",
        "df_test['Age'].fillna(21, inplace=True)"
      ],
      "id": "eight-structure",
      "execution_count": 13,
      "outputs": []
    },
    {
      "cell_type": "code",
      "metadata": {
        "id": "found-arthritis",
        "colab": {
          "base_uri": "https://localhost:8080/",
          "height": 204
        },
        "outputId": "719cbefa-e23d-4676-bb17-5fa97109c95e"
      },
      "source": [
        "import numpy as np\n",
        "\n",
        "bins = [0, 6, 16, 36, 55, np.inf]\n",
        "labels = ['Baby', 'Child', 'Youth', 'Adult', 'Senior']\n",
        "\n",
        "df_train['AgeGroup'] = pd.cut(df_train['Age'], bins = bins, labels = labels)\n",
        "df_test['AgeGroup'] = pd.cut(df_test['Age'], bins=bins, labels = labels)\n",
        "df_train.head()"
      ],
      "id": "found-arthritis",
      "execution_count": 14,
      "outputs": [
        {
          "output_type": "execute_result",
          "data": {
            "text/html": [
              "<div>\n",
              "<style scoped>\n",
              "    .dataframe tbody tr th:only-of-type {\n",
              "        vertical-align: middle;\n",
              "    }\n",
              "\n",
              "    .dataframe tbody tr th {\n",
              "        vertical-align: top;\n",
              "    }\n",
              "\n",
              "    .dataframe thead th {\n",
              "        text-align: right;\n",
              "    }\n",
              "</style>\n",
              "<table border=\"1\" class=\"dataframe\">\n",
              "  <thead>\n",
              "    <tr style=\"text-align: right;\">\n",
              "      <th></th>\n",
              "      <th>PassengerId</th>\n",
              "      <th>Survived</th>\n",
              "      <th>Pclass</th>\n",
              "      <th>Name</th>\n",
              "      <th>Sex</th>\n",
              "      <th>Age</th>\n",
              "      <th>SibSp</th>\n",
              "      <th>Parch</th>\n",
              "      <th>Ticket</th>\n",
              "      <th>Fare</th>\n",
              "      <th>Cabin</th>\n",
              "      <th>Embarked</th>\n",
              "      <th>AgeGroup</th>\n",
              "    </tr>\n",
              "  </thead>\n",
              "  <tbody>\n",
              "    <tr>\n",
              "      <th>0</th>\n",
              "      <td>1</td>\n",
              "      <td>0</td>\n",
              "      <td>3</td>\n",
              "      <td>Braund, Mr. Owen Harris</td>\n",
              "      <td>male</td>\n",
              "      <td>22.0</td>\n",
              "      <td>1</td>\n",
              "      <td>0</td>\n",
              "      <td>A/5 21171</td>\n",
              "      <td>7.2500</td>\n",
              "      <td>NaN</td>\n",
              "      <td>S</td>\n",
              "      <td>Youth</td>\n",
              "    </tr>\n",
              "    <tr>\n",
              "      <th>1</th>\n",
              "      <td>2</td>\n",
              "      <td>1</td>\n",
              "      <td>1</td>\n",
              "      <td>Cumings, Mrs. John Bradley (Florence Briggs Th...</td>\n",
              "      <td>female</td>\n",
              "      <td>38.0</td>\n",
              "      <td>1</td>\n",
              "      <td>0</td>\n",
              "      <td>PC 17599</td>\n",
              "      <td>71.2833</td>\n",
              "      <td>C85</td>\n",
              "      <td>C</td>\n",
              "      <td>Adult</td>\n",
              "    </tr>\n",
              "    <tr>\n",
              "      <th>2</th>\n",
              "      <td>3</td>\n",
              "      <td>1</td>\n",
              "      <td>3</td>\n",
              "      <td>Heikkinen, Miss. Laina</td>\n",
              "      <td>female</td>\n",
              "      <td>26.0</td>\n",
              "      <td>0</td>\n",
              "      <td>0</td>\n",
              "      <td>STON/O2. 3101282</td>\n",
              "      <td>7.9250</td>\n",
              "      <td>NaN</td>\n",
              "      <td>S</td>\n",
              "      <td>Youth</td>\n",
              "    </tr>\n",
              "    <tr>\n",
              "      <th>3</th>\n",
              "      <td>4</td>\n",
              "      <td>1</td>\n",
              "      <td>1</td>\n",
              "      <td>Futrelle, Mrs. Jacques Heath (Lily May Peel)</td>\n",
              "      <td>female</td>\n",
              "      <td>35.0</td>\n",
              "      <td>1</td>\n",
              "      <td>0</td>\n",
              "      <td>113803</td>\n",
              "      <td>53.1000</td>\n",
              "      <td>C123</td>\n",
              "      <td>S</td>\n",
              "      <td>Youth</td>\n",
              "    </tr>\n",
              "    <tr>\n",
              "      <th>4</th>\n",
              "      <td>5</td>\n",
              "      <td>0</td>\n",
              "      <td>3</td>\n",
              "      <td>Allen, Mr. William Henry</td>\n",
              "      <td>male</td>\n",
              "      <td>35.0</td>\n",
              "      <td>0</td>\n",
              "      <td>0</td>\n",
              "      <td>373450</td>\n",
              "      <td>8.0500</td>\n",
              "      <td>NaN</td>\n",
              "      <td>S</td>\n",
              "      <td>Youth</td>\n",
              "    </tr>\n",
              "  </tbody>\n",
              "</table>\n",
              "</div>"
            ],
            "text/plain": [
              "   PassengerId  Survived  Pclass  ... Cabin Embarked  AgeGroup\n",
              "0            1         0       3  ...   NaN        S     Youth\n",
              "1            2         1       1  ...   C85        C     Adult\n",
              "2            3         1       3  ...   NaN        S     Youth\n",
              "3            4         1       1  ...  C123        S     Youth\n",
              "4            5         0       3  ...   NaN        S     Youth\n",
              "\n",
              "[5 rows x 13 columns]"
            ]
          },
          "metadata": {
            "tags": []
          },
          "execution_count": 14
        }
      ]
    },
    {
      "cell_type": "code",
      "metadata": {
        "id": "instant-adrian",
        "colab": {
          "base_uri": "https://localhost:8080/",
          "height": 279
        },
        "outputId": "476dd169-3cc1-4f5b-f9e8-b44a53058ebb"
      },
      "source": [
        "sns.barplot(data=df_train, x='AgeGroup', y='Survived', hue='AgeGroup')\n",
        "plt.show()"
      ],
      "id": "instant-adrian",
      "execution_count": 15,
      "outputs": [
        {
          "output_type": "display_data",
          "data": {
            "image/png": "[encoded data removed]",
            "text/plain": [
              "<Figure size 432x288 with 1 Axes>"
            ]
          },
          "metadata": {
            "tags": [],
            "needs_background": "light"
          }
        }
      ]
    },
    {
      "cell_type": "markdown",
      "metadata": {
        "id": "lovely-immunology"
      },
      "source": [
        "**Observation**\n",
        "\n",
        "1. Babies have a high likelihood to survive\n",
        "2. Childrend and Adults have a similar likelihood to survive almost shared with youths\n",
        "3. Seniors have the lowest survival rate\n",
        "\n",
        "\n",
        "\n",
        "\n",
        "4. **SibSp**"
      ],
      "id": "lovely-immunology"
    },
    {
      "cell_type": "code",
      "metadata": {
        "id": "outer-biology",
        "colab": {
          "base_uri": "https://localhost:8080/",
          "height": 279
        },
        "outputId": "2cdd60bb-b401-40e5-c2a7-3361337dc04e"
      },
      "source": [
        "sns.barplot(data=df_train, x='SibSp', y='Survived', hue='SibSp')\n",
        "plt.show()"
      ],
      "id": "outer-biology",
      "execution_count": 16,
      "outputs": [
        {
          "output_type": "display_data",
          "data": {
            "image/png": "[encoded data removed]",
            "text/plain": [
              "<Figure size 432x288 with 1 Axes>"
            ]
          },
          "metadata": {
            "tags": [],
            "needs_background": "light"
          }
        }
      ]
    },
    {
      "cell_type": "markdown",
      "metadata": {
        "id": "defensive-reform"
      },
      "source": [
        "**Observations**\n",
        "\n",
        "There is a high likelihood to survive for a passenger who is alone or with only one extra person.\n",
        "\n",
        "5. **Parch**"
      ],
      "id": "defensive-reform"
    },
    {
      "cell_type": "code",
      "metadata": {
        "id": "corrected-athens",
        "colab": {
          "base_uri": "https://localhost:8080/",
          "height": 279
        },
        "outputId": "764f571b-76fa-46b5-b9af-b9ac094d0705"
      },
      "source": [
        "sns.barplot(data=df_train, x='Parch', y='Survived', hue='Parch')\n",
        "plt.show()"
      ],
      "id": "corrected-athens",
      "execution_count": 17,
      "outputs": [
        {
          "output_type": "display_data",
          "data": {
            "image/png": "[encoded data removed]",
            "text/plain": [
              "<Figure size 432x288 with 1 Axes>"
            ]
          },
          "metadata": {
            "tags": [],
            "needs_background": "light"
          }
        }
      ]
    },
    {
      "cell_type": "markdown",
      "metadata": {
        "id": "joint-platinum"
      },
      "source": [
        "**Observation**\n",
        "\n",
        "Passengers with parent child relationship were more likely to survive.\n",
        "\n",
        "6. **Ticket**"
      ],
      "id": "joint-platinum"
    },
    {
      "cell_type": "code",
      "metadata": {
        "id": "recent-pepper",
        "colab": {
          "base_uri": "https://localhost:8080/"
        },
        "outputId": "7b7b38d8-e07a-4d16-9a50-1d52e8042b18"
      },
      "source": [
        "891 - int(df_train['Ticket'].unique().shape[0])"
      ],
      "id": "recent-pepper",
      "execution_count": 18,
      "outputs": [
        {
          "output_type": "execute_result",
          "data": {
            "text/plain": [
              "210"
            ]
          },
          "metadata": {
            "tags": []
          },
          "execution_count": 18
        }
      ]
    },
    {
      "cell_type": "markdown",
      "metadata": {
        "id": "convertible-doctor"
      },
      "source": [
        "Only 210 tickets are shared among the passengers giving the impression that less could be got from the Ticket feature.\n",
        "\n",
        "7. **Fare**\n",
        "\n",
        "There are fares which are zero which is not factual. This notebook will impute them using Pclass means."
      ],
      "id": "convertible-doctor"
    },
    {
      "cell_type": "code",
      "metadata": {
        "id": "conscious-cleaning",
        "colab": {
          "base_uri": "https://localhost:8080/",
          "height": 514
        },
        "outputId": "55434de2-e820-4192-9664-2923f68af632"
      },
      "source": [
        "df_train[['Fare', 'Pclass']][df_train['Fare'] == 0]"
      ],
      "id": "conscious-cleaning",
      "execution_count": 19,
      "outputs": [
        {
          "output_type": "execute_result",
          "data": {
            "text/html": [
              "<div>\n",
              "<style scoped>\n",
              "    .dataframe tbody tr th:only-of-type {\n",
              "        vertical-align: middle;\n",
              "    }\n",
              "\n",
              "    .dataframe tbody tr th {\n",
              "        vertical-align: top;\n",
              "    }\n",
              "\n",
              "    .dataframe thead th {\n",
              "        text-align: right;\n",
              "    }\n",
              "</style>\n",
              "<table border=\"1\" class=\"dataframe\">\n",
              "  <thead>\n",
              "    <tr style=\"text-align: right;\">\n",
              "      <th></th>\n",
              "      <th>Fare</th>\n",
              "      <th>Pclass</th>\n",
              "    </tr>\n",
              "  </thead>\n",
              "  <tbody>\n",
              "    <tr>\n",
              "      <th>179</th>\n",
              "      <td>0.0</td>\n",
              "      <td>3</td>\n",
              "    </tr>\n",
              "    <tr>\n",
              "      <th>263</th>\n",
              "      <td>0.0</td>\n",
              "      <td>1</td>\n",
              "    </tr>\n",
              "    <tr>\n",
              "      <th>271</th>\n",
              "      <td>0.0</td>\n",
              "      <td>3</td>\n",
              "    </tr>\n",
              "    <tr>\n",
              "      <th>277</th>\n",
              "      <td>0.0</td>\n",
              "      <td>2</td>\n",
              "    </tr>\n",
              "    <tr>\n",
              "      <th>302</th>\n",
              "      <td>0.0</td>\n",
              "      <td>3</td>\n",
              "    </tr>\n",
              "    <tr>\n",
              "      <th>413</th>\n",
              "      <td>0.0</td>\n",
              "      <td>2</td>\n",
              "    </tr>\n",
              "    <tr>\n",
              "      <th>466</th>\n",
              "      <td>0.0</td>\n",
              "      <td>2</td>\n",
              "    </tr>\n",
              "    <tr>\n",
              "      <th>481</th>\n",
              "      <td>0.0</td>\n",
              "      <td>2</td>\n",
              "    </tr>\n",
              "    <tr>\n",
              "      <th>597</th>\n",
              "      <td>0.0</td>\n",
              "      <td>3</td>\n",
              "    </tr>\n",
              "    <tr>\n",
              "      <th>633</th>\n",
              "      <td>0.0</td>\n",
              "      <td>1</td>\n",
              "    </tr>\n",
              "    <tr>\n",
              "      <th>674</th>\n",
              "      <td>0.0</td>\n",
              "      <td>2</td>\n",
              "    </tr>\n",
              "    <tr>\n",
              "      <th>732</th>\n",
              "      <td>0.0</td>\n",
              "      <td>2</td>\n",
              "    </tr>\n",
              "    <tr>\n",
              "      <th>806</th>\n",
              "      <td>0.0</td>\n",
              "      <td>1</td>\n",
              "    </tr>\n",
              "    <tr>\n",
              "      <th>815</th>\n",
              "      <td>0.0</td>\n",
              "      <td>1</td>\n",
              "    </tr>\n",
              "    <tr>\n",
              "      <th>822</th>\n",
              "      <td>0.0</td>\n",
              "      <td>1</td>\n",
              "    </tr>\n",
              "  </tbody>\n",
              "</table>\n",
              "</div>"
            ],
            "text/plain": [
              "     Fare  Pclass\n",
              "179   0.0       3\n",
              "263   0.0       1\n",
              "271   0.0       3\n",
              "277   0.0       2\n",
              "302   0.0       3\n",
              "413   0.0       2\n",
              "466   0.0       2\n",
              "481   0.0       2\n",
              "597   0.0       3\n",
              "633   0.0       1\n",
              "674   0.0       2\n",
              "732   0.0       2\n",
              "806   0.0       1\n",
              "815   0.0       1\n",
              "822   0.0       1"
            ]
          },
          "metadata": {
            "tags": []
          },
          "execution_count": 19
        }
      ]
    },
    {
      "cell_type": "code",
      "metadata": {
        "id": "fatal-given",
        "colab": {
          "base_uri": "https://localhost:8080/"
        },
        "outputId": "d134152b-5351-4e02-f9be-cf30656ee3d1"
      },
      "source": [
        "pclass_mean1 = round(df_train['Fare'][df_train['Pclass'] == 1].mean(), 4)\n",
        "pclass_mean2 = round(df_train['Fare'][df_train['Pclass'] == 2].mean(), 4)\n",
        "pclass_mean3 = round(df_train['Fare'][df_train['Pclass'] == 3].mean(), 4)\n",
        "print(f'Mean 1: {pclass_mean1}, Mean 2: {pclass_mean2}, Mean : {pclass_mean3}')"
      ],
      "id": "fatal-given",
      "execution_count": 20,
      "outputs": [
        {
          "output_type": "stream",
          "text": [
            "Mean 1: 84.1547, Mean 2: 20.6622, Mean : 13.6756\n"
          ],
          "name": "stdout"
        }
      ]
    },
    {
      "cell_type": "code",
      "metadata": {
        "scrolled": true,
        "id": "communist-gospel",
        "colab": {
          "base_uri": "https://localhost:8080/"
        },
        "outputId": "ef34c803-daa1-4e1d-c5e2-8f5148af214c"
      },
      "source": [
        "df_train['Fare'][(df_train['Pclass'] == 1) & (df_train['Fare'] == 0)] = pclass_mean1\n",
        "df_train['Fare'][(df_train['Pclass'] == 2) & (df_train['Fare'] == 0)] = pclass_mean2\n",
        "df_train['Fare'][(df_train['Pclass'] == 3) & (df_train['Fare'] == 0)] = pclass_mean3"
      ],
      "id": "communist-gospel",
      "execution_count": 21,
      "outputs": [
        {
          "output_type": "stream",
          "text": [
            "/usr/local/lib/python3.7/dist-packages/ipykernel_launcher.py:1: SettingWithCopyWarning: \n",
            "A value is trying to be set on a copy of a slice from a DataFrame\n",
            "\n",
            "See the caveats in the documentation: https://pandas.pydata.org/pandas-docs/stable/user_guide/indexing.html#returning-a-view-versus-a-copy\n",
            "  \"\"\"Entry point for launching an IPython kernel.\n",
            "/usr/local/lib/python3.7/dist-packages/ipykernel_launcher.py:2: SettingWithCopyWarning: \n",
            "A value is trying to be set on a copy of a slice from a DataFrame\n",
            "\n",
            "See the caveats in the documentation: https://pandas.pydata.org/pandas-docs/stable/user_guide/indexing.html#returning-a-view-versus-a-copy\n",
            "  \n",
            "/usr/local/lib/python3.7/dist-packages/ipykernel_launcher.py:3: SettingWithCopyWarning: \n",
            "A value is trying to be set on a copy of a slice from a DataFrame\n",
            "\n",
            "See the caveats in the documentation: https://pandas.pydata.org/pandas-docs/stable/user_guide/indexing.html#returning-a-view-versus-a-copy\n",
            "  This is separate from the ipykernel package so we can avoid doing imports until\n"
          ],
          "name": "stderr"
        }
      ]
    },
    {
      "cell_type": "code",
      "metadata": {
        "id": "framed-kazakhstan",
        "colab": {
          "base_uri": "https://localhost:8080/",
          "height": 111
        },
        "outputId": "4e04a377-d8bc-48ce-a77b-129da66bef8b"
      },
      "source": [
        "df_test[['Fare', 'Pclass']][df_test['Fare'] == 0]"
      ],
      "id": "framed-kazakhstan",
      "execution_count": 22,
      "outputs": [
        {
          "output_type": "execute_result",
          "data": {
            "text/html": [
              "<div>\n",
              "<style scoped>\n",
              "    .dataframe tbody tr th:only-of-type {\n",
              "        vertical-align: middle;\n",
              "    }\n",
              "\n",
              "    .dataframe tbody tr th {\n",
              "        vertical-align: top;\n",
              "    }\n",
              "\n",
              "    .dataframe thead th {\n",
              "        text-align: right;\n",
              "    }\n",
              "</style>\n",
              "<table border=\"1\" class=\"dataframe\">\n",
              "  <thead>\n",
              "    <tr style=\"text-align: right;\">\n",
              "      <th></th>\n",
              "      <th>Fare</th>\n",
              "      <th>Pclass</th>\n",
              "    </tr>\n",
              "  </thead>\n",
              "  <tbody>\n",
              "    <tr>\n",
              "      <th>266</th>\n",
              "      <td>0.0</td>\n",
              "      <td>1</td>\n",
              "    </tr>\n",
              "    <tr>\n",
              "      <th>372</th>\n",
              "      <td>0.0</td>\n",
              "      <td>1</td>\n",
              "    </tr>\n",
              "  </tbody>\n",
              "</table>\n",
              "</div>"
            ],
            "text/plain": [
              "     Fare  Pclass\n",
              "266   0.0       1\n",
              "372   0.0       1"
            ]
          },
          "metadata": {
            "tags": []
          },
          "execution_count": 22
        }
      ]
    },
    {
      "cell_type": "code",
      "metadata": {
        "id": "tribal-outside",
        "colab": {
          "base_uri": "https://localhost:8080/"
        },
        "outputId": "9e6fd751-23f6-4614-9b9c-0d7b57b42287"
      },
      "source": [
        "pclass_mean1t = round(df_test['Fare'][df_test['Pclass'] == 1].mean(), 4)\n",
        "print(f'Mean 1t: {pclass_mean1t}')"
      ],
      "id": "tribal-outside",
      "execution_count": 23,
      "outputs": [
        {
          "output_type": "stream",
          "text": [
            "Mean 1t: 94.2803\n"
          ],
          "name": "stdout"
        }
      ]
    },
    {
      "cell_type": "code",
      "metadata": {
        "id": "dressed-chair",
        "colab": {
          "base_uri": "https://localhost:8080/"
        },
        "outputId": "7a5b0377-53b6-4e6b-f3a7-741d1407a064"
      },
      "source": [
        "df_test['Fare'][(df_test['Pclass'] == 1) & (df_test['Fare'] == 0)] = pclass_mean1t"
      ],
      "id": "dressed-chair",
      "execution_count": 24,
      "outputs": [
        {
          "output_type": "stream",
          "text": [
            "/usr/local/lib/python3.7/dist-packages/ipykernel_launcher.py:1: SettingWithCopyWarning: \n",
            "A value is trying to be set on a copy of a slice from a DataFrame\n",
            "\n",
            "See the caveats in the documentation: https://pandas.pydata.org/pandas-docs/stable/user_guide/indexing.html#returning-a-view-versus-a-copy\n",
            "  \"\"\"Entry point for launching an IPython kernel.\n"
          ],
          "name": "stderr"
        }
      ]
    },
    {
      "cell_type": "code",
      "metadata": {
        "id": "coated-senate",
        "colab": {
          "base_uri": "https://localhost:8080/",
          "height": 483
        },
        "outputId": "f6e9b69c-d9ef-4812-8a97-a707d8eb1c9f"
      },
      "source": [
        "df_train['Fare'].hist(bins=50, figsize=(12, 8))\n",
        "plt.show()"
      ],
      "id": "coated-senate",
      "execution_count": 25,
      "outputs": [
        {
          "output_type": "display_data",
          "data": {
            "image/png": "[encoded data removed]",
            "text/plain": [
              "<Figure size 864x576 with 1 Axes>"
            ]
          },
          "metadata": {
            "tags": [],
            "needs_background": "light"
          }
        }
      ]
    },
    {
      "cell_type": "markdown",
      "metadata": {
        "id": "chemical-louis"
      },
      "source": [
        "Due to the disparity of the fare this notebook will create **FareGroup** feature as classified as:\n",
        "\n",
        "0-40 -> Low(1)\n",
        "\n",
        "41-100 -> Mid(2)\n",
        "\n",
        "101-200 -> High(3)\n",
        "\n",
        "201-500+ -> V.High(4)"
      ],
      "id": "chemical-louis"
    },
    {
      "cell_type": "code",
      "metadata": {
        "id": "elder-copyright",
        "colab": {
          "base_uri": "https://localhost:8080/",
          "height": 255
        },
        "outputId": "d8d79e07-9310-467e-d3c5-afe4416a98e1"
      },
      "source": [
        "df_train['FareGroup'] = pd.cut(df_train['Fare'], bins = [0, 41, 101, 201, np.inf], labels=[1, 2, 3, 4])\n",
        "df_test['FareGroup'] = pd.cut(df_test['Fare'], bins = [0, 41, 101, 201, np.inf], labels=[1, 2, 3, 4])\n",
        "df_train.head()"
      ],
      "id": "elder-copyright",
      "execution_count": 26,
      "outputs": [
        {
          "output_type": "execute_result",
          "data": {
            "text/html": [
              "<div>\n",
              "<style scoped>\n",
              "    .dataframe tbody tr th:only-of-type {\n",
              "        vertical-align: middle;\n",
              "    }\n",
              "\n",
              "    .dataframe tbody tr th {\n",
              "        vertical-align: top;\n",
              "    }\n",
              "\n",
              "    .dataframe thead th {\n",
              "        text-align: right;\n",
              "    }\n",
              "</style>\n",
              "<table border=\"1\" class=\"dataframe\">\n",
              "  <thead>\n",
              "    <tr style=\"text-align: right;\">\n",
              "      <th></th>\n",
              "      <th>PassengerId</th>\n",
              "      <th>Survived</th>\n",
              "      <th>Pclass</th>\n",
              "      <th>Name</th>\n",
              "      <th>Sex</th>\n",
              "      <th>Age</th>\n",
              "      <th>SibSp</th>\n",
              "      <th>Parch</th>\n",
              "      <th>Ticket</th>\n",
              "      <th>Fare</th>\n",
              "      <th>Cabin</th>\n",
              "      <th>Embarked</th>\n",
              "      <th>AgeGroup</th>\n",
              "      <th>FareGroup</th>\n",
              "    </tr>\n",
              "  </thead>\n",
              "  <tbody>\n",
              "    <tr>\n",
              "      <th>0</th>\n",
              "      <td>1</td>\n",
              "      <td>0</td>\n",
              "      <td>3</td>\n",
              "      <td>Braund, Mr. Owen Harris</td>\n",
              "      <td>male</td>\n",
              "      <td>22.0</td>\n",
              "      <td>1</td>\n",
              "      <td>0</td>\n",
              "      <td>A/5 21171</td>\n",
              "      <td>7.2500</td>\n",
              "      <td>NaN</td>\n",
              "      <td>S</td>\n",
              "      <td>Youth</td>\n",
              "      <td>1</td>\n",
              "    </tr>\n",
              "    <tr>\n",
              "      <th>1</th>\n",
              "      <td>2</td>\n",
              "      <td>1</td>\n",
              "      <td>1</td>\n",
              "      <td>Cumings, Mrs. John Bradley (Florence Briggs Th...</td>\n",
              "      <td>female</td>\n",
              "      <td>38.0</td>\n",
              "      <td>1</td>\n",
              "      <td>0</td>\n",
              "      <td>PC 17599</td>\n",
              "      <td>71.2833</td>\n",
              "      <td>C85</td>\n",
              "      <td>C</td>\n",
              "      <td>Adult</td>\n",
              "      <td>2</td>\n",
              "    </tr>\n",
              "    <tr>\n",
              "      <th>2</th>\n",
              "      <td>3</td>\n",
              "      <td>1</td>\n",
              "      <td>3</td>\n",
              "      <td>Heikkinen, Miss. Laina</td>\n",
              "      <td>female</td>\n",
              "      <td>26.0</td>\n",
              "      <td>0</td>\n",
              "      <td>0</td>\n",
              "      <td>STON/O2. 3101282</td>\n",
              "      <td>7.9250</td>\n",
              "      <td>NaN</td>\n",
              "      <td>S</td>\n",
              "      <td>Youth</td>\n",
              "      <td>1</td>\n",
              "    </tr>\n",
              "    <tr>\n",
              "      <th>3</th>\n",
              "      <td>4</td>\n",
              "      <td>1</td>\n",
              "      <td>1</td>\n",
              "      <td>Futrelle, Mrs. Jacques Heath (Lily May Peel)</td>\n",
              "      <td>female</td>\n",
              "      <td>35.0</td>\n",
              "      <td>1</td>\n",
              "      <td>0</td>\n",
              "      <td>113803</td>\n",
              "      <td>53.1000</td>\n",
              "      <td>C123</td>\n",
              "      <td>S</td>\n",
              "      <td>Youth</td>\n",
              "      <td>2</td>\n",
              "    </tr>\n",
              "    <tr>\n",
              "      <th>4</th>\n",
              "      <td>5</td>\n",
              "      <td>0</td>\n",
              "      <td>3</td>\n",
              "      <td>Allen, Mr. William Henry</td>\n",
              "      <td>male</td>\n",
              "      <td>35.0</td>\n",
              "      <td>0</td>\n",
              "      <td>0</td>\n",
              "      <td>373450</td>\n",
              "      <td>8.0500</td>\n",
              "      <td>NaN</td>\n",
              "      <td>S</td>\n",
              "      <td>Youth</td>\n",
              "      <td>1</td>\n",
              "    </tr>\n",
              "  </tbody>\n",
              "</table>\n",
              "</div>"
            ],
            "text/plain": [
              "   PassengerId  Survived  Pclass  ... Embarked AgeGroup  FareGroup\n",
              "0            1         0       3  ...        S    Youth          1\n",
              "1            2         1       1  ...        C    Adult          2\n",
              "2            3         1       3  ...        S    Youth          1\n",
              "3            4         1       1  ...        S    Youth          2\n",
              "4            5         0       3  ...        S    Youth          1\n",
              "\n",
              "[5 rows x 14 columns]"
            ]
          },
          "metadata": {
            "tags": []
          },
          "execution_count": 26
        }
      ]
    },
    {
      "cell_type": "markdown",
      "metadata": {
        "id": "national-florence"
      },
      "source": [
        "8. **Embarked**"
      ],
      "id": "national-florence"
    },
    {
      "cell_type": "code",
      "metadata": {
        "id": "cloudy-rover",
        "colab": {
          "base_uri": "https://localhost:8080/",
          "height": 111
        },
        "outputId": "ef608008-833c-4d02-f5e7-a668b393119c"
      },
      "source": [
        "df_train[df_train['Embarked'].isna()]"
      ],
      "id": "cloudy-rover",
      "execution_count": 27,
      "outputs": [
        {
          "output_type": "execute_result",
          "data": {
            "text/html": [
              "<div>\n",
              "<style scoped>\n",
              "    .dataframe tbody tr th:only-of-type {\n",
              "        vertical-align: middle;\n",
              "    }\n",
              "\n",
              "    .dataframe tbody tr th {\n",
              "        vertical-align: top;\n",
              "    }\n",
              "\n",
              "    .dataframe thead th {\n",
              "        text-align: right;\n",
              "    }\n",
              "</style>\n",
              "<table border=\"1\" class=\"dataframe\">\n",
              "  <thead>\n",
              "    <tr style=\"text-align: right;\">\n",
              "      <th></th>\n",
              "      <th>PassengerId</th>\n",
              "      <th>Survived</th>\n",
              "      <th>Pclass</th>\n",
              "      <th>Name</th>\n",
              "      <th>Sex</th>\n",
              "      <th>Age</th>\n",
              "      <th>SibSp</th>\n",
              "      <th>Parch</th>\n",
              "      <th>Ticket</th>\n",
              "      <th>Fare</th>\n",
              "      <th>Cabin</th>\n",
              "      <th>Embarked</th>\n",
              "      <th>AgeGroup</th>\n",
              "      <th>FareGroup</th>\n",
              "    </tr>\n",
              "  </thead>\n",
              "  <tbody>\n",
              "    <tr>\n",
              "      <th>61</th>\n",
              "      <td>62</td>\n",
              "      <td>1</td>\n",
              "      <td>1</td>\n",
              "      <td>Icard, Miss. Amelie</td>\n",
              "      <td>female</td>\n",
              "      <td>38.0</td>\n",
              "      <td>0</td>\n",
              "      <td>0</td>\n",
              "      <td>113572</td>\n",
              "      <td>80.0</td>\n",
              "      <td>B28</td>\n",
              "      <td>NaN</td>\n",
              "      <td>Adult</td>\n",
              "      <td>2</td>\n",
              "    </tr>\n",
              "    <tr>\n",
              "      <th>829</th>\n",
              "      <td>830</td>\n",
              "      <td>1</td>\n",
              "      <td>1</td>\n",
              "      <td>Stone, Mrs. George Nelson (Martha Evelyn)</td>\n",
              "      <td>female</td>\n",
              "      <td>62.0</td>\n",
              "      <td>0</td>\n",
              "      <td>0</td>\n",
              "      <td>113572</td>\n",
              "      <td>80.0</td>\n",
              "      <td>B28</td>\n",
              "      <td>NaN</td>\n",
              "      <td>Senior</td>\n",
              "      <td>2</td>\n",
              "    </tr>\n",
              "  </tbody>\n",
              "</table>\n",
              "</div>"
            ],
            "text/plain": [
              "     PassengerId  Survived  Pclass  ... Embarked AgeGroup  FareGroup\n",
              "61            62         1       1  ...      NaN    Adult          2\n",
              "829          830         1       1  ...      NaN   Senior          2\n",
              "\n",
              "[2 rows x 14 columns]"
            ]
          },
          "metadata": {
            "tags": []
          },
          "execution_count": 27
        }
      ]
    },
    {
      "cell_type": "code",
      "metadata": {
        "id": "revised-underground",
        "colab": {
          "base_uri": "https://localhost:8080/"
        },
        "outputId": "b3fb5fe1-89c6-40ec-a09a-addcd6076dab"
      },
      "source": [
        "# Finding the common Embarkment point for the Pclass 1 for the missing values\n",
        "df_train[(df_train['Pclass'] == 1)]['Embarked'].mode()"
      ],
      "id": "revised-underground",
      "execution_count": 28,
      "outputs": [
        {
          "output_type": "execute_result",
          "data": {
            "text/plain": [
              "0    S\n",
              "dtype: object"
            ]
          },
          "metadata": {
            "tags": []
          },
          "execution_count": 28
        }
      ]
    },
    {
      "cell_type": "code",
      "metadata": {
        "id": "excessive-oakland"
      },
      "source": [
        "df_train['Embarked'].fillna(value='S', inplace=True)"
      ],
      "id": "excessive-oakland",
      "execution_count": 29,
      "outputs": []
    },
    {
      "cell_type": "code",
      "metadata": {
        "id": "instrumental-watts",
        "colab": {
          "base_uri": "https://localhost:8080/",
          "height": 279
        },
        "outputId": "865409a3-c539-41c0-db7e-40369d1c2c02"
      },
      "source": [
        "sns.barplot(data=df_train, x='Embarked', y='Survived', hue='Embarked')\n",
        "plt.show()"
      ],
      "id": "instrumental-watts",
      "execution_count": 30,
      "outputs": [
        {
          "output_type": "display_data",
          "data": {
            "image/png": "[encoded data removed]",
            "text/plain": [
              "<Figure size 432x288 with 1 Axes>"
            ]
          },
          "metadata": {
            "tags": [],
            "needs_background": "light"
          }
        }
      ]
    },
    {
      "cell_type": "markdown",
      "metadata": {
        "id": "available-correlation"
      },
      "source": [
        "**Observations**\n",
        "\n",
        "Passengers who embarked at Cherbourg had a high likelihood of survival with those at Southampton having the lowest of the three embarkment points.\n",
        "\n",
        "9. **Name**"
      ],
      "id": "available-correlation"
    },
    {
      "cell_type": "code",
      "metadata": {
        "id": "durable-process"
      },
      "source": [
        "# Funtion to take the dataframe and feature, pick the title and return a list of the titles\n",
        "def titling(X, attrib):\n",
        "    titles = []\n",
        "    for i in range(len(X)):\n",
        "        titles.append(str(df_train[attrib][i]).split('.')[0].split(',')[1].strip(' '))\n",
        "    \n",
        "    return titles"
      ],
      "id": "durable-process",
      "execution_count": 31,
      "outputs": []
    },
    {
      "cell_type": "code",
      "metadata": {
        "id": "temporal-bunch",
        "colab": {
          "base_uri": "https://localhost:8080/"
        },
        "outputId": "2530ac1a-3d8d-454b-f892-5033c2405122"
      },
      "source": [
        "df_train['Title'] = titling(df_train, 'Name')\n",
        "df_test['Title'] = titling(df_test, 'Name')\n",
        "df_train['Title'].unique()"
      ],
      "id": "temporal-bunch",
      "execution_count": 32,
      "outputs": [
        {
          "output_type": "execute_result",
          "data": {
            "text/plain": [
              "array(['Mr', 'Mrs', 'Miss', 'Master', 'Don', 'Rev', 'Dr', 'Mme', 'Ms',\n",
              "       'Major', 'Lady', 'Sir', 'Mlle', 'Col', 'Capt', 'the Countess',\n",
              "       'Jonkheer'], dtype=object)"
            ]
          },
          "metadata": {
            "tags": []
          },
          "execution_count": 32
        }
      ]
    },
    {
      "cell_type": "code",
      "metadata": {
        "id": "funky-prospect",
        "colab": {
          "base_uri": "https://localhost:8080/",
          "height": 714
        },
        "outputId": "d9167589-10ba-408a-d018-32078ec8e9c2"
      },
      "source": [
        "plt.figure(figsize=(18, 12))\n",
        "g = sns.barplot(data=df_train, x='Title', y='Survived')\n",
        "# g.set_xticklabels(labels = rotation=90)\n",
        "plt.show()"
      ],
      "id": "funky-prospect",
      "execution_count": 33,
      "outputs": [
        {
          "output_type": "display_data",
          "data": {
            "image/png": "[encoded data removed]",
            "text/plain": [
              "<Figure size 1296x864 with 1 Axes>"
            ]
          },
          "metadata": {
            "tags": [],
            "needs_background": "light"
          }
        }
      ]
    },
    {
      "cell_type": "markdown",
      "metadata": {
        "id": "personalized-battle"
      },
      "source": [
        "**Observations**\n",
        "\n",
        "From the plot above there is a classification of title and their survival rate. Royal titles had a good survival rate. Common titles had a fair chance of survival and lowest level had the poorest chance in survival.\n",
        "\n",
        "Classes for the titles will be:\n",
        "\n",
        "[Master, Major, Lady, Sir, Col, the Countess] -> Royal(1)\n",
        "\n",
        "[Mr, Mrs, Miss, Dr, Mme, Ms, Mlle] -> Common(2)\n",
        "\n",
        "[Don, Rev, Capt, Jonkheer] -> Low(3)\n",
        "\n",
        "This notebook will use label encoding."
      ],
      "id": "personalized-battle"
    },
    {
      "cell_type": "code",
      "metadata": {
        "id": "whole-consumer"
      },
      "source": [
        "def tilgrouping(X, attrib):\n",
        "    royal = ['Master', 'Major', 'Lady', 'Sir', 'Col', 'the Countess']\n",
        "    common = ['Mr', 'Mrs', 'Miss', 'Dr', 'Mme', 'Ms', 'Mlle']\n",
        "    low = ['Don', 'Rev', 'Capt', 'Jonkheer']\n",
        "    \n",
        "    titleg = []\n",
        "    \n",
        "    for i in range(len(X[attrib])):\n",
        "        if (X[attrib][i]) in royal:\n",
        "            titleg.append(1)\n",
        "        elif (X[attrib][i]) in common:\n",
        "            titleg.append(2)\n",
        "        elif (X[attrib][i]) in low:\n",
        "            titleg.append(3)\n",
        "    \n",
        "    return titleg"
      ],
      "id": "whole-consumer",
      "execution_count": 34,
      "outputs": []
    },
    {
      "cell_type": "code",
      "metadata": {
        "id": "cubic-carpet",
        "colab": {
          "base_uri": "https://localhost:8080/",
          "height": 340
        },
        "outputId": "64808f60-33e0-46ae-adca-dce6a5c8a772"
      },
      "source": [
        "df_train['TitleGroup'] = tilgrouping(df_train, 'Title')\n",
        "df_test['TitleGroup'] = tilgrouping(df_test, 'Title')\n",
        "df_train.head()"
      ],
      "id": "cubic-carpet",
      "execution_count": 35,
      "outputs": [
        {
          "output_type": "execute_result",
          "data": {
            "text/html": [
              "<div>\n",
              "<style scoped>\n",
              "    .dataframe tbody tr th:only-of-type {\n",
              "        vertical-align: middle;\n",
              "    }\n",
              "\n",
              "    .dataframe tbody tr th {\n",
              "        vertical-align: top;\n",
              "    }\n",
              "\n",
              "    .dataframe thead th {\n",
              "        text-align: right;\n",
              "    }\n",
              "</style>\n",
              "<table border=\"1\" class=\"dataframe\">\n",
              "  <thead>\n",
              "    <tr style=\"text-align: right;\">\n",
              "      <th></th>\n",
              "      <th>PassengerId</th>\n",
              "      <th>Survived</th>\n",
              "      <th>Pclass</th>\n",
              "      <th>Name</th>\n",
              "      <th>Sex</th>\n",
              "      <th>Age</th>\n",
              "      <th>SibSp</th>\n",
              "      <th>Parch</th>\n",
              "      <th>Ticket</th>\n",
              "      <th>Fare</th>\n",
              "      <th>Cabin</th>\n",
              "      <th>Embarked</th>\n",
              "      <th>AgeGroup</th>\n",
              "      <th>FareGroup</th>\n",
              "      <th>Title</th>\n",
              "      <th>TitleGroup</th>\n",
              "    </tr>\n",
              "  </thead>\n",
              "  <tbody>\n",
              "    <tr>\n",
              "      <th>0</th>\n",
              "      <td>1</td>\n",
              "      <td>0</td>\n",
              "      <td>3</td>\n",
              "      <td>Braund, Mr. Owen Harris</td>\n",
              "      <td>male</td>\n",
              "      <td>22.0</td>\n",
              "      <td>1</td>\n",
              "      <td>0</td>\n",
              "      <td>A/5 21171</td>\n",
              "      <td>7.2500</td>\n",
              "      <td>NaN</td>\n",
              "      <td>S</td>\n",
              "      <td>Youth</td>\n",
              "      <td>1</td>\n",
              "      <td>Mr</td>\n",
              "      <td>2</td>\n",
              "    </tr>\n",
              "    <tr>\n",
              "      <th>1</th>\n",
              "      <td>2</td>\n",
              "      <td>1</td>\n",
              "      <td>1</td>\n",
              "      <td>Cumings, Mrs. John Bradley (Florence Briggs Th...</td>\n",
              "      <td>female</td>\n",
              "      <td>38.0</td>\n",
              "      <td>1</td>\n",
              "      <td>0</td>\n",
              "      <td>PC 17599</td>\n",
              "      <td>71.2833</td>\n",
              "      <td>C85</td>\n",
              "      <td>C</td>\n",
              "      <td>Adult</td>\n",
              "      <td>2</td>\n",
              "      <td>Mrs</td>\n",
              "      <td>2</td>\n",
              "    </tr>\n",
              "    <tr>\n",
              "      <th>2</th>\n",
              "      <td>3</td>\n",
              "      <td>1</td>\n",
              "      <td>3</td>\n",
              "      <td>Heikkinen, Miss. Laina</td>\n",
              "      <td>female</td>\n",
              "      <td>26.0</td>\n",
              "      <td>0</td>\n",
              "      <td>0</td>\n",
              "      <td>STON/O2. 3101282</td>\n",
              "      <td>7.9250</td>\n",
              "      <td>NaN</td>\n",
              "      <td>S</td>\n",
              "      <td>Youth</td>\n",
              "      <td>1</td>\n",
              "      <td>Miss</td>\n",
              "      <td>2</td>\n",
              "    </tr>\n",
              "    <tr>\n",
              "      <th>3</th>\n",
              "      <td>4</td>\n",
              "      <td>1</td>\n",
              "      <td>1</td>\n",
              "      <td>Futrelle, Mrs. Jacques Heath (Lily May Peel)</td>\n",
              "      <td>female</td>\n",
              "      <td>35.0</td>\n",
              "      <td>1</td>\n",
              "      <td>0</td>\n",
              "      <td>113803</td>\n",
              "      <td>53.1000</td>\n",
              "      <td>C123</td>\n",
              "      <td>S</td>\n",
              "      <td>Youth</td>\n",
              "      <td>2</td>\n",
              "      <td>Mrs</td>\n",
              "      <td>2</td>\n",
              "    </tr>\n",
              "    <tr>\n",
              "      <th>4</th>\n",
              "      <td>5</td>\n",
              "      <td>0</td>\n",
              "      <td>3</td>\n",
              "      <td>Allen, Mr. William Henry</td>\n",
              "      <td>male</td>\n",
              "      <td>35.0</td>\n",
              "      <td>0</td>\n",
              "      <td>0</td>\n",
              "      <td>373450</td>\n",
              "      <td>8.0500</td>\n",
              "      <td>NaN</td>\n",
              "      <td>S</td>\n",
              "      <td>Youth</td>\n",
              "      <td>1</td>\n",
              "      <td>Mr</td>\n",
              "      <td>2</td>\n",
              "    </tr>\n",
              "  </tbody>\n",
              "</table>\n",
              "</div>"
            ],
            "text/plain": [
              "   PassengerId  Survived  Pclass  ... FareGroup Title  TitleGroup\n",
              "0            1         0       3  ...         1    Mr           2\n",
              "1            2         1       1  ...         2   Mrs           2\n",
              "2            3         1       3  ...         1  Miss           2\n",
              "3            4         1       1  ...         2   Mrs           2\n",
              "4            5         0       3  ...         1    Mr           2\n",
              "\n",
              "[5 rows x 16 columns]"
            ]
          },
          "metadata": {
            "tags": []
          },
          "execution_count": 35
        }
      ]
    },
    {
      "cell_type": "code",
      "metadata": {
        "id": "handy-observer",
        "colab": {
          "base_uri": "https://localhost:8080/",
          "height": 279
        },
        "outputId": "22d6f471-381e-46fd-ffe0-ce1e1be46dd8"
      },
      "source": [
        "sns.barplot(data=df_train, x='TitleGroup', y='Survived', hue='TitleGroup')\n",
        "plt.show()"
      ],
      "id": "handy-observer",
      "execution_count": 36,
      "outputs": [
        {
          "output_type": "display_data",
          "data": {
            "image/png": "[encoded data removed]",
            "text/plain": [
              "<Figure size 432x288 with 1 Axes>"
            ]
          },
          "metadata": {
            "tags": [],
            "needs_background": "light"
          }
        }
      ]
    },
    {
      "cell_type": "markdown",
      "metadata": {
        "id": "documented-wholesale"
      },
      "source": [
        "**Observations**\n",
        "\n",
        "1. Class 1 which is royal has the higest chance at survival with:\n",
        "2. class 3 with the lowest chance at survival"
      ],
      "id": "documented-wholesale"
    },
    {
      "cell_type": "markdown",
      "metadata": {
        "id": "studied-stadium"
      },
      "source": [
        "10. **Family Size and Family Type**\n",
        "\n",
        "The Family Size and Family type are features engineered from _SibSp_ and _Parch_ features which singly have different effects on survival and this notebook wants to explore if they are combine what their effect is."
      ],
      "id": "studied-stadium"
    },
    {
      "cell_type": "code",
      "metadata": {
        "id": "interstate-twelve",
        "colab": {
          "base_uri": "https://localhost:8080/",
          "height": 496
        },
        "outputId": "10560ca0-274b-4d04-8f13-2b6bab520938"
      },
      "source": [
        "df_train['FamilySize'] = df_train['SibSp'] + df_train['Parch']\n",
        "df_test['FamilySize'] = df_test['SibSp'] + df_test['Parch']\n",
        "df_train.head()"
      ],
      "id": "interstate-twelve",
      "execution_count": 37,
      "outputs": [
        {
          "output_type": "execute_result",
          "data": {
            "text/html": [
              "<div>\n",
              "<style scoped>\n",
              "    .dataframe tbody tr th:only-of-type {\n",
              "        vertical-align: middle;\n",
              "    }\n",
              "\n",
              "    .dataframe tbody tr th {\n",
              "        vertical-align: top;\n",
              "    }\n",
              "\n",
              "    .dataframe thead th {\n",
              "        text-align: right;\n",
              "    }\n",
              "</style>\n",
              "<table border=\"1\" class=\"dataframe\">\n",
              "  <thead>\n",
              "    <tr style=\"text-align: right;\">\n",
              "      <th></th>\n",
              "      <th>PassengerId</th>\n",
              "      <th>Survived</th>\n",
              "      <th>Pclass</th>\n",
              "      <th>Name</th>\n",
              "      <th>Sex</th>\n",
              "      <th>Age</th>\n",
              "      <th>SibSp</th>\n",
              "      <th>Parch</th>\n",
              "      <th>Ticket</th>\n",
              "      <th>Fare</th>\n",
              "      <th>Cabin</th>\n",
              "      <th>Embarked</th>\n",
              "      <th>AgeGroup</th>\n",
              "      <th>FareGroup</th>\n",
              "      <th>Title</th>\n",
              "      <th>TitleGroup</th>\n",
              "      <th>FamilySize</th>\n",
              "    </tr>\n",
              "  </thead>\n",
              "  <tbody>\n",
              "    <tr>\n",
              "      <th>0</th>\n",
              "      <td>1</td>\n",
              "      <td>0</td>\n",
              "      <td>3</td>\n",
              "      <td>Braund, Mr. Owen Harris</td>\n",
              "      <td>male</td>\n",
              "      <td>22.0</td>\n",
              "      <td>1</td>\n",
              "      <td>0</td>\n",
              "      <td>A/5 21171</td>\n",
              "      <td>7.2500</td>\n",
              "      <td>NaN</td>\n",
              "      <td>S</td>\n",
              "      <td>Youth</td>\n",
              "      <td>1</td>\n",
              "      <td>Mr</td>\n",
              "      <td>2</td>\n",
              "      <td>1</td>\n",
              "    </tr>\n",
              "    <tr>\n",
              "      <th>1</th>\n",
              "      <td>2</td>\n",
              "      <td>1</td>\n",
              "      <td>1</td>\n",
              "      <td>Cumings, Mrs. John Bradley (Florence Briggs Th...</td>\n",
              "      <td>female</td>\n",
              "      <td>38.0</td>\n",
              "      <td>1</td>\n",
              "      <td>0</td>\n",
              "      <td>PC 17599</td>\n",
              "      <td>71.2833</td>\n",
              "      <td>C85</td>\n",
              "      <td>C</td>\n",
              "      <td>Adult</td>\n",
              "      <td>2</td>\n",
              "      <td>Mrs</td>\n",
              "      <td>2</td>\n",
              "      <td>1</td>\n",
              "    </tr>\n",
              "    <tr>\n",
              "      <th>2</th>\n",
              "      <td>3</td>\n",
              "      <td>1</td>\n",
              "      <td>3</td>\n",
              "      <td>Heikkinen, Miss. Laina</td>\n",
              "      <td>female</td>\n",
              "      <td>26.0</td>\n",
              "      <td>0</td>\n",
              "      <td>0</td>\n",
              "      <td>STON/O2. 3101282</td>\n",
              "      <td>7.9250</td>\n",
              "      <td>NaN</td>\n",
              "      <td>S</td>\n",
              "      <td>Youth</td>\n",
              "      <td>1</td>\n",
              "      <td>Miss</td>\n",
              "      <td>2</td>\n",
              "      <td>0</td>\n",
              "    </tr>\n",
              "    <tr>\n",
              "      <th>3</th>\n",
              "      <td>4</td>\n",
              "      <td>1</td>\n",
              "      <td>1</td>\n",
              "      <td>Futrelle, Mrs. Jacques Heath (Lily May Peel)</td>\n",
              "      <td>female</td>\n",
              "      <td>35.0</td>\n",
              "      <td>1</td>\n",
              "      <td>0</td>\n",
              "      <td>113803</td>\n",
              "      <td>53.1000</td>\n",
              "      <td>C123</td>\n",
              "      <td>S</td>\n",
              "      <td>Youth</td>\n",
              "      <td>2</td>\n",
              "      <td>Mrs</td>\n",
              "      <td>2</td>\n",
              "      <td>1</td>\n",
              "    </tr>\n",
              "    <tr>\n",
              "      <th>4</th>\n",
              "      <td>5</td>\n",
              "      <td>0</td>\n",
              "      <td>3</td>\n",
              "      <td>Allen, Mr. William Henry</td>\n",
              "      <td>male</td>\n",
              "      <td>35.0</td>\n",
              "      <td>0</td>\n",
              "      <td>0</td>\n",
              "      <td>373450</td>\n",
              "      <td>8.0500</td>\n",
              "      <td>NaN</td>\n",
              "      <td>S</td>\n",
              "      <td>Youth</td>\n",
              "      <td>1</td>\n",
              "      <td>Mr</td>\n",
              "      <td>2</td>\n",
              "      <td>0</td>\n",
              "    </tr>\n",
              "  </tbody>\n",
              "</table>\n",
              "</div>"
            ],
            "text/plain": [
              "   PassengerId  Survived  Pclass  ... Title TitleGroup  FamilySize\n",
              "0            1         0       3  ...    Mr          2           1\n",
              "1            2         1       1  ...   Mrs          2           1\n",
              "2            3         1       3  ...  Miss          2           0\n",
              "3            4         1       1  ...   Mrs          2           1\n",
              "4            5         0       3  ...    Mr          2           0\n",
              "\n",
              "[5 rows x 17 columns]"
            ]
          },
          "metadata": {
            "tags": []
          },
          "execution_count": 37
        }
      ]
    },
    {
      "cell_type": "code",
      "metadata": {
        "id": "intelligent-small",
        "colab": {
          "base_uri": "https://localhost:8080/",
          "height": 483
        },
        "outputId": "cd48f876-8d39-4a49-d112-ab8f8341c23c"
      },
      "source": [
        "df_train['FamilySize'].hist(bins =5, figsize=(12, 8))\n",
        "plt.show()"
      ],
      "id": "intelligent-small",
      "execution_count": 38,
      "outputs": [
        {
          "output_type": "display_data",
          "data": {
            "image/png": "[encoded data removed]",
            "text/plain": [
              "<Figure size 864x576 with 1 Axes>"
            ]
          },
          "metadata": {
            "tags": [],
            "needs_background": "light"
          }
        }
      ]
    },
    {
      "cell_type": "code",
      "metadata": {
        "id": "tribal-attack"
      },
      "source": [
        "df_train['FamilyType'] = pd.cut(df_train['FamilySize'], bins=[-1, 0.5, 4, np.inf], labels=['Alone', 'Small', 'Big'])\n",
        "df_test['FamilyType'] = pd.cut(df_test['FamilySize'], bins=[-1, 0.5, 4, np.inf], labels=['Alone', 'Small', 'Big'])"
      ],
      "id": "tribal-attack",
      "execution_count": 39,
      "outputs": []
    },
    {
      "cell_type": "code",
      "metadata": {
        "id": "crude-appreciation",
        "colab": {
          "base_uri": "https://localhost:8080/",
          "height": 279
        },
        "outputId": "3db2b1bb-0d33-4410-c5b4-d0322cb2cba2"
      },
      "source": [
        "sns.barplot(data=df_train, x='FamilyType', y ='Survived', hue='FamilyType')\n",
        "plt.show()"
      ],
      "id": "crude-appreciation",
      "execution_count": 40,
      "outputs": [
        {
          "output_type": "display_data",
          "data": {
            "image/png": "[encoded data removed]",
            "text/plain": [
              "<Figure size 432x288 with 1 Axes>"
            ]
          },
          "metadata": {
            "tags": [],
            "needs_background": "light"
          }
        }
      ]
    },
    {
      "cell_type": "markdown",
      "metadata": {
        "id": "junior-frontier"
      },
      "source": [
        "#### Creating a Clean Train, Validation and Test Data\n",
        "\n",
        "Before delving into modelling, this notebook identifies the necessary features and transformations required. Then creates the train, validation and test datasets.\n",
        "\n",
        "Required features: 'Survived', 'Pclass', 'Sex', 'Age', 'SibSp', 'Parch', 'Fare', 'Embarked', 'AgeGroup', 'FareGroup', 'TitleGroup', 'FamilySize', 'FamilyType'\n",
        "\n",
        "Features for Encoding: 'Sex', 'Embarked', 'AgeGroup', 'FamilyType'\n",
        "\n",
        "###### **One-Hot Encoding**\n",
        "1. Sex\n",
        "2. Embarked\n",
        "3. AgeGroup\n",
        "\n",
        "###### **Label Encoding**\n",
        "1. FamilyType"
      ],
      "id": "junior-frontier"
    },
    {
      "cell_type": "code",
      "metadata": {
        "id": "minute-perception"
      },
      "source": [
        "inputs = df_train[['Pclass', 'Sex', 'Age', 'SibSp', 'Parch', 'Fare', 'Embarked', 'AgeGroup', 'FareGroup', 'TitleGroup', 'FamilySize', 'FamilyType']]\n",
        "target = df_train[['Survived']]\n",
        "\n",
        "inputs_test = df_test[['PassengerId', 'Pclass', 'Sex', 'Age', 'SibSp', 'Parch', 'Fare', 'Embarked', 'AgeGroup', 'FareGroup', 'TitleGroup', 'FamilySize', 'FamilyType']]"
      ],
      "id": "minute-perception",
      "execution_count": 41,
      "outputs": []
    },
    {
      "cell_type": "code",
      "metadata": {
        "id": "indirect-piece"
      },
      "source": [
        "from sklearn.preprocessing import LabelEncoder\n",
        "le = LabelEncoder()"
      ],
      "id": "indirect-piece",
      "execution_count": 42,
      "outputs": []
    },
    {
      "cell_type": "code",
      "metadata": {
        "id": "logical-counter",
        "colab": {
          "base_uri": "https://localhost:8080/"
        },
        "outputId": "66cf5ce9-008c-4d0c-c60c-4f665ff0f581"
      },
      "source": [
        "le.fit(inputs['FamilyType'])\n",
        "inputs['FamilyType'] = le.transform(inputs['FamilyType'])\n",
        "inputs_test['FamilyType'] = le.transform(inputs_test['FamilyType'])"
      ],
      "id": "logical-counter",
      "execution_count": 43,
      "outputs": [
        {
          "output_type": "stream",
          "text": [
            "/usr/local/lib/python3.7/dist-packages/ipykernel_launcher.py:2: SettingWithCopyWarning: \n",
            "A value is trying to be set on a copy of a slice from a DataFrame.\n",
            "Try using .loc[row_indexer,col_indexer] = value instead\n",
            "\n",
            "See the caveats in the documentation: https://pandas.pydata.org/pandas-docs/stable/user_guide/indexing.html#returning-a-view-versus-a-copy\n",
            "  \n",
            "/usr/local/lib/python3.7/dist-packages/ipykernel_launcher.py:3: SettingWithCopyWarning: \n",
            "A value is trying to be set on a copy of a slice from a DataFrame.\n",
            "Try using .loc[row_indexer,col_indexer] = value instead\n",
            "\n",
            "See the caveats in the documentation: https://pandas.pydata.org/pandas-docs/stable/user_guide/indexing.html#returning-a-view-versus-a-copy\n",
            "  This is separate from the ipykernel package so we can avoid doing imports until\n"
          ],
          "name": "stderr"
        }
      ]
    },
    {
      "cell_type": "code",
      "metadata": {
        "scrolled": true,
        "id": "controversial-textbook"
      },
      "source": [
        "# One Hot Encoding\n",
        "dummies_train = pd.get_dummies(inputs[['Sex', 'Embarked', 'AgeGroup']])\n",
        "dummies_test = pd.get_dummies(inputs_test[['Sex', 'Embarked', 'AgeGroup']])"
      ],
      "id": "controversial-textbook",
      "execution_count": 44,
      "outputs": []
    },
    {
      "cell_type": "code",
      "metadata": {
        "id": "molecular-atmosphere",
        "colab": {
          "base_uri": "https://localhost:8080/"
        },
        "outputId": "d09dd0d1-b51d-462a-8883-57f740ef6cbf"
      },
      "source": [
        "inputs1 = pd.concat([inputs, dummies_train], axis=1)\n",
        "inputs_test1 = pd.concat([inputs_test, dummies_test], axis=1)\n",
        "inputs1.shape, inputs_test1.shape"
      ],
      "id": "molecular-atmosphere",
      "execution_count": 45,
      "outputs": [
        {
          "output_type": "execute_result",
          "data": {
            "text/plain": [
              "((891, 22), (418, 23))"
            ]
          },
          "metadata": {
            "tags": []
          },
          "execution_count": 45
        }
      ]
    },
    {
      "cell_type": "code",
      "metadata": {
        "id": "fluid-yukon"
      },
      "source": [
        "from sklearn.model_selection import train_test_split\n",
        "from sklearn.model_selection import cross_val_score \n",
        "\n",
        "X_train, X_valid, y_train, y_valid = train_test_split(inputs1.drop(['Sex','Embarked', 'AgeGroup'], axis=1), target, test_size=0.3, random_state=42)"
      ],
      "id": "fluid-yukon",
      "execution_count": 46,
      "outputs": []
    },
    {
      "cell_type": "markdown",
      "metadata": {
        "id": "noted-conservation"
      },
      "source": [
        "#### Testing Different Models\n",
        "\n",
        "This notebook will try and test the following models:\n",
        "\n",
        "1. Random Forest\n",
        "2. LightGBM\n",
        "3. SVC\n",
        "4. KNN\n",
        "5. AdaBoost\n",
        "\n",
        "6. CatBoost\n",
        "\n",
        "From the 6 the best will then be selected to be used to predict survival of passengers in the test dataset"
      ],
      "id": "noted-conservation"
    },
    {
      "cell_type": "code",
      "metadata": {
        "id": "naked-battery"
      },
      "source": [
        "\n",
        "from sklearn.ensemble import RandomForestClassifier\n",
        "from sklearn.svm import SVC\n",
        "from sklearn.neighbors import KNeighborsClassifier\n",
        "from catboost import CatBoostClassifier\n",
        "from sklearn.ensemble import AdaBoostClassifier\n",
        "from sklearn.metrics import accuracy_score, classification_report\n",
        "from lightgbm import LGBMClassifier"
      ],
      "id": "naked-battery",
      "execution_count": 47,
      "outputs": []
    },
    {
      "cell_type": "code",
      "metadata": {
        "id": "dimensional-posting"
      },
      "source": [
        "def display_scores(scores):\n",
        "    print('Scores: ', scores)\n",
        "    print('Mean Score:', scores.mean())\n",
        "    print('Std: ', scores.std())"
      ],
      "id": "dimensional-posting",
      "execution_count": 48,
      "outputs": []
    },
    {
      "cell_type": "markdown",
      "metadata": {
        "id": "sunset-report"
      },
      "source": [
        "1. KNN"
      ],
      "id": "sunset-report"
    },
    {
      "cell_type": "code",
      "metadata": {
        "id": "positive-quarter",
        "colab": {
          "base_uri": "https://localhost:8080/"
        },
        "outputId": "d593430a-a612-4087-e1e7-d1d1be02de71"
      },
      "source": [
        "knn_cls = KNeighborsClassifier()\n",
        "scores_knn = cross_val_score(knn_cls, X_train, y_train.values.ravel(), scoring='accuracy', cv=10)\n",
        "\n",
        "display_scores(scores_knn)"
      ],
      "id": "positive-quarter",
      "execution_count": 49,
      "outputs": [
        {
          "output_type": "stream",
          "text": [
            "Scores:  [0.58730159 0.80952381 0.71428571 0.69354839 0.74193548 0.62903226\n",
            " 0.74193548 0.67741935 0.70967742 0.69354839]\n",
            "Mean Score: 0.6998207885304659\n",
            "Std:  0.05842990001041921\n"
          ],
          "name": "stdout"
        }
      ]
    },
    {
      "cell_type": "markdown",
      "metadata": {
        "id": "sporting-operations"
      },
      "source": [
        "2. SVC"
      ],
      "id": "sporting-operations"
    },
    {
      "cell_type": "code",
      "metadata": {
        "id": "graphic-hobby",
        "colab": {
          "base_uri": "https://localhost:8080/"
        },
        "outputId": "0037a34f-8516-476d-9ace-34828a54e590"
      },
      "source": [
        "svc_cls = SVC()\n",
        "\n",
        "scores_svc = cross_val_score(svc_cls, X_train, y_train.values.ravel(), scoring='accuracy', cv=10)\n",
        "display_scores(scores_svc)"
      ],
      "id": "graphic-hobby",
      "execution_count": 50,
      "outputs": [
        {
          "output_type": "stream",
          "text": [
            "Scores:  [0.68253968 0.6984127  0.71428571 0.69354839 0.62903226 0.61290323\n",
            " 0.66129032 0.62903226 0.69354839 0.70967742]\n",
            "Mean Score: 0.6724270353302612\n",
            "Std:  0.03498972290996514\n"
          ],
          "name": "stdout"
        }
      ]
    },
    {
      "cell_type": "markdown",
      "metadata": {
        "id": "subsequent-astrology"
      },
      "source": [
        "3. Random Forest"
      ],
      "id": "subsequent-astrology"
    },
    {
      "cell_type": "code",
      "metadata": {
        "id": "coastal-latitude",
        "colab": {
          "base_uri": "https://localhost:8080/"
        },
        "outputId": "90547530-5d2e-4782-ce48-e6c17ce2bd76"
      },
      "source": [
        "rf_cls = RandomForestClassifier()\n",
        "\n",
        "scores_rf = cross_val_score(rf_cls, X_train, y_train.values.ravel(), scoring='accuracy', cv=10)\n",
        "display_scores(scores_rf)"
      ],
      "id": "coastal-latitude",
      "execution_count": 51,
      "outputs": [
        {
          "output_type": "stream",
          "text": [
            "Scores:  [0.77777778 0.79365079 0.80952381 0.83870968 0.80645161 0.70967742\n",
            " 0.79032258 0.80645161 0.80645161 0.87096774]\n",
            "Mean Score: 0.8009984639016897\n",
            "Std:  0.039403583207922706\n"
          ],
          "name": "stdout"
        }
      ]
    },
    {
      "cell_type": "markdown",
      "metadata": {
        "id": "sitting-stewart"
      },
      "source": [
        "4. LightGBM"
      ],
      "id": "sitting-stewart"
    },
    {
      "cell_type": "code",
      "metadata": {
        "id": "stable-record",
        "colab": {
          "base_uri": "https://localhost:8080/"
        },
        "outputId": "944fc0f6-7fe4-4848-c87e-2be984901dbc"
      },
      "source": [
        "lgb_cls = LGBMClassifier()\n",
        "\n",
        "scores_lgb = cross_val_score(lgb_cls, X_train, y_train.values.ravel(), scoring='accuracy', cv=10)\n",
        "display_scores(scores_lgb)"
      ],
      "id": "stable-record",
      "execution_count": 52,
      "outputs": [
        {
          "output_type": "stream",
          "text": [
            "Scores:  [0.82539683 0.82539683 0.87301587 0.90322581 0.80645161 0.74193548\n",
            " 0.82258065 0.80645161 0.79032258 0.93548387]\n",
            "Mean Score: 0.8330261136712748\n",
            "Std:  0.053650528788752774\n"
          ],
          "name": "stdout"
        }
      ]
    },
    {
      "cell_type": "markdown",
      "metadata": {
        "id": "realistic-bandwidth"
      },
      "source": [
        "5. AdaBoost"
      ],
      "id": "realistic-bandwidth"
    },
    {
      "cell_type": "code",
      "metadata": {
        "id": "collect-marsh",
        "colab": {
          "base_uri": "https://localhost:8080/"
        },
        "outputId": "368ad649-e894-4041-9100-9ed91cb1c788"
      },
      "source": [
        "ada_cls = AdaBoostClassifier()\n",
        "\n",
        "scores_ada = cross_val_score(ada_cls, X_train, y_train.values.ravel(), scoring='accuracy', cv=10)\n",
        "display_scores(scores_ada)"
      ],
      "id": "collect-marsh",
      "execution_count": 53,
      "outputs": [
        {
          "output_type": "stream",
          "text": [
            "Scores:  [0.77777778 0.80952381 0.95238095 0.87096774 0.80645161 0.70967742\n",
            " 0.80645161 0.83870968 0.75806452 0.91935484]\n",
            "Mean Score: 0.8249359959037378\n",
            "Std:  0.06954630319758084\n"
          ],
          "name": "stdout"
        }
      ]
    },
    {
      "cell_type": "markdown",
      "metadata": {
        "id": "typical-humanity"
      },
      "source": [
        "6. CatBoost"
      ],
      "id": "typical-humanity"
    },
    {
      "cell_type": "code",
      "metadata": {
        "id": "returning-proxy"
      },
      "source": [
        "X_train1, X_valid1, y_train1, y_valid1 = train_test_split(inputs, target, test_size=0.30, random_state=42)\n",
        "\n",
        "cat_features = ['Sex', 'Embarked', 'AgeGroup', 'FareGroup']\n",
        "cat_cls = CatBoostClassifier(iterations=2500, learning_rate=0.05, random_seed=42, cat_features=cat_features, verbose=False)\n",
        "\n",
        "scores_cat = cross_val_score(cat_cls, X_train1, y_train1.values.ravel(), scoring='accuracy', cv=10)"
      ],
      "id": "returning-proxy",
      "execution_count": 54,
      "outputs": []
    },
    {
      "cell_type": "code",
      "metadata": {
        "id": "characteristic-embassy",
        "colab": {
          "base_uri": "https://localhost:8080/"
        },
        "outputId": "b24f1d22-f409-4c34-c200-b833901ec822"
      },
      "source": [
        "display_scores(scores_cat)"
      ],
      "id": "characteristic-embassy",
      "execution_count": 55,
      "outputs": [
        {
          "output_type": "stream",
          "text": [
            "Scores:  [0.82539683 0.82539683 0.88888889 0.87096774 0.82258065 0.74193548\n",
            " 0.83870968 0.82258065 0.85483871 0.88709677]\n",
            "Mean Score: 0.8378392217101893\n",
            "Std:  0.040487548496399746\n"
          ],
          "name": "stdout"
        }
      ]
    },
    {
      "cell_type": "markdown",
      "metadata": {
        "id": "perfect-estonia"
      },
      "source": [
        "**Observation**\n",
        "\n",
        "From little exploration, CatBoost performs the best with very high Test and Train Scores.\n",
        "This notebook will explore a further exploration by means of hyperparameter tuning via GridSearch to select the best estimator with optimum parameters.\n",
        "\n",
        "The selected algorithms for hyperparameter tuning are: Random Forest, AdaBoost, LightGBM, and CatBoost\n",
        "\n",
        "#### Hyperparameter Tuning"
      ],
      "id": "perfect-estonia"
    },
    {
      "cell_type": "code",
      "metadata": {
        "id": "stylish-vector"
      },
      "source": [
        "from sklearn.model_selection import GridSearchCV\n",
        "from sklearn.model_selection import StratifiedKFold\n",
        "\n",
        "\n",
        "# Random Forest param Grid\n",
        "rf_param_grid = {\n",
        "    'n_estimators': [100, 250, 400,],\n",
        "    'criterion': ['gini', 'entropy'],\n",
        "    \"min_samples_split\":[2,3,10],\n",
        "    \"min_samples_leaf\":[1,3,10],\n",
        "    'max_features': ['sqrt', 'log2'],\n",
        "    'random_state':[8, 16, 42],\n",
        "}\n",
        "\n",
        "lgb_param_grid = {\n",
        "    'boosting_type ':['gbdt', 'rf', 'goss', 'dart'],\n",
        "    'learning_rate': [0.025, 0.05, 0.1, 0.2],\n",
        "    'n_estimators': [100, 250, 400],\n",
        "    'metric': ['auc', 'average_precision'],\n",
        "    'random_state':[8, 16, 42],\n",
        "}\n",
        "\n",
        "ada_param_grid = {\n",
        "    'n_estimators': [50, 100, 250],\n",
        "    'learning_rate': [0.1, 0.5, 1, 1.5],\n",
        "    'random_state':[8, 16, 42],\n",
        "}\n",
        "\n",
        "cat_param_grid = {\n",
        "    'iterations': [1000, 1600, 2000, 2400],\n",
        "    'learning_rate': [0.01, 0.03, 0.05],\n",
        "    'random_state':[8, 16, 42],\n",
        "}\n",
        "\n",
        "classifier_param = [rf_param_grid, lgb_param_grid, ada_param_grid]\n",
        "\n",
        "# Classifiers\n",
        "\n",
        "classifier = [RandomForestClassifier(), LGBMClassifier(), AdaBoostClassifier()]"
      ],
      "id": "stylish-vector",
      "execution_count": 56,
      "outputs": []
    },
    {
      "cell_type": "code",
      "metadata": {
        "id": "broken-blade"
      },
      "source": [
        "cv_result = []\n",
        "best_estimators = []\n",
        "\n",
        "for i in range(len(classifier)):\n",
        "    clf = GridSearchCV(classifier[i], param_grid=classifier_param[i], \n",
        "                       scoring='accuracy', n_jobs=-1, cv=StratifiedKFold(n_splits=10))\n",
        "    clf.fit(X_train, y_train.values.ravel())\n",
        "    cv_result.append(clf.best_score_)\n",
        "    best_estimators.append(clf.best_estimator_)"
      ],
      "id": "broken-blade",
      "execution_count": 57,
      "outputs": []
    },
    {
      "cell_type": "code",
      "metadata": {
        "id": "polar-composer",
        "colab": {
          "base_uri": "https://localhost:8080/"
        },
        "outputId": "bfb170ce-5d39-42bf-8665-b1cc6f7f538c"
      },
      "source": [
        "clf2 = GridSearchCV(CatBoostClassifier(cat_features=cat_features, verbose=False), param_grid=cat_param_grid,\n",
        "                    scoring='accuracy', n_jobs=-1, cv=StratifiedKFold(n_splits=10))\n",
        "clf2.fit(X_train1, y_train1.values.ravel())\n",
        "cv_result.append(clf2.best_score_)\n",
        "best_estimators.append(clf2.best_estimator_)"
      ],
      "id": "polar-composer",
      "execution_count": 58,
      "outputs": [
        {
          "output_type": "stream",
          "text": [
            "/usr/local/lib/python3.7/dist-packages/joblib/externals/loky/process_executor.py:691: UserWarning: A worker stopped while some jobs were given to the executor. This can be caused by a too short worker timeout or by a memory leak.\n",
            "  \"timeout or by a memory leak.\", UserWarning\n"
          ],
          "name": "stderr"
        }
      ]
    },
    {
      "cell_type": "code",
      "metadata": {
        "id": "julian-boring"
      },
      "source": [
        "result = pd.DataFrame({'Mean Score': cv_result, 'Model': ['Random Forest', 'LightGBM', 'AdaBoost', 'CatBoost']})"
      ],
      "id": "julian-boring",
      "execution_count": 63,
      "outputs": []
    },
    {
      "cell_type": "code",
      "metadata": {
        "id": "deadly-decline",
        "colab": {
          "base_uri": "https://localhost:8080/",
          "height": 295
        },
        "outputId": "46e2982f-a553-488a-87d7-2dea1edb3f21"
      },
      "source": [
        "g = sns.barplot(data=result, x='Mean Score', y='Model')\n",
        "g.set_xlabel('Mean Score')\n",
        "g.set_title('Mean Scores for the Models')\n",
        "plt.show()"
      ],
      "id": "deadly-decline",
      "execution_count": 64,
      "outputs": [
        {
          "output_type": "display_data",
          "data": {
            "image/png": "[encoded data removed]",
            "text/plain": [
              "<Figure size 432x288 with 1 Axes>"
            ]
          },
          "metadata": {
            "tags": [],
            "needs_background": "light"
          }
        }
      ]
    },
    {
      "cell_type": "code",
      "metadata": {
        "id": "assumed-perry"
      },
      "source": [
        "rf_model = best_estimators[0]\n",
        "lgb_model= best_estimators[1]\n",
        "ada_model = best_estimators[2]\n",
        "cat_model = best_estimators[3]"
      ],
      "id": "assumed-perry",
      "execution_count": 65,
      "outputs": []
    },
    {
      "cell_type": "markdown",
      "metadata": {
        "id": "intensive-frequency"
      },
      "source": [
        "#### Validate the Models"
      ],
      "id": "intensive-frequency"
    },
    {
      "cell_type": "code",
      "metadata": {
        "id": "worthy-rebound",
        "colab": {
          "base_uri": "https://localhost:8080/"
        },
        "outputId": "9f1c2639-c06d-4e02-8610-96ad4edaedfe"
      },
      "source": [
        "rf_preds = rf_model.predict(X_valid)\n",
        "lgb_preds = lgb_model.predict(X_valid)\n",
        "ada_preds = ada_model.predict(X_valid)\n",
        "cat_preds = cat_model.predict(X_valid1)\n",
        "\n",
        "rf_acc = accuracy_score(y_valid.values.ravel(), rf_preds)\n",
        "lgb_acc = accuracy_score(y_valid.values.ravel(), lgb_preds)\n",
        "ada_acc = accuracy_score(y_valid.values.ravel(), ada_preds)\n",
        "cat_acc = accuracy_score(y_valid1.values.ravel(), cat_preds)\n",
        "\n",
        "print(f'Accuracies -> Random Forest: {rf_acc}, LightGBM: {lgb_acc}, AdaBoost: {ada_acc}, CatBoost:{cat_acc}')"
      ],
      "id": "worthy-rebound",
      "execution_count": 66,
      "outputs": [
        {
          "output_type": "stream",
          "text": [
            "Accuracies -> Random Forest: 0.7835820895522388, LightGBM: 0.8134328358208955, AdaBoost: 0.8134328358208955, CatBoost:0.832089552238806\n"
          ],
          "name": "stdout"
        }
      ]
    },
    {
      "cell_type": "markdown",
      "metadata": {
        "id": "favorite-venture"
      },
      "source": [
        "**Observation**\n",
        "From the test accuracies(demonstrating prediction on unseen data) the models rank as follows:\n",
        "1. CatBoost\n",
        "2. LightGBM\n",
        "3. AdaBoost\n",
        "4. Random Forest"
      ],
      "id": "favorite-venture"
    },
    {
      "cell_type": "markdown",
      "metadata": {
        "id": "similar-commerce"
      },
      "source": [
        "####  Predict Survival of the Passengers in the Test Data"
      ],
      "id": "similar-commerce"
    },
    {
      "cell_type": "code",
      "metadata": {
        "id": "satellite-kennedy",
        "colab": {
          "base_uri": "https://localhost:8080/"
        },
        "outputId": "a31544d0-db8a-4cd5-b176-7e48d0010064"
      },
      "source": [
        "X_train1.shape"
      ],
      "id": "satellite-kennedy",
      "execution_count": 67,
      "outputs": [
        {
          "output_type": "execute_result",
          "data": {
            "text/plain": [
              "(623, 12)"
            ]
          },
          "metadata": {
            "tags": []
          },
          "execution_count": 67
        }
      ]
    },
    {
      "cell_type": "code",
      "metadata": {
        "id": "elect-terrorism",
        "colab": {
          "base_uri": "https://localhost:8080/"
        },
        "outputId": "ea406223-68cb-43c1-ce89-3ffa1a5fb204"
      },
      "source": [
        "inputs_test.info()"
      ],
      "id": "elect-terrorism",
      "execution_count": 68,
      "outputs": [
        {
          "output_type": "stream",
          "text": [
            "<class 'pandas.core.frame.DataFrame'>\n",
            "RangeIndex: 418 entries, 0 to 417\n",
            "Data columns (total 13 columns):\n",
            " #   Column       Non-Null Count  Dtype   \n",
            "---  ------       --------------  -----   \n",
            " 0   PassengerId  418 non-null    int64   \n",
            " 1   Pclass       418 non-null    int64   \n",
            " 2   Sex          418 non-null    object  \n",
            " 3   Age          418 non-null    float64 \n",
            " 4   SibSp        418 non-null    int64   \n",
            " 5   Parch        418 non-null    int64   \n",
            " 6   Fare         417 non-null    float64 \n",
            " 7   Embarked     418 non-null    object  \n",
            " 8   AgeGroup     418 non-null    category\n",
            " 9   FareGroup    417 non-null    category\n",
            " 10  TitleGroup   418 non-null    int64   \n",
            " 11  FamilySize   418 non-null    int64   \n",
            " 12  FamilyType   418 non-null    int64   \n",
            "dtypes: category(2), float64(2), int64(7), object(2)\n",
            "memory usage: 37.2+ KB\n"
          ],
          "name": "stdout"
        }
      ]
    },
    {
      "cell_type": "code",
      "metadata": {
        "id": "funded-digest",
        "colab": {
          "base_uri": "https://localhost:8080/",
          "height": 80
        },
        "outputId": "f6413785-6947-4f57-f93d-594cee3179ee"
      },
      "source": [
        "inputs_test[['Fare', 'Pclass']][inputs_test['Fare'].isna()]"
      ],
      "id": "funded-digest",
      "execution_count": 69,
      "outputs": [
        {
          "output_type": "execute_result",
          "data": {
            "text/html": [
              "<div>\n",
              "<style scoped>\n",
              "    .dataframe tbody tr th:only-of-type {\n",
              "        vertical-align: middle;\n",
              "    }\n",
              "\n",
              "    .dataframe tbody tr th {\n",
              "        vertical-align: top;\n",
              "    }\n",
              "\n",
              "    .dataframe thead th {\n",
              "        text-align: right;\n",
              "    }\n",
              "</style>\n",
              "<table border=\"1\" class=\"dataframe\">\n",
              "  <thead>\n",
              "    <tr style=\"text-align: right;\">\n",
              "      <th></th>\n",
              "      <th>Fare</th>\n",
              "      <th>Pclass</th>\n",
              "    </tr>\n",
              "  </thead>\n",
              "  <tbody>\n",
              "    <tr>\n",
              "      <th>152</th>\n",
              "      <td>NaN</td>\n",
              "      <td>3</td>\n",
              "    </tr>\n",
              "  </tbody>\n",
              "</table>\n",
              "</div>"
            ],
            "text/plain": [
              "     Fare  Pclass\n",
              "152   NaN       3"
            ]
          },
          "metadata": {
            "tags": []
          },
          "execution_count": 69
        }
      ]
    },
    {
      "cell_type": "code",
      "metadata": {
        "id": "toxic-participation",
        "colab": {
          "base_uri": "https://localhost:8080/"
        },
        "outputId": "243ade27-9093-4ace-fd75-1a76a28c8959"
      },
      "source": [
        "pclass3mean = inputs_test['Fare'][inputs_test['Pclass'] == 3].mean()\n",
        "inputs_test['Fare'].fillna(pclass3mean, inplace=True)"
      ],
      "id": "toxic-participation",
      "execution_count": 70,
      "outputs": [
        {
          "output_type": "stream",
          "text": [
            "/usr/local/lib/python3.7/dist-packages/pandas/core/series.py:4536: SettingWithCopyWarning: \n",
            "A value is trying to be set on a copy of a slice from a DataFrame\n",
            "\n",
            "See the caveats in the documentation: https://pandas.pydata.org/pandas-docs/stable/user_guide/indexing.html#returning-a-view-versus-a-copy\n",
            "  downcast=downcast,\n"
          ],
          "name": "stderr"
        }
      ]
    },
    {
      "cell_type": "code",
      "metadata": {
        "id": "satellite-relationship",
        "colab": {
          "base_uri": "https://localhost:8080/"
        },
        "outputId": "ecd2a7b8-55df-4a43-deb1-5cf868ba680a"
      },
      "source": [
        "inputs_test['FareGroup'] = pd.cut(inputs_test['Fare'], bins = [0, 41, 101, 201, np.inf], labels=[1, 2, 3, 4])"
      ],
      "id": "satellite-relationship",
      "execution_count": 71,
      "outputs": [
        {
          "output_type": "stream",
          "text": [
            "/usr/local/lib/python3.7/dist-packages/ipykernel_launcher.py:1: SettingWithCopyWarning: \n",
            "A value is trying to be set on a copy of a slice from a DataFrame.\n",
            "Try using .loc[row_indexer,col_indexer] = value instead\n",
            "\n",
            "See the caveats in the documentation: https://pandas.pydata.org/pandas-docs/stable/user_guide/indexing.html#returning-a-view-versus-a-copy\n",
            "  \"\"\"Entry point for launching an IPython kernel.\n"
          ],
          "name": "stderr"
        }
      ]
    },
    {
      "cell_type": "code",
      "metadata": {
        "id": "accepted-outside"
      },
      "source": [
        "X_test = inputs_test[['Pclass', 'Sex', 'Age', 'SibSp', 'Parch', 'Fare', 'Embarked',\n",
        "       'AgeGroup', 'FareGroup', 'TitleGroup', 'FamilySize', 'FamilyType']]"
      ],
      "id": "accepted-outside",
      "execution_count": 72,
      "outputs": []
    },
    {
      "cell_type": "code",
      "metadata": {
        "id": "decent-banking",
        "colab": {
          "base_uri": "https://localhost:8080/"
        },
        "outputId": "9767888b-7cbe-4a9f-db0b-69a4ca45531a"
      },
      "source": [
        "X_test.info()"
      ],
      "id": "decent-banking",
      "execution_count": 73,
      "outputs": [
        {
          "output_type": "stream",
          "text": [
            "<class 'pandas.core.frame.DataFrame'>\n",
            "RangeIndex: 418 entries, 0 to 417\n",
            "Data columns (total 12 columns):\n",
            " #   Column      Non-Null Count  Dtype   \n",
            "---  ------      --------------  -----   \n",
            " 0   Pclass      418 non-null    int64   \n",
            " 1   Sex         418 non-null    object  \n",
            " 2   Age         418 non-null    float64 \n",
            " 3   SibSp       418 non-null    int64   \n",
            " 4   Parch       418 non-null    int64   \n",
            " 5   Fare        418 non-null    float64 \n",
            " 6   Embarked    418 non-null    object  \n",
            " 7   AgeGroup    418 non-null    category\n",
            " 8   FareGroup   418 non-null    category\n",
            " 9   TitleGroup  418 non-null    int64   \n",
            " 10  FamilySize  418 non-null    int64   \n",
            " 11  FamilyType  418 non-null    int64   \n",
            "dtypes: category(2), float64(2), int64(6), object(2)\n",
            "memory usage: 34.0+ KB\n"
          ],
          "name": "stdout"
        }
      ]
    },
    {
      "cell_type": "code",
      "metadata": {
        "id": "noted-billy"
      },
      "source": [
        "test_preds = cat_model.predict(X_test)"
      ],
      "id": "noted-billy",
      "execution_count": 74,
      "outputs": []
    },
    {
      "cell_type": "code",
      "metadata": {
        "id": "precise-wrist"
      },
      "source": [
        "survival_results = pd.concat([inputs_test['PassengerId'], pd.Series(test_preds, name='Survived')], axis=1)"
      ],
      "id": "precise-wrist",
      "execution_count": 75,
      "outputs": []
    },
    {
      "cell_type": "code",
      "metadata": {
        "id": "suffering-furniture"
      },
      "source": [
        "survival_results.to_csv('survived_submission.csv', index=False)"
      ],
      "id": "suffering-furniture",
      "execution_count": 76,
      "outputs": []
    }
  ]
}