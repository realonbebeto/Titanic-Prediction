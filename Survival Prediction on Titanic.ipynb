{
 "cells": [
  {
   "cell_type": "markdown",
   "id": "natural-liberty",
   "metadata": {},
   "source": [
    "## Exploration of Titanic Data and Prediction of Survival\n",
    "\n",
    "This notebook will aim to:\n",
    "1. Assess and explore relationships between the features in the data\n",
    "2. Create new features from the available ones both in the train and test data\n",
    "3. Impute missing values with justifiable ones\n",
    "4. Explore various algorithms(Classifiers)\n",
    "5. Select the best algorithm to help predict an unseen data(test)\n",
    "6. Fine tune hyperparameters to create an optimum model\n",
    "7. Predict survival from the test data\n",
    "\n",
    "Progressively, libraries will be imported as required"
   ]
  },
  {
   "cell_type": "code",
   "execution_count": 1,
   "id": "weighted-gossip",
   "metadata": {},
   "outputs": [],
   "source": [
    "import pandas as pd\n",
    "import matplotlib.pyplot as plt\n",
    "import seaborn as sns\n",
    "%matplotlib inline"
   ]
  },
  {
   "cell_type": "code",
   "execution_count": 2,
   "id": "union-empty",
   "metadata": {},
   "outputs": [],
   "source": [
    "df_train = pd.read_csv('train.csv')\n",
    "df_test = pd.read_csv('test.csv')"
   ]
  },
  {
   "cell_type": "code",
   "execution_count": 3,
   "id": "automatic-amendment",
   "metadata": {},
   "outputs": [
    {
     "data": {
      "text/html": [
       "<div>\n",
       "<style scoped>\n",
       "    .dataframe tbody tr th:only-of-type {\n",
       "        vertical-align: middle;\n",
       "    }\n",
       "\n",
       "    .dataframe tbody tr th {\n",
       "        vertical-align: top;\n",
       "    }\n",
       "\n",
       "    .dataframe thead th {\n",
       "        text-align: right;\n",
       "    }\n",
       "</style>\n",
       "<table border=\"1\" class=\"dataframe\">\n",
       "  <thead>\n",
       "    <tr style=\"text-align: right;\">\n",
       "      <th></th>\n",
       "      <th>PassengerId</th>\n",
       "      <th>Survived</th>\n",
       "      <th>Pclass</th>\n",
       "      <th>Name</th>\n",
       "      <th>Sex</th>\n",
       "      <th>Age</th>\n",
       "      <th>SibSp</th>\n",
       "      <th>Parch</th>\n",
       "      <th>Ticket</th>\n",
       "      <th>Fare</th>\n",
       "      <th>Cabin</th>\n",
       "      <th>Embarked</th>\n",
       "    </tr>\n",
       "  </thead>\n",
       "  <tbody>\n",
       "    <tr>\n",
       "      <th>0</th>\n",
       "      <td>1</td>\n",
       "      <td>0</td>\n",
       "      <td>3</td>\n",
       "      <td>Braund, Mr. Owen Harris</td>\n",
       "      <td>male</td>\n",
       "      <td>22.0</td>\n",
       "      <td>1</td>\n",
       "      <td>0</td>\n",
       "      <td>A/5 21171</td>\n",
       "      <td>7.2500</td>\n",
       "      <td>NaN</td>\n",
       "      <td>S</td>\n",
       "    </tr>\n",
       "    <tr>\n",
       "      <th>1</th>\n",
       "      <td>2</td>\n",
       "      <td>1</td>\n",
       "      <td>1</td>\n",
       "      <td>Cumings, Mrs. John Bradley (Florence Briggs Th...</td>\n",
       "      <td>female</td>\n",
       "      <td>38.0</td>\n",
       "      <td>1</td>\n",
       "      <td>0</td>\n",
       "      <td>PC 17599</td>\n",
       "      <td>71.2833</td>\n",
       "      <td>C85</td>\n",
       "      <td>C</td>\n",
       "    </tr>\n",
       "    <tr>\n",
       "      <th>2</th>\n",
       "      <td>3</td>\n",
       "      <td>1</td>\n",
       "      <td>3</td>\n",
       "      <td>Heikkinen, Miss. Laina</td>\n",
       "      <td>female</td>\n",
       "      <td>26.0</td>\n",
       "      <td>0</td>\n",
       "      <td>0</td>\n",
       "      <td>STON/O2. 3101282</td>\n",
       "      <td>7.9250</td>\n",
       "      <td>NaN</td>\n",
       "      <td>S</td>\n",
       "    </tr>\n",
       "    <tr>\n",
       "      <th>3</th>\n",
       "      <td>4</td>\n",
       "      <td>1</td>\n",
       "      <td>1</td>\n",
       "      <td>Futrelle, Mrs. Jacques Heath (Lily May Peel)</td>\n",
       "      <td>female</td>\n",
       "      <td>35.0</td>\n",
       "      <td>1</td>\n",
       "      <td>0</td>\n",
       "      <td>113803</td>\n",
       "      <td>53.1000</td>\n",
       "      <td>C123</td>\n",
       "      <td>S</td>\n",
       "    </tr>\n",
       "    <tr>\n",
       "      <th>4</th>\n",
       "      <td>5</td>\n",
       "      <td>0</td>\n",
       "      <td>3</td>\n",
       "      <td>Allen, Mr. William Henry</td>\n",
       "      <td>male</td>\n",
       "      <td>35.0</td>\n",
       "      <td>0</td>\n",
       "      <td>0</td>\n",
       "      <td>373450</td>\n",
       "      <td>8.0500</td>\n",
       "      <td>NaN</td>\n",
       "      <td>S</td>\n",
       "    </tr>\n",
       "  </tbody>\n",
       "</table>\n",
       "</div>"
      ],
      "text/plain": [
       "   PassengerId  Survived  Pclass  \\\n",
       "0            1         0       3   \n",
       "1            2         1       1   \n",
       "2            3         1       3   \n",
       "3            4         1       1   \n",
       "4            5         0       3   \n",
       "\n",
       "                                                Name     Sex   Age  SibSp  \\\n",
       "0                            Braund, Mr. Owen Harris    male  22.0      1   \n",
       "1  Cumings, Mrs. John Bradley (Florence Briggs Th...  female  38.0      1   \n",
       "2                             Heikkinen, Miss. Laina  female  26.0      0   \n",
       "3       Futrelle, Mrs. Jacques Heath (Lily May Peel)  female  35.0      1   \n",
       "4                           Allen, Mr. William Henry    male  35.0      0   \n",
       "\n",
       "   Parch            Ticket     Fare Cabin Embarked  \n",
       "0      0         A/5 21171   7.2500   NaN        S  \n",
       "1      0          PC 17599  71.2833   C85        C  \n",
       "2      0  STON/O2. 3101282   7.9250   NaN        S  \n",
       "3      0            113803  53.1000  C123        S  \n",
       "4      0            373450   8.0500   NaN        S  "
      ]
     },
     "execution_count": 3,
     "metadata": {},
     "output_type": "execute_result"
    }
   ],
   "source": [
    "df_train.head()"
   ]
  },
  {
   "cell_type": "markdown",
   "id": "visible-embassy",
   "metadata": {},
   "source": [
    "##### Feature Observations\n",
    "\n",
    "Here we will look at the potential of every feature in feature engineering.\n",
    "\n",
    "**1. _PassengerID_** - does not have any indication to create a new feature from it.\n",
    "\n",
    "**2. _Survived_** - is a class feature to be predicted with regard to each passengerin the test data thus no feature can be derived from it.\n",
    "\n",
    "**3. _Pclass_** - is class feature detailing the ticket classification if 1st, 2nd, or 3rd and no feature can be got from it.\n",
    "\n",
    "**4. _Name_** - is the string of words unique to each passenger but has potential to create **Title** and **Surname** features.\n",
    "\n",
    "**4. _Sex_** - is categorical feature detailing passenger orientation if male or female and no feature can be created from it.\n",
    "\n",
    "**5. _Age_** - is an ordinal unique feature showing amount of years lived and can create an **AgeGroup** categorical feature.\n",
    "\n",
    "**6. _SibSp_** - is a feature showing the relationship of either Sibling or Spouse and create a **FamilySize** feature together with the **Parch** feature.\n",
    "\n",
    "**7. _Parch_** - is a feature showing the relationship of either Parent or Child and can create a **FamilySize** feature together with the **SibSp** feature.\n",
    "\n",
    "**8. _Ticket_** - is a feature detailing the unique ticket number of each passenger and can be explored to create **T_Prefix** feature.\n",
    "\n",
    "**9. _Fare_** - is a feature showing the amount paid by each passenger and can help create a **FareGroup** feature.\n",
    "\n",
    "**10. _Cabin_** - is a feature detailing in which cabin the passenger was in or assigned and could create a categorical **CabinClass** feature.\n",
    "\n",
    "**11. _Embarked_** - is a feature detailing the port of entry by passenger and has no potent to create another feature.\n",
    "\n",
    "#### Exploration the Relationship of Features to Survival"
   ]
  },
  {
   "cell_type": "code",
   "execution_count": 4,
   "id": "speaking-republican",
   "metadata": {},
   "outputs": [
    {
     "name": "stdout",
     "output_type": "stream",
     "text": [
      "<class 'pandas.core.frame.DataFrame'>\n",
      "RangeIndex: 891 entries, 0 to 890\n",
      "Data columns (total 12 columns):\n",
      " #   Column       Non-Null Count  Dtype  \n",
      "---  ------       --------------  -----  \n",
      " 0   PassengerId  891 non-null    int64  \n",
      " 1   Survived     891 non-null    int64  \n",
      " 2   Pclass       891 non-null    int64  \n",
      " 3   Name         891 non-null    object \n",
      " 4   Sex          891 non-null    object \n",
      " 5   Age          714 non-null    float64\n",
      " 6   SibSp        891 non-null    int64  \n",
      " 7   Parch        891 non-null    int64  \n",
      " 8   Ticket       891 non-null    object \n",
      " 9   Fare         891 non-null    float64\n",
      " 10  Cabin        204 non-null    object \n",
      " 11  Embarked     889 non-null    object \n",
      "dtypes: float64(2), int64(5), object(5)\n",
      "memory usage: 83.7+ KB\n"
     ]
    }
   ],
   "source": [
    "df_train.info()"
   ]
  },
  {
   "cell_type": "code",
   "execution_count": 5,
   "id": "opposed-booking",
   "metadata": {},
   "outputs": [
    {
     "data": {
      "text/plain": [
       "PassengerId    0.000000\n",
       "Survived       0.000000\n",
       "Pclass         0.000000\n",
       "Name           0.000000\n",
       "Sex            0.000000\n",
       "Age            0.198653\n",
       "SibSp          0.000000\n",
       "Parch          0.000000\n",
       "Ticket         0.000000\n",
       "Fare           0.000000\n",
       "Cabin          0.771044\n",
       "Embarked       0.002245\n",
       "dtype: float64"
      ]
     },
     "execution_count": 5,
     "metadata": {},
     "output_type": "execute_result"
    }
   ],
   "source": [
    "1 - (df_train.count() / len(df_train))"
   ]
  },
  {
   "cell_type": "markdown",
   "id": "invisible-liver",
   "metadata": {},
   "source": [
    "**Observations**\n",
    "\n",
    "1. Age has about 20% missing values which can be imputed with either mean, mode or median\n",
    "2. Cabin has about 77% missing values and any imputation will give a distribution not representative of actual or close enough.\n",
    "3. Emabarked has about 0.22% missing values giving an indication of an easy imputation of the missing values\n",
    "4. All the other features do not have missing values."
   ]
  },
  {
   "cell_type": "code",
   "execution_count": 6,
   "id": "cubic-nitrogen",
   "metadata": {},
   "outputs": [
    {
     "data": {
      "text/html": [
       "<div>\n",
       "<style scoped>\n",
       "    .dataframe tbody tr th:only-of-type {\n",
       "        vertical-align: middle;\n",
       "    }\n",
       "\n",
       "    .dataframe tbody tr th {\n",
       "        vertical-align: top;\n",
       "    }\n",
       "\n",
       "    .dataframe thead th {\n",
       "        text-align: right;\n",
       "    }\n",
       "</style>\n",
       "<table border=\"1\" class=\"dataframe\">\n",
       "  <thead>\n",
       "    <tr style=\"text-align: right;\">\n",
       "      <th></th>\n",
       "      <th>PassengerId</th>\n",
       "      <th>Survived</th>\n",
       "      <th>Pclass</th>\n",
       "      <th>Name</th>\n",
       "      <th>Sex</th>\n",
       "      <th>Age</th>\n",
       "      <th>SibSp</th>\n",
       "      <th>Parch</th>\n",
       "      <th>Ticket</th>\n",
       "      <th>Fare</th>\n",
       "      <th>Cabin</th>\n",
       "      <th>Embarked</th>\n",
       "    </tr>\n",
       "  </thead>\n",
       "  <tbody>\n",
       "    <tr>\n",
       "      <th>count</th>\n",
       "      <td>891.000000</td>\n",
       "      <td>891.000000</td>\n",
       "      <td>891.000000</td>\n",
       "      <td>891</td>\n",
       "      <td>891</td>\n",
       "      <td>714.000000</td>\n",
       "      <td>891.000000</td>\n",
       "      <td>891.000000</td>\n",
       "      <td>891</td>\n",
       "      <td>891.000000</td>\n",
       "      <td>204</td>\n",
       "      <td>889</td>\n",
       "    </tr>\n",
       "    <tr>\n",
       "      <th>unique</th>\n",
       "      <td>NaN</td>\n",
       "      <td>NaN</td>\n",
       "      <td>NaN</td>\n",
       "      <td>891</td>\n",
       "      <td>2</td>\n",
       "      <td>NaN</td>\n",
       "      <td>NaN</td>\n",
       "      <td>NaN</td>\n",
       "      <td>681</td>\n",
       "      <td>NaN</td>\n",
       "      <td>147</td>\n",
       "      <td>3</td>\n",
       "    </tr>\n",
       "    <tr>\n",
       "      <th>top</th>\n",
       "      <td>NaN</td>\n",
       "      <td>NaN</td>\n",
       "      <td>NaN</td>\n",
       "      <td>Murdlin, Mr. Joseph</td>\n",
       "      <td>male</td>\n",
       "      <td>NaN</td>\n",
       "      <td>NaN</td>\n",
       "      <td>NaN</td>\n",
       "      <td>347082</td>\n",
       "      <td>NaN</td>\n",
       "      <td>C23 C25 C27</td>\n",
       "      <td>S</td>\n",
       "    </tr>\n",
       "    <tr>\n",
       "      <th>freq</th>\n",
       "      <td>NaN</td>\n",
       "      <td>NaN</td>\n",
       "      <td>NaN</td>\n",
       "      <td>1</td>\n",
       "      <td>577</td>\n",
       "      <td>NaN</td>\n",
       "      <td>NaN</td>\n",
       "      <td>NaN</td>\n",
       "      <td>7</td>\n",
       "      <td>NaN</td>\n",
       "      <td>4</td>\n",
       "      <td>644</td>\n",
       "    </tr>\n",
       "    <tr>\n",
       "      <th>mean</th>\n",
       "      <td>446.000000</td>\n",
       "      <td>0.383838</td>\n",
       "      <td>2.308642</td>\n",
       "      <td>NaN</td>\n",
       "      <td>NaN</td>\n",
       "      <td>29.699118</td>\n",
       "      <td>0.523008</td>\n",
       "      <td>0.381594</td>\n",
       "      <td>NaN</td>\n",
       "      <td>32.204208</td>\n",
       "      <td>NaN</td>\n",
       "      <td>NaN</td>\n",
       "    </tr>\n",
       "    <tr>\n",
       "      <th>std</th>\n",
       "      <td>257.353842</td>\n",
       "      <td>0.486592</td>\n",
       "      <td>0.836071</td>\n",
       "      <td>NaN</td>\n",
       "      <td>NaN</td>\n",
       "      <td>14.526497</td>\n",
       "      <td>1.102743</td>\n",
       "      <td>0.806057</td>\n",
       "      <td>NaN</td>\n",
       "      <td>49.693429</td>\n",
       "      <td>NaN</td>\n",
       "      <td>NaN</td>\n",
       "    </tr>\n",
       "    <tr>\n",
       "      <th>min</th>\n",
       "      <td>1.000000</td>\n",
       "      <td>0.000000</td>\n",
       "      <td>1.000000</td>\n",
       "      <td>NaN</td>\n",
       "      <td>NaN</td>\n",
       "      <td>0.420000</td>\n",
       "      <td>0.000000</td>\n",
       "      <td>0.000000</td>\n",
       "      <td>NaN</td>\n",
       "      <td>0.000000</td>\n",
       "      <td>NaN</td>\n",
       "      <td>NaN</td>\n",
       "    </tr>\n",
       "    <tr>\n",
       "      <th>25%</th>\n",
       "      <td>223.500000</td>\n",
       "      <td>0.000000</td>\n",
       "      <td>2.000000</td>\n",
       "      <td>NaN</td>\n",
       "      <td>NaN</td>\n",
       "      <td>20.125000</td>\n",
       "      <td>0.000000</td>\n",
       "      <td>0.000000</td>\n",
       "      <td>NaN</td>\n",
       "      <td>7.910400</td>\n",
       "      <td>NaN</td>\n",
       "      <td>NaN</td>\n",
       "    </tr>\n",
       "    <tr>\n",
       "      <th>50%</th>\n",
       "      <td>446.000000</td>\n",
       "      <td>0.000000</td>\n",
       "      <td>3.000000</td>\n",
       "      <td>NaN</td>\n",
       "      <td>NaN</td>\n",
       "      <td>28.000000</td>\n",
       "      <td>0.000000</td>\n",
       "      <td>0.000000</td>\n",
       "      <td>NaN</td>\n",
       "      <td>14.454200</td>\n",
       "      <td>NaN</td>\n",
       "      <td>NaN</td>\n",
       "    </tr>\n",
       "    <tr>\n",
       "      <th>75%</th>\n",
       "      <td>668.500000</td>\n",
       "      <td>1.000000</td>\n",
       "      <td>3.000000</td>\n",
       "      <td>NaN</td>\n",
       "      <td>NaN</td>\n",
       "      <td>38.000000</td>\n",
       "      <td>1.000000</td>\n",
       "      <td>0.000000</td>\n",
       "      <td>NaN</td>\n",
       "      <td>31.000000</td>\n",
       "      <td>NaN</td>\n",
       "      <td>NaN</td>\n",
       "    </tr>\n",
       "    <tr>\n",
       "      <th>max</th>\n",
       "      <td>891.000000</td>\n",
       "      <td>1.000000</td>\n",
       "      <td>3.000000</td>\n",
       "      <td>NaN</td>\n",
       "      <td>NaN</td>\n",
       "      <td>80.000000</td>\n",
       "      <td>8.000000</td>\n",
       "      <td>6.000000</td>\n",
       "      <td>NaN</td>\n",
       "      <td>512.329200</td>\n",
       "      <td>NaN</td>\n",
       "      <td>NaN</td>\n",
       "    </tr>\n",
       "  </tbody>\n",
       "</table>\n",
       "</div>"
      ],
      "text/plain": [
       "        PassengerId    Survived      Pclass                 Name   Sex  \\\n",
       "count    891.000000  891.000000  891.000000                  891   891   \n",
       "unique          NaN         NaN         NaN                  891     2   \n",
       "top             NaN         NaN         NaN  Murdlin, Mr. Joseph  male   \n",
       "freq            NaN         NaN         NaN                    1   577   \n",
       "mean     446.000000    0.383838    2.308642                  NaN   NaN   \n",
       "std      257.353842    0.486592    0.836071                  NaN   NaN   \n",
       "min        1.000000    0.000000    1.000000                  NaN   NaN   \n",
       "25%      223.500000    0.000000    2.000000                  NaN   NaN   \n",
       "50%      446.000000    0.000000    3.000000                  NaN   NaN   \n",
       "75%      668.500000    1.000000    3.000000                  NaN   NaN   \n",
       "max      891.000000    1.000000    3.000000                  NaN   NaN   \n",
       "\n",
       "               Age       SibSp       Parch  Ticket        Fare        Cabin  \\\n",
       "count   714.000000  891.000000  891.000000     891  891.000000          204   \n",
       "unique         NaN         NaN         NaN     681         NaN          147   \n",
       "top            NaN         NaN         NaN  347082         NaN  C23 C25 C27   \n",
       "freq           NaN         NaN         NaN       7         NaN            4   \n",
       "mean     29.699118    0.523008    0.381594     NaN   32.204208          NaN   \n",
       "std      14.526497    1.102743    0.806057     NaN   49.693429          NaN   \n",
       "min       0.420000    0.000000    0.000000     NaN    0.000000          NaN   \n",
       "25%      20.125000    0.000000    0.000000     NaN    7.910400          NaN   \n",
       "50%      28.000000    0.000000    0.000000     NaN   14.454200          NaN   \n",
       "75%      38.000000    1.000000    0.000000     NaN   31.000000          NaN   \n",
       "max      80.000000    8.000000    6.000000     NaN  512.329200          NaN   \n",
       "\n",
       "       Embarked  \n",
       "count       889  \n",
       "unique        3  \n",
       "top           S  \n",
       "freq        644  \n",
       "mean        NaN  \n",
       "std         NaN  \n",
       "min         NaN  \n",
       "25%         NaN  \n",
       "50%         NaN  \n",
       "75%         NaN  \n",
       "max         NaN  "
      ]
     },
     "execution_count": 6,
     "metadata": {},
     "output_type": "execute_result"
    }
   ],
   "source": [
    "df_train.describe(include='all')"
   ]
  },
  {
   "cell_type": "markdown",
   "id": "standard-tiger",
   "metadata": {},
   "source": [
    "**Observation**\n",
    "\n",
    "1. Minimum age is 0.42 and seems not normal\n",
    "2. Minimum fare is 0 and also seems not normal"
   ]
  },
  {
   "cell_type": "code",
   "execution_count": 7,
   "id": "amber-publication",
   "metadata": {},
   "outputs": [
    {
     "data": {
      "image/png": "[encoded data removed]",
      "text/plain": [
       "<Figure size 864x576 with 2 Axes>"
      ]
     },
     "metadata": {
      "needs_background": "light"
     },
     "output_type": "display_data"
    }
   ],
   "source": [
    "df_train[['Age', 'Fare']].hist(bins=50, figsize=(12, 8))\n",
    "plt.show()"
   ]
  },
  {
   "cell_type": "markdown",
   "id": "digital-alberta",
   "metadata": {},
   "source": [
    "1. **Sex**"
   ]
  },
  {
   "cell_type": "code",
   "execution_count": 8,
   "id": "beautiful-charity",
   "metadata": {},
   "outputs": [
    {
     "data": {
      "image/png": "[encoded data removed]",
      "text/plain": [
       "<Figure size 432x288 with 1 Axes>"
      ]
     },
     "metadata": {
      "needs_background": "light"
     },
     "output_type": "display_data"
    }
   ],
   "source": [
    "sns.barplot(data=df_train, x='Sex', y='Survived', hue='Sex')\n",
    "plt.show()"
   ]
  },
  {
   "cell_type": "markdown",
   "id": "becoming-manitoba",
   "metadata": {},
   "source": [
    "**Observation**\n",
    "\n",
    "Being a female, there is a likelihood to survive.\n",
    "\n",
    "2. **Pclass**"
   ]
  },
  {
   "cell_type": "code",
   "execution_count": 9,
   "id": "approximate-newcastle",
   "metadata": {},
   "outputs": [
    {
     "data": {
      "image/png": "[encoded data removed]",
      "text/plain": [
       "<Figure size 432x288 with 1 Axes>"
      ]
     },
     "metadata": {
      "needs_background": "light"
     },
     "output_type": "display_data"
    }
   ],
   "source": [
    "sns.barplot(data=df_train, x= 'Pclass', y='Survived', hue='Pclass')\n",
    "plt.show()"
   ]
  },
  {
   "cell_type": "markdown",
   "id": "spiritual-chambers",
   "metadata": {},
   "source": [
    "**Observation**\n",
    "\n",
    "Passenger class 1 and 2 have a higher likelihood to survive.\n",
    "\n",
    "3. **Age**\n",
    "\n",
    "To represent age we will impute missing values and then create a new class feature - **AgeGroup**. For missing values this notebook will adopt the **Mode** to impute.\n",
    "Classification will be as follows:\n",
    "\n",
    "0-5 -> Baby\n",
    "\n",
    "6-15 -> Child\n",
    "\n",
    "16-35 -> Youth\n",
    "\n",
    "36-55 -> Adult\n",
    "\n",
    "55-80 -> Senior"
   ]
  },
  {
   "cell_type": "code",
   "execution_count": 10,
   "id": "global-humidity",
   "metadata": {},
   "outputs": [
    {
     "data": {
      "text/plain": [
       "0    24.0\n",
       "dtype: float64"
      ]
     },
     "execution_count": 10,
     "metadata": {},
     "output_type": "execute_result"
    }
   ],
   "source": [
    "mode = df_train['Age'].mode()\n",
    "mode"
   ]
  },
  {
   "cell_type": "code",
   "execution_count": 11,
   "id": "behind-variation",
   "metadata": {},
   "outputs": [
    {
     "name": "stdout",
     "output_type": "stream",
     "text": [
      "0    21.0\n",
      "1    24.0\n",
      "dtype: float64\n"
     ]
    }
   ],
   "source": [
    "x= df_test['Age'].mode()\n",
    "print(x)"
   ]
  },
  {
   "cell_type": "code",
   "execution_count": 12,
   "id": "eight-structure",
   "metadata": {},
   "outputs": [],
   "source": [
    "df_train['Age'].fillna(24, inplace=True)\n",
    "df_test['Age'].fillna(21, inplace=True)"
   ]
  },
  {
   "cell_type": "code",
   "execution_count": 13,
   "id": "found-arthritis",
   "metadata": {},
   "outputs": [
    {
     "data": {
      "text/html": [
       "<div>\n",
       "<style scoped>\n",
       "    .dataframe tbody tr th:only-of-type {\n",
       "        vertical-align: middle;\n",
       "    }\n",
       "\n",
       "    .dataframe tbody tr th {\n",
       "        vertical-align: top;\n",
       "    }\n",
       "\n",
       "    .dataframe thead th {\n",
       "        text-align: right;\n",
       "    }\n",
       "</style>\n",
       "<table border=\"1\" class=\"dataframe\">\n",
       "  <thead>\n",
       "    <tr style=\"text-align: right;\">\n",
       "      <th></th>\n",
       "      <th>PassengerId</th>\n",
       "      <th>Survived</th>\n",
       "      <th>Pclass</th>\n",
       "      <th>Name</th>\n",
       "      <th>Sex</th>\n",
       "      <th>Age</th>\n",
       "      <th>SibSp</th>\n",
       "      <th>Parch</th>\n",
       "      <th>Ticket</th>\n",
       "      <th>Fare</th>\n",
       "      <th>Cabin</th>\n",
       "      <th>Embarked</th>\n",
       "      <th>AgeGroup</th>\n",
       "    </tr>\n",
       "  </thead>\n",
       "  <tbody>\n",
       "    <tr>\n",
       "      <th>0</th>\n",
       "      <td>1</td>\n",
       "      <td>0</td>\n",
       "      <td>3</td>\n",
       "      <td>Braund, Mr. Owen Harris</td>\n",
       "      <td>male</td>\n",
       "      <td>22.0</td>\n",
       "      <td>1</td>\n",
       "      <td>0</td>\n",
       "      <td>A/5 21171</td>\n",
       "      <td>7.2500</td>\n",
       "      <td>NaN</td>\n",
       "      <td>S</td>\n",
       "      <td>Youth</td>\n",
       "    </tr>\n",
       "    <tr>\n",
       "      <th>1</th>\n",
       "      <td>2</td>\n",
       "      <td>1</td>\n",
       "      <td>1</td>\n",
       "      <td>Cumings, Mrs. John Bradley (Florence Briggs Th...</td>\n",
       "      <td>female</td>\n",
       "      <td>38.0</td>\n",
       "      <td>1</td>\n",
       "      <td>0</td>\n",
       "      <td>PC 17599</td>\n",
       "      <td>71.2833</td>\n",
       "      <td>C85</td>\n",
       "      <td>C</td>\n",
       "      <td>Adult</td>\n",
       "    </tr>\n",
       "    <tr>\n",
       "      <th>2</th>\n",
       "      <td>3</td>\n",
       "      <td>1</td>\n",
       "      <td>3</td>\n",
       "      <td>Heikkinen, Miss. Laina</td>\n",
       "      <td>female</td>\n",
       "      <td>26.0</td>\n",
       "      <td>0</td>\n",
       "      <td>0</td>\n",
       "      <td>STON/O2. 3101282</td>\n",
       "      <td>7.9250</td>\n",
       "      <td>NaN</td>\n",
       "      <td>S</td>\n",
       "      <td>Youth</td>\n",
       "    </tr>\n",
       "    <tr>\n",
       "      <th>3</th>\n",
       "      <td>4</td>\n",
       "      <td>1</td>\n",
       "      <td>1</td>\n",
       "      <td>Futrelle, Mrs. Jacques Heath (Lily May Peel)</td>\n",
       "      <td>female</td>\n",
       "      <td>35.0</td>\n",
       "      <td>1</td>\n",
       "      <td>0</td>\n",
       "      <td>113803</td>\n",
       "      <td>53.1000</td>\n",
       "      <td>C123</td>\n",
       "      <td>S</td>\n",
       "      <td>Youth</td>\n",
       "    </tr>\n",
       "    <tr>\n",
       "      <th>4</th>\n",
       "      <td>5</td>\n",
       "      <td>0</td>\n",
       "      <td>3</td>\n",
       "      <td>Allen, Mr. William Henry</td>\n",
       "      <td>male</td>\n",
       "      <td>35.0</td>\n",
       "      <td>0</td>\n",
       "      <td>0</td>\n",
       "      <td>373450</td>\n",
       "      <td>8.0500</td>\n",
       "      <td>NaN</td>\n",
       "      <td>S</td>\n",
       "      <td>Youth</td>\n",
       "    </tr>\n",
       "  </tbody>\n",
       "</table>\n",
       "</div>"
      ],
      "text/plain": [
       "   PassengerId  Survived  Pclass  \\\n",
       "0            1         0       3   \n",
       "1            2         1       1   \n",
       "2            3         1       3   \n",
       "3            4         1       1   \n",
       "4            5         0       3   \n",
       "\n",
       "                                                Name     Sex   Age  SibSp  \\\n",
       "0                            Braund, Mr. Owen Harris    male  22.0      1   \n",
       "1  Cumings, Mrs. John Bradley (Florence Briggs Th...  female  38.0      1   \n",
       "2                             Heikkinen, Miss. Laina  female  26.0      0   \n",
       "3       Futrelle, Mrs. Jacques Heath (Lily May Peel)  female  35.0      1   \n",
       "4                           Allen, Mr. William Henry    male  35.0      0   \n",
       "\n",
       "   Parch            Ticket     Fare Cabin Embarked AgeGroup  \n",
       "0      0         A/5 21171   7.2500   NaN        S    Youth  \n",
       "1      0          PC 17599  71.2833   C85        C    Adult  \n",
       "2      0  STON/O2. 3101282   7.9250   NaN        S    Youth  \n",
       "3      0            113803  53.1000  C123        S    Youth  \n",
       "4      0            373450   8.0500   NaN        S    Youth  "
      ]
     },
     "execution_count": 13,
     "metadata": {},
     "output_type": "execute_result"
    }
   ],
   "source": [
    "import numpy as np\n",
    "\n",
    "bins = [0, 6, 16, 36, 55, np.inf]\n",
    "labels = ['Baby', 'Child', 'Youth', 'Adult', 'Senior']\n",
    "\n",
    "df_train['AgeGroup'] = pd.cut(df_train['Age'], bins = bins, labels = labels)\n",
    "df_test['AgeGroup'] = pd.cut(df_test['Age'], bins=bins, labels = labels)\n",
    "df_train.head()"
   ]
  },
  {
   "cell_type": "code",
   "execution_count": 14,
   "id": "instant-adrian",
   "metadata": {},
   "outputs": [
    {
     "data": {
      "image/png": "[encoded data removed]",
      "text/plain": [
       "<Figure size 432x288 with 1 Axes>"
      ]
     },
     "metadata": {
      "needs_background": "light"
     },
     "output_type": "display_data"
    }
   ],
   "source": [
    "sns.barplot(data=df_train, x='AgeGroup', y='Survived', hue='AgeGroup')\n",
    "plt.show()"
   ]
  },
  {
   "cell_type": "markdown",
   "id": "lovely-immunology",
   "metadata": {},
   "source": [
    "**Observation**\n",
    "\n",
    "1. Babies have a high likelihood to survive\n",
    "2. Childrend and Adults have a similar likelihood to survive almost shared with youths\n",
    "3. Seniors have the lowest survival rate\n",
    "\n",
    "\n",
    "\n",
    "\n",
    "4. **SibSp**"
   ]
  },
  {
   "cell_type": "code",
   "execution_count": 15,
   "id": "outer-biology",
   "metadata": {},
   "outputs": [
    {
     "data": {
      "image/png": "[encoded data removed]",
      "text/plain": [
       "<Figure size 432x288 with 1 Axes>"
      ]
     },
     "metadata": {
      "needs_background": "light"
     },
     "output_type": "display_data"
    }
   ],
   "source": [
    "sns.barplot(data=df_train, x='SibSp', y='Survived', hue='SibSp')\n",
    "plt.show()"
   ]
  },
  {
   "cell_type": "markdown",
   "id": "defensive-reform",
   "metadata": {},
   "source": [
    "**Observations**\n",
    "\n",
    "There is a high likelihood to survive for a passenger who is alone or with only one extra person.\n",
    "\n",
    "5. **Parch**"
   ]
  },
  {
   "cell_type": "code",
   "execution_count": 16,
   "id": "corrected-athens",
   "metadata": {},
   "outputs": [
    {
     "data": {
      "image/png": "[encoded data removed]",
      "text/plain": [
       "<Figure size 432x288 with 1 Axes>"
      ]
     },
     "metadata": {
      "needs_background": "light"
     },
     "output_type": "display_data"
    }
   ],
   "source": [
    "sns.barplot(data=df_train, x='Parch', y='Survived', hue='Parch')\n",
    "plt.show()"
   ]
  },
  {
   "cell_type": "markdown",
   "id": "joint-platinum",
   "metadata": {},
   "source": [
    "**Observation**\n",
    "\n",
    "Passengers with parent child relationship were more likely to survive.\n",
    "\n",
    "6. **Ticket**"
   ]
  },
  {
   "cell_type": "code",
   "execution_count": 17,
   "id": "recent-pepper",
   "metadata": {},
   "outputs": [
    {
     "data": {
      "text/plain": [
       "210"
      ]
     },
     "execution_count": 17,
     "metadata": {},
     "output_type": "execute_result"
    }
   ],
   "source": [
    "891 - int(df_train['Ticket'].unique().shape[0])"
   ]
  },
  {
   "cell_type": "markdown",
   "id": "convertible-doctor",
   "metadata": {},
   "source": [
    "Only 210 tickets are shared among the passengers giving the impression that less could be got from the Ticket feature.\n",
    "\n",
    "7. **Fare**\n",
    "\n",
    "There are fares which are zero which is not factual. This notebook will impute them using Pclass means."
   ]
  },
  {
   "cell_type": "code",
   "execution_count": 18,
   "id": "conscious-cleaning",
   "metadata": {},
   "outputs": [
    {
     "data": {
      "text/html": [
       "<div>\n",
       "<style scoped>\n",
       "    .dataframe tbody tr th:only-of-type {\n",
       "        vertical-align: middle;\n",
       "    }\n",
       "\n",
       "    .dataframe tbody tr th {\n",
       "        vertical-align: top;\n",
       "    }\n",
       "\n",
       "    .dataframe thead th {\n",
       "        text-align: right;\n",
       "    }\n",
       "</style>\n",
       "<table border=\"1\" class=\"dataframe\">\n",
       "  <thead>\n",
       "    <tr style=\"text-align: right;\">\n",
       "      <th></th>\n",
       "      <th>Fare</th>\n",
       "      <th>Pclass</th>\n",
       "    </tr>\n",
       "  </thead>\n",
       "  <tbody>\n",
       "    <tr>\n",
       "      <th>179</th>\n",
       "      <td>0.0</td>\n",
       "      <td>3</td>\n",
       "    </tr>\n",
       "    <tr>\n",
       "      <th>263</th>\n",
       "      <td>0.0</td>\n",
       "      <td>1</td>\n",
       "    </tr>\n",
       "    <tr>\n",
       "      <th>271</th>\n",
       "      <td>0.0</td>\n",
       "      <td>3</td>\n",
       "    </tr>\n",
       "    <tr>\n",
       "      <th>277</th>\n",
       "      <td>0.0</td>\n",
       "      <td>2</td>\n",
       "    </tr>\n",
       "    <tr>\n",
       "      <th>302</th>\n",
       "      <td>0.0</td>\n",
       "      <td>3</td>\n",
       "    </tr>\n",
       "    <tr>\n",
       "      <th>413</th>\n",
       "      <td>0.0</td>\n",
       "      <td>2</td>\n",
       "    </tr>\n",
       "    <tr>\n",
       "      <th>466</th>\n",
       "      <td>0.0</td>\n",
       "      <td>2</td>\n",
       "    </tr>\n",
       "    <tr>\n",
       "      <th>481</th>\n",
       "      <td>0.0</td>\n",
       "      <td>2</td>\n",
       "    </tr>\n",
       "    <tr>\n",
       "      <th>597</th>\n",
       "      <td>0.0</td>\n",
       "      <td>3</td>\n",
       "    </tr>\n",
       "    <tr>\n",
       "      <th>633</th>\n",
       "      <td>0.0</td>\n",
       "      <td>1</td>\n",
       "    </tr>\n",
       "    <tr>\n",
       "      <th>674</th>\n",
       "      <td>0.0</td>\n",
       "      <td>2</td>\n",
       "    </tr>\n",
       "    <tr>\n",
       "      <th>732</th>\n",
       "      <td>0.0</td>\n",
       "      <td>2</td>\n",
       "    </tr>\n",
       "    <tr>\n",
       "      <th>806</th>\n",
       "      <td>0.0</td>\n",
       "      <td>1</td>\n",
       "    </tr>\n",
       "    <tr>\n",
       "      <th>815</th>\n",
       "      <td>0.0</td>\n",
       "      <td>1</td>\n",
       "    </tr>\n",
       "    <tr>\n",
       "      <th>822</th>\n",
       "      <td>0.0</td>\n",
       "      <td>1</td>\n",
       "    </tr>\n",
       "  </tbody>\n",
       "</table>\n",
       "</div>"
      ],
      "text/plain": [
       "     Fare  Pclass\n",
       "179   0.0       3\n",
       "263   0.0       1\n",
       "271   0.0       3\n",
       "277   0.0       2\n",
       "302   0.0       3\n",
       "413   0.0       2\n",
       "466   0.0       2\n",
       "481   0.0       2\n",
       "597   0.0       3\n",
       "633   0.0       1\n",
       "674   0.0       2\n",
       "732   0.0       2\n",
       "806   0.0       1\n",
       "815   0.0       1\n",
       "822   0.0       1"
      ]
     },
     "execution_count": 18,
     "metadata": {},
     "output_type": "execute_result"
    }
   ],
   "source": [
    "df_train[['Fare', 'Pclass']][df_train['Fare'] == 0]"
   ]
  },
  {
   "cell_type": "code",
   "execution_count": 19,
   "id": "fatal-given",
   "metadata": {},
   "outputs": [
    {
     "name": "stdout",
     "output_type": "stream",
     "text": [
      "Mean 1: 84.1547, Mean 2: 20.6622, Mean : 13.6756\n"
     ]
    }
   ],
   "source": [
    "pclass_mean1 = round(df_train['Fare'][df_train['Pclass'] == 1].mean(), 4)\n",
    "pclass_mean2 = round(df_train['Fare'][df_train['Pclass'] == 2].mean(), 4)\n",
    "pclass_mean3 = round(df_train['Fare'][df_train['Pclass'] == 3].mean(), 4)\n",
    "print(f'Mean 1: {pclass_mean1}, Mean 2: {pclass_mean2}, Mean : {pclass_mean3}')"
   ]
  },
  {
   "cell_type": "code",
   "execution_count": 20,
   "id": "communist-gospel",
   "metadata": {
    "scrolled": true
   },
   "outputs": [
    {
     "name": "stderr",
     "output_type": "stream",
     "text": [
      "<ipython-input-20-fc72fd6d1b7b>:1: SettingWithCopyWarning: \n",
      "A value is trying to be set on a copy of a slice from a DataFrame\n",
      "\n",
      "See the caveats in the documentation: https://pandas.pydata.org/pandas-docs/stable/user_guide/indexing.html#returning-a-view-versus-a-copy\n",
      "  df_train['Fare'][(df_train['Pclass'] == 1) & (df_train['Fare'] == 0)] = pclass_mean1\n",
      "<ipython-input-20-fc72fd6d1b7b>:2: SettingWithCopyWarning: \n",
      "A value is trying to be set on a copy of a slice from a DataFrame\n",
      "\n",
      "See the caveats in the documentation: https://pandas.pydata.org/pandas-docs/stable/user_guide/indexing.html#returning-a-view-versus-a-copy\n",
      "  df_train['Fare'][(df_train['Pclass'] == 2) & (df_train['Fare'] == 0)] = pclass_mean2\n",
      "<ipython-input-20-fc72fd6d1b7b>:3: SettingWithCopyWarning: \n",
      "A value is trying to be set on a copy of a slice from a DataFrame\n",
      "\n",
      "See the caveats in the documentation: https://pandas.pydata.org/pandas-docs/stable/user_guide/indexing.html#returning-a-view-versus-a-copy\n",
      "  df_train['Fare'][(df_train['Pclass'] == 3) & (df_train['Fare'] == 0)] = pclass_mean3\n"
     ]
    }
   ],
   "source": [
    "df_train['Fare'][(df_train['Pclass'] == 1) & (df_train['Fare'] == 0)] = pclass_mean1\n",
    "df_train['Fare'][(df_train['Pclass'] == 2) & (df_train['Fare'] == 0)] = pclass_mean2\n",
    "df_train['Fare'][(df_train['Pclass'] == 3) & (df_train['Fare'] == 0)] = pclass_mean3"
   ]
  },
  {
   "cell_type": "code",
   "execution_count": 21,
   "id": "framed-kazakhstan",
   "metadata": {},
   "outputs": [
    {
     "data": {
      "text/html": [
       "<div>\n",
       "<style scoped>\n",
       "    .dataframe tbody tr th:only-of-type {\n",
       "        vertical-align: middle;\n",
       "    }\n",
       "\n",
       "    .dataframe tbody tr th {\n",
       "        vertical-align: top;\n",
       "    }\n",
       "\n",
       "    .dataframe thead th {\n",
       "        text-align: right;\n",
       "    }\n",
       "</style>\n",
       "<table border=\"1\" class=\"dataframe\">\n",
       "  <thead>\n",
       "    <tr style=\"text-align: right;\">\n",
       "      <th></th>\n",
       "      <th>Fare</th>\n",
       "      <th>Pclass</th>\n",
       "    </tr>\n",
       "  </thead>\n",
       "  <tbody>\n",
       "    <tr>\n",
       "      <th>266</th>\n",
       "      <td>0.0</td>\n",
       "      <td>1</td>\n",
       "    </tr>\n",
       "    <tr>\n",
       "      <th>372</th>\n",
       "      <td>0.0</td>\n",
       "      <td>1</td>\n",
       "    </tr>\n",
       "  </tbody>\n",
       "</table>\n",
       "</div>"
      ],
      "text/plain": [
       "     Fare  Pclass\n",
       "266   0.0       1\n",
       "372   0.0       1"
      ]
     },
     "execution_count": 21,
     "metadata": {},
     "output_type": "execute_result"
    }
   ],
   "source": [
    "df_test[['Fare', 'Pclass']][df_test['Fare'] == 0]"
   ]
  },
  {
   "cell_type": "code",
   "execution_count": 22,
   "id": "tribal-outside",
   "metadata": {},
   "outputs": [
    {
     "name": "stdout",
     "output_type": "stream",
     "text": [
      "Mean 1t: 94.2803\n"
     ]
    }
   ],
   "source": [
    "pclass_mean1t = round(df_test['Fare'][df_test['Pclass'] == 1].mean(), 4)\n",
    "print(f'Mean 1t: {pclass_mean1t}')"
   ]
  },
  {
   "cell_type": "code",
   "execution_count": 23,
   "id": "dressed-chair",
   "metadata": {},
   "outputs": [
    {
     "name": "stderr",
     "output_type": "stream",
     "text": [
      "<ipython-input-23-a0fe2a8707ac>:1: SettingWithCopyWarning: \n",
      "A value is trying to be set on a copy of a slice from a DataFrame\n",
      "\n",
      "See the caveats in the documentation: https://pandas.pydata.org/pandas-docs/stable/user_guide/indexing.html#returning-a-view-versus-a-copy\n",
      "  df_test['Fare'][(df_test['Pclass'] == 1) & (df_test['Fare'] == 0)] = pclass_mean1t\n"
     ]
    }
   ],
   "source": [
    "df_test['Fare'][(df_test['Pclass'] == 1) & (df_test['Fare'] == 0)] = pclass_mean1t"
   ]
  },
  {
   "cell_type": "code",
   "execution_count": 24,
   "id": "coated-senate",
   "metadata": {},
   "outputs": [
    {
     "data": {
      "image/png": "[encoded data removed]",
      "text/plain": [
       "<Figure size 864x576 with 1 Axes>"
      ]
     },
     "metadata": {
      "needs_background": "light"
     },
     "output_type": "display_data"
    }
   ],
   "source": [
    "df_train['Fare'].hist(bins=50, figsize=(12, 8))\n",
    "plt.show()"
   ]
  },
  {
   "cell_type": "markdown",
   "id": "chemical-louis",
   "metadata": {},
   "source": [
    "Due to the disparity of the fare this notebook will create **FareGroup** feature as classified as:\n",
    "\n",
    "0-40 -> Low(1)\n",
    "\n",
    "41-100 -> Mid(2)\n",
    "\n",
    "101-200 -> High(3)\n",
    "\n",
    "201-500+ -> V.High(4)"
   ]
  },
  {
   "cell_type": "code",
   "execution_count": 25,
   "id": "elder-copyright",
   "metadata": {},
   "outputs": [
    {
     "data": {
      "text/html": [
       "<div>\n",
       "<style scoped>\n",
       "    .dataframe tbody tr th:only-of-type {\n",
       "        vertical-align: middle;\n",
       "    }\n",
       "\n",
       "    .dataframe tbody tr th {\n",
       "        vertical-align: top;\n",
       "    }\n",
       "\n",
       "    .dataframe thead th {\n",
       "        text-align: right;\n",
       "    }\n",
       "</style>\n",
       "<table border=\"1\" class=\"dataframe\">\n",
       "  <thead>\n",
       "    <tr style=\"text-align: right;\">\n",
       "      <th></th>\n",
       "      <th>PassengerId</th>\n",
       "      <th>Survived</th>\n",
       "      <th>Pclass</th>\n",
       "      <th>Name</th>\n",
       "      <th>Sex</th>\n",
       "      <th>Age</th>\n",
       "      <th>SibSp</th>\n",
       "      <th>Parch</th>\n",
       "      <th>Ticket</th>\n",
       "      <th>Fare</th>\n",
       "      <th>Cabin</th>\n",
       "      <th>Embarked</th>\n",
       "      <th>AgeGroup</th>\n",
       "      <th>FareGroup</th>\n",
       "    </tr>\n",
       "  </thead>\n",
       "  <tbody>\n",
       "    <tr>\n",
       "      <th>0</th>\n",
       "      <td>1</td>\n",
       "      <td>0</td>\n",
       "      <td>3</td>\n",
       "      <td>Braund, Mr. Owen Harris</td>\n",
       "      <td>male</td>\n",
       "      <td>22.0</td>\n",
       "      <td>1</td>\n",
       "      <td>0</td>\n",
       "      <td>A/5 21171</td>\n",
       "      <td>7.2500</td>\n",
       "      <td>NaN</td>\n",
       "      <td>S</td>\n",
       "      <td>Youth</td>\n",
       "      <td>1</td>\n",
       "    </tr>\n",
       "    <tr>\n",
       "      <th>1</th>\n",
       "      <td>2</td>\n",
       "      <td>1</td>\n",
       "      <td>1</td>\n",
       "      <td>Cumings, Mrs. John Bradley (Florence Briggs Th...</td>\n",
       "      <td>female</td>\n",
       "      <td>38.0</td>\n",
       "      <td>1</td>\n",
       "      <td>0</td>\n",
       "      <td>PC 17599</td>\n",
       "      <td>71.2833</td>\n",
       "      <td>C85</td>\n",
       "      <td>C</td>\n",
       "      <td>Adult</td>\n",
       "      <td>2</td>\n",
       "    </tr>\n",
       "    <tr>\n",
       "      <th>2</th>\n",
       "      <td>3</td>\n",
       "      <td>1</td>\n",
       "      <td>3</td>\n",
       "      <td>Heikkinen, Miss. Laina</td>\n",
       "      <td>female</td>\n",
       "      <td>26.0</td>\n",
       "      <td>0</td>\n",
       "      <td>0</td>\n",
       "      <td>STON/O2. 3101282</td>\n",
       "      <td>7.9250</td>\n",
       "      <td>NaN</td>\n",
       "      <td>S</td>\n",
       "      <td>Youth</td>\n",
       "      <td>1</td>\n",
       "    </tr>\n",
       "    <tr>\n",
       "      <th>3</th>\n",
       "      <td>4</td>\n",
       "      <td>1</td>\n",
       "      <td>1</td>\n",
       "      <td>Futrelle, Mrs. Jacques Heath (Lily May Peel)</td>\n",
       "      <td>female</td>\n",
       "      <td>35.0</td>\n",
       "      <td>1</td>\n",
       "      <td>0</td>\n",
       "      <td>113803</td>\n",
       "      <td>53.1000</td>\n",
       "      <td>C123</td>\n",
       "      <td>S</td>\n",
       "      <td>Youth</td>\n",
       "      <td>2</td>\n",
       "    </tr>\n",
       "    <tr>\n",
       "      <th>4</th>\n",
       "      <td>5</td>\n",
       "      <td>0</td>\n",
       "      <td>3</td>\n",
       "      <td>Allen, Mr. William Henry</td>\n",
       "      <td>male</td>\n",
       "      <td>35.0</td>\n",
       "      <td>0</td>\n",
       "      <td>0</td>\n",
       "      <td>373450</td>\n",
       "      <td>8.0500</td>\n",
       "      <td>NaN</td>\n",
       "      <td>S</td>\n",
       "      <td>Youth</td>\n",
       "      <td>1</td>\n",
       "    </tr>\n",
       "  </tbody>\n",
       "</table>\n",
       "</div>"
      ],
      "text/plain": [
       "   PassengerId  Survived  Pclass  \\\n",
       "0            1         0       3   \n",
       "1            2         1       1   \n",
       "2            3         1       3   \n",
       "3            4         1       1   \n",
       "4            5         0       3   \n",
       "\n",
       "                                                Name     Sex   Age  SibSp  \\\n",
       "0                            Braund, Mr. Owen Harris    male  22.0      1   \n",
       "1  Cumings, Mrs. John Bradley (Florence Briggs Th...  female  38.0      1   \n",
       "2                             Heikkinen, Miss. Laina  female  26.0      0   \n",
       "3       Futrelle, Mrs. Jacques Heath (Lily May Peel)  female  35.0      1   \n",
       "4                           Allen, Mr. William Henry    male  35.0      0   \n",
       "\n",
       "   Parch            Ticket     Fare Cabin Embarked AgeGroup FareGroup  \n",
       "0      0         A/5 21171   7.2500   NaN        S    Youth         1  \n",
       "1      0          PC 17599  71.2833   C85        C    Adult         2  \n",
       "2      0  STON/O2. 3101282   7.9250   NaN        S    Youth         1  \n",
       "3      0            113803  53.1000  C123        S    Youth         2  \n",
       "4      0            373450   8.0500   NaN        S    Youth         1  "
      ]
     },
     "execution_count": 25,
     "metadata": {},
     "output_type": "execute_result"
    }
   ],
   "source": [
    "df_train['FareGroup'] = pd.cut(df_train['Fare'], bins = [0, 41, 101, 201, np.inf], labels=[1, 2, 3, 4])\n",
    "df_test['FareGroup'] = pd.cut(df_test['Fare'], bins = [0, 41, 101, 201, np.inf], labels=[1, 2, 3, 4])\n",
    "df_train.head()"
   ]
  },
  {
   "cell_type": "markdown",
   "id": "national-florence",
   "metadata": {},
   "source": [
    "8. **Embarked**"
   ]
  },
  {
   "cell_type": "code",
   "execution_count": 26,
   "id": "cloudy-rover",
   "metadata": {},
   "outputs": [
    {
     "data": {
      "text/html": [
       "<div>\n",
       "<style scoped>\n",
       "    .dataframe tbody tr th:only-of-type {\n",
       "        vertical-align: middle;\n",
       "    }\n",
       "\n",
       "    .dataframe tbody tr th {\n",
       "        vertical-align: top;\n",
       "    }\n",
       "\n",
       "    .dataframe thead th {\n",
       "        text-align: right;\n",
       "    }\n",
       "</style>\n",
       "<table border=\"1\" class=\"dataframe\">\n",
       "  <thead>\n",
       "    <tr style=\"text-align: right;\">\n",
       "      <th></th>\n",
       "      <th>PassengerId</th>\n",
       "      <th>Survived</th>\n",
       "      <th>Pclass</th>\n",
       "      <th>Name</th>\n",
       "      <th>Sex</th>\n",
       "      <th>Age</th>\n",
       "      <th>SibSp</th>\n",
       "      <th>Parch</th>\n",
       "      <th>Ticket</th>\n",
       "      <th>Fare</th>\n",
       "      <th>Cabin</th>\n",
       "      <th>Embarked</th>\n",
       "      <th>AgeGroup</th>\n",
       "      <th>FareGroup</th>\n",
       "    </tr>\n",
       "  </thead>\n",
       "  <tbody>\n",
       "    <tr>\n",
       "      <th>61</th>\n",
       "      <td>62</td>\n",
       "      <td>1</td>\n",
       "      <td>1</td>\n",
       "      <td>Icard, Miss. Amelie</td>\n",
       "      <td>female</td>\n",
       "      <td>38.0</td>\n",
       "      <td>0</td>\n",
       "      <td>0</td>\n",
       "      <td>113572</td>\n",
       "      <td>80.0</td>\n",
       "      <td>B28</td>\n",
       "      <td>NaN</td>\n",
       "      <td>Adult</td>\n",
       "      <td>2</td>\n",
       "    </tr>\n",
       "    <tr>\n",
       "      <th>829</th>\n",
       "      <td>830</td>\n",
       "      <td>1</td>\n",
       "      <td>1</td>\n",
       "      <td>Stone, Mrs. George Nelson (Martha Evelyn)</td>\n",
       "      <td>female</td>\n",
       "      <td>62.0</td>\n",
       "      <td>0</td>\n",
       "      <td>0</td>\n",
       "      <td>113572</td>\n",
       "      <td>80.0</td>\n",
       "      <td>B28</td>\n",
       "      <td>NaN</td>\n",
       "      <td>Senior</td>\n",
       "      <td>2</td>\n",
       "    </tr>\n",
       "  </tbody>\n",
       "</table>\n",
       "</div>"
      ],
      "text/plain": [
       "     PassengerId  Survived  Pclass                                       Name  \\\n",
       "61            62         1       1                        Icard, Miss. Amelie   \n",
       "829          830         1       1  Stone, Mrs. George Nelson (Martha Evelyn)   \n",
       "\n",
       "        Sex   Age  SibSp  Parch  Ticket  Fare Cabin Embarked AgeGroup  \\\n",
       "61   female  38.0      0      0  113572  80.0   B28      NaN    Adult   \n",
       "829  female  62.0      0      0  113572  80.0   B28      NaN   Senior   \n",
       "\n",
       "    FareGroup  \n",
       "61          2  \n",
       "829         2  "
      ]
     },
     "execution_count": 26,
     "metadata": {},
     "output_type": "execute_result"
    }
   ],
   "source": [
    "df_train[df_train['Embarked'].isna()]"
   ]
  },
  {
   "cell_type": "code",
   "execution_count": 27,
   "id": "revised-underground",
   "metadata": {},
   "outputs": [
    {
     "data": {
      "text/plain": [
       "0    S\n",
       "dtype: object"
      ]
     },
     "execution_count": 27,
     "metadata": {},
     "output_type": "execute_result"
    }
   ],
   "source": [
    "# Finding the common Embarkment point for the Pclass 1 for the missing values\n",
    "df_train[(df_train['Pclass'] == 1)]['Embarked'].mode()"
   ]
  },
  {
   "cell_type": "code",
   "execution_count": 28,
   "id": "excessive-oakland",
   "metadata": {},
   "outputs": [],
   "source": [
    "df_train['Embarked'].fillna(value='S', inplace=True)"
   ]
  },
  {
   "cell_type": "code",
   "execution_count": 29,
   "id": "instrumental-watts",
   "metadata": {},
   "outputs": [
    {
     "data": {
      "image/png": "[encoded data removed]",
      "text/plain": [
       "<Figure size 432x288 with 1 Axes>"
      ]
     },
     "metadata": {
      "needs_background": "light"
     },
     "output_type": "display_data"
    }
   ],
   "source": [
    "sns.barplot(data=df_train, x='Embarked', y='Survived', hue='Embarked')\n",
    "plt.show()"
   ]
  },
  {
   "cell_type": "markdown",
   "id": "available-correlation",
   "metadata": {},
   "source": [
    "**Observations**\n",
    "\n",
    "Passengers who embarked at Cherbourg had a high likelihood of survival with those at Southampton having the lowest of the three embarkment points.\n",
    "\n",
    "9. **Name**"
   ]
  },
  {
   "cell_type": "code",
   "execution_count": 30,
   "id": "durable-process",
   "metadata": {},
   "outputs": [],
   "source": [
    "# Funtion to take the dataframe and feature, pick the title and return a list of the titles\n",
    "def titling(X, attrib):\n",
    "    titles = []\n",
    "    for i in range(len(X)):\n",
    "        titles.append(str(df_train[attrib][i]).split('.')[0].split(',')[1].strip(' '))\n",
    "    \n",
    "    return titles"
   ]
  },
  {
   "cell_type": "code",
   "execution_count": 31,
   "id": "temporal-bunch",
   "metadata": {},
   "outputs": [
    {
     "data": {
      "text/plain": [
       "array(['Mr', 'Mrs', 'Miss', 'Master', 'Don', 'Rev', 'Dr', 'Mme', 'Ms',\n",
       "       'Major', 'Lady', 'Sir', 'Mlle', 'Col', 'Capt', 'the Countess',\n",
       "       'Jonkheer'], dtype=object)"
      ]
     },
     "execution_count": 31,
     "metadata": {},
     "output_type": "execute_result"
    }
   ],
   "source": [
    "df_train['Title'] = titling(df_train, 'Name')\n",
    "df_test['Title'] = titling(df_test, 'Name')\n",
    "df_train['Title'].unique()"
   ]
  },
  {
   "cell_type": "code",
   "execution_count": 32,
   "id": "funky-prospect",
   "metadata": {},
   "outputs": [
    {
     "data": {
      "image/png": "[encoded data removed]",
      "text/plain": [
       "<Figure size 1296x864 with 1 Axes>"
      ]
     },
     "metadata": {
      "needs_background": "light"
     },
     "output_type": "display_data"
    }
   ],
   "source": [
    "plt.figure(figsize=(18, 12))\n",
    "g = sns.barplot(data=df_train, x='Title', y='Survived')\n",
    "# g.set_xticklabels(labels = rotation=90)\n",
    "plt.show()"
   ]
  },
  {
   "cell_type": "markdown",
   "id": "personalized-battle",
   "metadata": {},
   "source": [
    "**Observations**\n",
    "\n",
    "From the plot above there is a classification of title and their survival rate. Royal titles had a good survival rate. Common titles had a fair chance of survival and lowest level had the poorest chance in survival.\n",
    "\n",
    "Classes for the titles will be:\n",
    "\n",
    "[Master, Major, Lady, Sir, Col, the Countess] -> Royal(1)\n",
    "\n",
    "[Mr, Mrs, Miss, Dr, Mme, Ms, Mlle] -> Common(2)\n",
    "\n",
    "[Don, Rev, Capt, Jonkheer] -> Low(3)\n",
    "\n",
    "This notebook will use label encoding."
   ]
  },
  {
   "cell_type": "code",
   "execution_count": 33,
   "id": "whole-consumer",
   "metadata": {},
   "outputs": [],
   "source": [
    "def tilgrouping(X, attrib):\n",
    "    royal = ['Master', 'Major', 'Lady', 'Sir', 'Col', 'the Countess']\n",
    "    common = ['Mr', 'Mrs', 'Miss', 'Dr', 'Mme', 'Ms', 'Mlle']\n",
    "    low = ['Don', 'Rev', 'Capt', 'Jonkheer']\n",
    "    \n",
    "    titleg = []\n",
    "    \n",
    "    for i in range(len(X[attrib])):\n",
    "        if (X[attrib][i]) in royal:\n",
    "            titleg.append(1)\n",
    "        elif (X[attrib][i]) in common:\n",
    "            titleg.append(2)\n",
    "        elif (X[attrib][i]) in low:\n",
    "            titleg.append(3)\n",
    "    \n",
    "    return titleg"
   ]
  },
  {
   "cell_type": "code",
   "execution_count": 34,
   "id": "cubic-carpet",
   "metadata": {},
   "outputs": [
    {
     "data": {
      "text/html": [
       "<div>\n",
       "<style scoped>\n",
       "    .dataframe tbody tr th:only-of-type {\n",
       "        vertical-align: middle;\n",
       "    }\n",
       "\n",
       "    .dataframe tbody tr th {\n",
       "        vertical-align: top;\n",
       "    }\n",
       "\n",
       "    .dataframe thead th {\n",
       "        text-align: right;\n",
       "    }\n",
       "</style>\n",
       "<table border=\"1\" class=\"dataframe\">\n",
       "  <thead>\n",
       "    <tr style=\"text-align: right;\">\n",
       "      <th></th>\n",
       "      <th>PassengerId</th>\n",
       "      <th>Survived</th>\n",
       "      <th>Pclass</th>\n",
       "      <th>Name</th>\n",
       "      <th>Sex</th>\n",
       "      <th>Age</th>\n",
       "      <th>SibSp</th>\n",
       "      <th>Parch</th>\n",
       "      <th>Ticket</th>\n",
       "      <th>Fare</th>\n",
       "      <th>Cabin</th>\n",
       "      <th>Embarked</th>\n",
       "      <th>AgeGroup</th>\n",
       "      <th>FareGroup</th>\n",
       "      <th>Title</th>\n",
       "      <th>TitleGroup</th>\n",
       "    </tr>\n",
       "  </thead>\n",
       "  <tbody>\n",
       "    <tr>\n",
       "      <th>0</th>\n",
       "      <td>1</td>\n",
       "      <td>0</td>\n",
       "      <td>3</td>\n",
       "      <td>Braund, Mr. Owen Harris</td>\n",
       "      <td>male</td>\n",
       "      <td>22.0</td>\n",
       "      <td>1</td>\n",
       "      <td>0</td>\n",
       "      <td>A/5 21171</td>\n",
       "      <td>7.2500</td>\n",
       "      <td>NaN</td>\n",
       "      <td>S</td>\n",
       "      <td>Youth</td>\n",
       "      <td>1</td>\n",
       "      <td>Mr</td>\n",
       "      <td>2</td>\n",
       "    </tr>\n",
       "    <tr>\n",
       "      <th>1</th>\n",
       "      <td>2</td>\n",
       "      <td>1</td>\n",
       "      <td>1</td>\n",
       "      <td>Cumings, Mrs. John Bradley (Florence Briggs Th...</td>\n",
       "      <td>female</td>\n",
       "      <td>38.0</td>\n",
       "      <td>1</td>\n",
       "      <td>0</td>\n",
       "      <td>PC 17599</td>\n",
       "      <td>71.2833</td>\n",
       "      <td>C85</td>\n",
       "      <td>C</td>\n",
       "      <td>Adult</td>\n",
       "      <td>2</td>\n",
       "      <td>Mrs</td>\n",
       "      <td>2</td>\n",
       "    </tr>\n",
       "    <tr>\n",
       "      <th>2</th>\n",
       "      <td>3</td>\n",
       "      <td>1</td>\n",
       "      <td>3</td>\n",
       "      <td>Heikkinen, Miss. Laina</td>\n",
       "      <td>female</td>\n",
       "      <td>26.0</td>\n",
       "      <td>0</td>\n",
       "      <td>0</td>\n",
       "      <td>STON/O2. 3101282</td>\n",
       "      <td>7.9250</td>\n",
       "      <td>NaN</td>\n",
       "      <td>S</td>\n",
       "      <td>Youth</td>\n",
       "      <td>1</td>\n",
       "      <td>Miss</td>\n",
       "      <td>2</td>\n",
       "    </tr>\n",
       "    <tr>\n",
       "      <th>3</th>\n",
       "      <td>4</td>\n",
       "      <td>1</td>\n",
       "      <td>1</td>\n",
       "      <td>Futrelle, Mrs. Jacques Heath (Lily May Peel)</td>\n",
       "      <td>female</td>\n",
       "      <td>35.0</td>\n",
       "      <td>1</td>\n",
       "      <td>0</td>\n",
       "      <td>113803</td>\n",
       "      <td>53.1000</td>\n",
       "      <td>C123</td>\n",
       "      <td>S</td>\n",
       "      <td>Youth</td>\n",
       "      <td>2</td>\n",
       "      <td>Mrs</td>\n",
       "      <td>2</td>\n",
       "    </tr>\n",
       "    <tr>\n",
       "      <th>4</th>\n",
       "      <td>5</td>\n",
       "      <td>0</td>\n",
       "      <td>3</td>\n",
       "      <td>Allen, Mr. William Henry</td>\n",
       "      <td>male</td>\n",
       "      <td>35.0</td>\n",
       "      <td>0</td>\n",
       "      <td>0</td>\n",
       "      <td>373450</td>\n",
       "      <td>8.0500</td>\n",
       "      <td>NaN</td>\n",
       "      <td>S</td>\n",
       "      <td>Youth</td>\n",
       "      <td>1</td>\n",
       "      <td>Mr</td>\n",
       "      <td>2</td>\n",
       "    </tr>\n",
       "  </tbody>\n",
       "</table>\n",
       "</div>"
      ],
      "text/plain": [
       "   PassengerId  Survived  Pclass  \\\n",
       "0            1         0       3   \n",
       "1            2         1       1   \n",
       "2            3         1       3   \n",
       "3            4         1       1   \n",
       "4            5         0       3   \n",
       "\n",
       "                                                Name     Sex   Age  SibSp  \\\n",
       "0                            Braund, Mr. Owen Harris    male  22.0      1   \n",
       "1  Cumings, Mrs. John Bradley (Florence Briggs Th...  female  38.0      1   \n",
       "2                             Heikkinen, Miss. Laina  female  26.0      0   \n",
       "3       Futrelle, Mrs. Jacques Heath (Lily May Peel)  female  35.0      1   \n",
       "4                           Allen, Mr. William Henry    male  35.0      0   \n",
       "\n",
       "   Parch            Ticket     Fare Cabin Embarked AgeGroup FareGroup Title  \\\n",
       "0      0         A/5 21171   7.2500   NaN        S    Youth         1    Mr   \n",
       "1      0          PC 17599  71.2833   C85        C    Adult         2   Mrs   \n",
       "2      0  STON/O2. 3101282   7.9250   NaN        S    Youth         1  Miss   \n",
       "3      0            113803  53.1000  C123        S    Youth         2   Mrs   \n",
       "4      0            373450   8.0500   NaN        S    Youth         1    Mr   \n",
       "\n",
       "   TitleGroup  \n",
       "0           2  \n",
       "1           2  \n",
       "2           2  \n",
       "3           2  \n",
       "4           2  "
      ]
     },
     "execution_count": 34,
     "metadata": {},
     "output_type": "execute_result"
    }
   ],
   "source": [
    "df_train['TitleGroup'] = tilgrouping(df_train, 'Title')\n",
    "df_test['TitleGroup'] = tilgrouping(df_test, 'Title')\n",
    "df_train.head()"
   ]
  },
  {
   "cell_type": "code",
   "execution_count": 35,
   "id": "handy-observer",
   "metadata": {},
   "outputs": [
    {
     "data": {
      "image/png": "[encoded data removed]",
      "text/plain": [
       "<Figure size 432x288 with 1 Axes>"
      ]
     },
     "metadata": {
      "needs_background": "light"
     },
     "output_type": "display_data"
    }
   ],
   "source": [
    "sns.barplot(data=df_train, x='TitleGroup', y='Survived', hue='TitleGroup')\n",
    "plt.show()"
   ]
  },
  {
   "cell_type": "markdown",
   "id": "documented-wholesale",
   "metadata": {},
   "source": [
    "**Observations**\n",
    "\n",
    "1. Class 1 which is royal has the higest chance at survival with:\n",
    "2. class 3 with the lowest chance at survival"
   ]
  },
  {
   "cell_type": "markdown",
   "id": "studied-stadium",
   "metadata": {},
   "source": [
    "10. **Family Size and Family Type**\n",
    "\n",
    "The Family Size and Family type are features engineered from _SibSp_ and _Parch_ features which singly have different effects on survival and this notebook wants to explore if they are combine what their effect is."
   ]
  },
  {
   "cell_type": "code",
   "execution_count": 36,
   "id": "interstate-twelve",
   "metadata": {},
   "outputs": [
    {
     "data": {
      "text/html": [
       "<div>\n",
       "<style scoped>\n",
       "    .dataframe tbody tr th:only-of-type {\n",
       "        vertical-align: middle;\n",
       "    }\n",
       "\n",
       "    .dataframe tbody tr th {\n",
       "        vertical-align: top;\n",
       "    }\n",
       "\n",
       "    .dataframe thead th {\n",
       "        text-align: right;\n",
       "    }\n",
       "</style>\n",
       "<table border=\"1\" class=\"dataframe\">\n",
       "  <thead>\n",
       "    <tr style=\"text-align: right;\">\n",
       "      <th></th>\n",
       "      <th>PassengerId</th>\n",
       "      <th>Survived</th>\n",
       "      <th>Pclass</th>\n",
       "      <th>Name</th>\n",
       "      <th>Sex</th>\n",
       "      <th>Age</th>\n",
       "      <th>SibSp</th>\n",
       "      <th>Parch</th>\n",
       "      <th>Ticket</th>\n",
       "      <th>Fare</th>\n",
       "      <th>Cabin</th>\n",
       "      <th>Embarked</th>\n",
       "      <th>AgeGroup</th>\n",
       "      <th>FareGroup</th>\n",
       "      <th>Title</th>\n",
       "      <th>TitleGroup</th>\n",
       "      <th>FamilySize</th>\n",
       "    </tr>\n",
       "  </thead>\n",
       "  <tbody>\n",
       "    <tr>\n",
       "      <th>0</th>\n",
       "      <td>1</td>\n",
       "      <td>0</td>\n",
       "      <td>3</td>\n",
       "      <td>Braund, Mr. Owen Harris</td>\n",
       "      <td>male</td>\n",
       "      <td>22.0</td>\n",
       "      <td>1</td>\n",
       "      <td>0</td>\n",
       "      <td>A/5 21171</td>\n",
       "      <td>7.2500</td>\n",
       "      <td>NaN</td>\n",
       "      <td>S</td>\n",
       "      <td>Youth</td>\n",
       "      <td>1</td>\n",
       "      <td>Mr</td>\n",
       "      <td>2</td>\n",
       "      <td>1</td>\n",
       "    </tr>\n",
       "    <tr>\n",
       "      <th>1</th>\n",
       "      <td>2</td>\n",
       "      <td>1</td>\n",
       "      <td>1</td>\n",
       "      <td>Cumings, Mrs. John Bradley (Florence Briggs Th...</td>\n",
       "      <td>female</td>\n",
       "      <td>38.0</td>\n",
       "      <td>1</td>\n",
       "      <td>0</td>\n",
       "      <td>PC 17599</td>\n",
       "      <td>71.2833</td>\n",
       "      <td>C85</td>\n",
       "      <td>C</td>\n",
       "      <td>Adult</td>\n",
       "      <td>2</td>\n",
       "      <td>Mrs</td>\n",
       "      <td>2</td>\n",
       "      <td>1</td>\n",
       "    </tr>\n",
       "    <tr>\n",
       "      <th>2</th>\n",
       "      <td>3</td>\n",
       "      <td>1</td>\n",
       "      <td>3</td>\n",
       "      <td>Heikkinen, Miss. Laina</td>\n",
       "      <td>female</td>\n",
       "      <td>26.0</td>\n",
       "      <td>0</td>\n",
       "      <td>0</td>\n",
       "      <td>STON/O2. 3101282</td>\n",
       "      <td>7.9250</td>\n",
       "      <td>NaN</td>\n",
       "      <td>S</td>\n",
       "      <td>Youth</td>\n",
       "      <td>1</td>\n",
       "      <td>Miss</td>\n",
       "      <td>2</td>\n",
       "      <td>0</td>\n",
       "    </tr>\n",
       "    <tr>\n",
       "      <th>3</th>\n",
       "      <td>4</td>\n",
       "      <td>1</td>\n",
       "      <td>1</td>\n",
       "      <td>Futrelle, Mrs. Jacques Heath (Lily May Peel)</td>\n",
       "      <td>female</td>\n",
       "      <td>35.0</td>\n",
       "      <td>1</td>\n",
       "      <td>0</td>\n",
       "      <td>113803</td>\n",
       "      <td>53.1000</td>\n",
       "      <td>C123</td>\n",
       "      <td>S</td>\n",
       "      <td>Youth</td>\n",
       "      <td>2</td>\n",
       "      <td>Mrs</td>\n",
       "      <td>2</td>\n",
       "      <td>1</td>\n",
       "    </tr>\n",
       "    <tr>\n",
       "      <th>4</th>\n",
       "      <td>5</td>\n",
       "      <td>0</td>\n",
       "      <td>3</td>\n",
       "      <td>Allen, Mr. William Henry</td>\n",
       "      <td>male</td>\n",
       "      <td>35.0</td>\n",
       "      <td>0</td>\n",
       "      <td>0</td>\n",
       "      <td>373450</td>\n",
       "      <td>8.0500</td>\n",
       "      <td>NaN</td>\n",
       "      <td>S</td>\n",
       "      <td>Youth</td>\n",
       "      <td>1</td>\n",
       "      <td>Mr</td>\n",
       "      <td>2</td>\n",
       "      <td>0</td>\n",
       "    </tr>\n",
       "  </tbody>\n",
       "</table>\n",
       "</div>"
      ],
      "text/plain": [
       "   PassengerId  Survived  Pclass  \\\n",
       "0            1         0       3   \n",
       "1            2         1       1   \n",
       "2            3         1       3   \n",
       "3            4         1       1   \n",
       "4            5         0       3   \n",
       "\n",
       "                                                Name     Sex   Age  SibSp  \\\n",
       "0                            Braund, Mr. Owen Harris    male  22.0      1   \n",
       "1  Cumings, Mrs. John Bradley (Florence Briggs Th...  female  38.0      1   \n",
       "2                             Heikkinen, Miss. Laina  female  26.0      0   \n",
       "3       Futrelle, Mrs. Jacques Heath (Lily May Peel)  female  35.0      1   \n",
       "4                           Allen, Mr. William Henry    male  35.0      0   \n",
       "\n",
       "   Parch            Ticket     Fare Cabin Embarked AgeGroup FareGroup Title  \\\n",
       "0      0         A/5 21171   7.2500   NaN        S    Youth         1    Mr   \n",
       "1      0          PC 17599  71.2833   C85        C    Adult         2   Mrs   \n",
       "2      0  STON/O2. 3101282   7.9250   NaN        S    Youth         1  Miss   \n",
       "3      0            113803  53.1000  C123        S    Youth         2   Mrs   \n",
       "4      0            373450   8.0500   NaN        S    Youth         1    Mr   \n",
       "\n",
       "   TitleGroup  FamilySize  \n",
       "0           2           1  \n",
       "1           2           1  \n",
       "2           2           0  \n",
       "3           2           1  \n",
       "4           2           0  "
      ]
     },
     "execution_count": 36,
     "metadata": {},
     "output_type": "execute_result"
    }
   ],
   "source": [
    "df_train['FamilySize'] = df_train['SibSp'] + df_train['Parch']\n",
    "df_test['FamilySize'] = df_test['SibSp'] + df_test['Parch']\n",
    "df_train.head()"
   ]
  },
  {
   "cell_type": "code",
   "execution_count": 37,
   "id": "intelligent-small",
   "metadata": {},
   "outputs": [
    {
     "data": {
      "image/png": "[encoded data removed]",
      "text/plain": [
       "<Figure size 864x576 with 1 Axes>"
      ]
     },
     "metadata": {
      "needs_background": "light"
     },
     "output_type": "display_data"
    }
   ],
   "source": [
    "df_train['FamilySize'].hist(bins =5, figsize=(12, 8))\n",
    "plt.show()"
   ]
  },
  {
   "cell_type": "code",
   "execution_count": 38,
   "id": "tribal-attack",
   "metadata": {},
   "outputs": [],
   "source": [
    "df_train['FamilyType'] = pd.cut(df_train['FamilySize'], bins=[-1, 0.5, 4, np.inf], labels=['Alone', 'Small', 'Big'])\n",
    "df_test['FamilyType'] = pd.cut(df_test['FamilySize'], bins=[-1, 0.5, 4, np.inf], labels=['Alone', 'Small', 'Big'])"
   ]
  },
  {
   "cell_type": "code",
   "execution_count": 39,
   "id": "crude-appreciation",
   "metadata": {},
   "outputs": [
    {
     "data": {
      "image/png": "[encoded data removed]",
      "text/plain": [
       "<Figure size 432x288 with 1 Axes>"
      ]
     },
     "metadata": {
      "needs_background": "light"
     },
     "output_type": "display_data"
    }
   ],
   "source": [
    "sns.barplot(data=df_train, x='FamilyType', y ='Survived', hue='FamilyType')\n",
    "plt.show()"
   ]
  },
  {
   "cell_type": "markdown",
   "id": "junior-frontier",
   "metadata": {},
   "source": [
    "#### Creating a Clean Train, Validation and Test Data\n",
    "\n",
    "Before delving into modelling, this notebook identifies the necessary features and transformations required. Then creates the train, validation and test datasets.\n",
    "\n",
    "Required features: 'Survived', 'Pclass', 'Sex', 'Age', 'SibSp', 'Parch', 'Fare', 'Embarked', 'AgeGroup', 'FareGroup', 'TitleGroup', 'FamilySize', 'FamilyType'\n",
    "\n",
    "Features for Encoding: 'Sex', 'Embarked', 'AgeGroup', 'FamilyType'\n",
    "\n",
    "###### **One-Hot Encoding**\n",
    "1. Sex\n",
    "2. Embarked\n",
    "3. AgeGroup\n",
    "\n",
    "###### **Label Encoding**\n",
    "1. FamilyType"
   ]
  },
  {
   "cell_type": "code",
   "execution_count": 40,
   "id": "minute-perception",
   "metadata": {},
   "outputs": [],
   "source": [
    "inputs = df_train[['Pclass', 'Sex', 'Age', 'SibSp', 'Parch', 'Fare', 'Embarked', 'AgeGroup', 'FareGroup', 'TitleGroup', 'FamilySize', 'FamilyType']]\n",
    "target = df_train[['Survived']]\n",
    "\n",
    "inputs_test = df_test[['PassengerId', 'Pclass', 'Sex', 'Age', 'SibSp', 'Parch', 'Fare', 'Embarked', 'AgeGroup', 'FareGroup', 'TitleGroup', 'FamilySize', 'FamilyType']]"
   ]
  },
  {
   "cell_type": "code",
   "execution_count": 41,
   "id": "indirect-piece",
   "metadata": {},
   "outputs": [],
   "source": [
    "from sklearn.preprocessing import LabelEncoder\n",
    "le = LabelEncoder()"
   ]
  },
  {
   "cell_type": "code",
   "execution_count": 42,
   "id": "logical-counter",
   "metadata": {},
   "outputs": [
    {
     "name": "stderr",
     "output_type": "stream",
     "text": [
      "<ipython-input-42-8fd5226857cc>:2: SettingWithCopyWarning: \n",
      "A value is trying to be set on a copy of a slice from a DataFrame.\n",
      "Try using .loc[row_indexer,col_indexer] = value instead\n",
      "\n",
      "See the caveats in the documentation: https://pandas.pydata.org/pandas-docs/stable/user_guide/indexing.html#returning-a-view-versus-a-copy\n",
      "  inputs['FamilyType'] = le.transform(inputs['FamilyType'])\n",
      "<ipython-input-42-8fd5226857cc>:3: SettingWithCopyWarning: \n",
      "A value is trying to be set on a copy of a slice from a DataFrame.\n",
      "Try using .loc[row_indexer,col_indexer] = value instead\n",
      "\n",
      "See the caveats in the documentation: https://pandas.pydata.org/pandas-docs/stable/user_guide/indexing.html#returning-a-view-versus-a-copy\n",
      "  inputs_test['FamilyType'] = le.transform(inputs_test['FamilyType'])\n"
     ]
    }
   ],
   "source": [
    "le.fit(inputs['FamilyType'])\n",
    "inputs['FamilyType'] = le.transform(inputs['FamilyType'])\n",
    "inputs_test['FamilyType'] = le.transform(inputs_test['FamilyType'])"
   ]
  },
  {
   "cell_type": "code",
   "execution_count": 43,
   "id": "controversial-textbook",
   "metadata": {
    "scrolled": true
   },
   "outputs": [],
   "source": [
    "# One Hot Encoding\n",
    "dummies_train = pd.get_dummies(inputs[['Sex', 'Embarked', 'AgeGroup']])\n",
    "dummies_test = pd.get_dummies(inputs_test[['Sex', 'Embarked', 'AgeGroup']])"
   ]
  },
  {
   "cell_type": "code",
   "execution_count": 44,
   "id": "molecular-atmosphere",
   "metadata": {},
   "outputs": [
    {
     "data": {
      "text/plain": [
       "((891, 22), (418, 23))"
      ]
     },
     "execution_count": 44,
     "metadata": {},
     "output_type": "execute_result"
    }
   ],
   "source": [
    "inputs1 = pd.concat([inputs, dummies_train], axis=1)\n",
    "inputs_test1 = pd.concat([inputs_test, dummies_test], axis=1)\n",
    "inputs1.shape, inputs_test1.shape"
   ]
  },
  {
   "cell_type": "code",
   "execution_count": 45,
   "id": "fluid-yukon",
   "metadata": {},
   "outputs": [],
   "source": [
    "from sklearn.model_selection import train_test_split\n",
    "from sklearn.model_selection import cross_val_score \n",
    "\n",
    "X_train, X_valid, y_train, y_valid = train_test_split(inputs1.drop(['Sex','Embarked', 'AgeGroup'], axis=1), target, test_size=0.3, random_state=42)"
   ]
  },
  {
   "cell_type": "markdown",
   "id": "noted-conservation",
   "metadata": {},
   "source": [
    "#### Testing Different Models\n",
    "\n",
    "This notebook will try and test the following models:\n",
    "\n",
    "1. Random Forest\n",
    "2. LightGBM\n",
    "3. SVC\n",
    "4. KNN\n",
    "5. AdaBoost\n",
    "\n",
    "6. CatBoost\n",
    "\n",
    "From the 6 the best will then be selected to be used to predict survival of passengers in the test dataset"
   ]
  },
  {
   "cell_type": "code",
   "execution_count": 46,
   "id": "naked-battery",
   "metadata": {},
   "outputs": [],
   "source": [
    "from sklearn.ensemble import RandomForestClassifier\n",
    "from sklearn.svm import SVC\n",
    "from sklearn.neighbors import KNeighborsClassifier\n",
    "from catboost import CatBoostClassifier\n",
    "from sklearn.ensemble import AdaBoostClassifier\n",
    "from sklearn.metrics import accuracy_score, classification_report\n",
    "from lightgbm import LGBMClassifier"
   ]
  },
  {
   "cell_type": "code",
   "execution_count": 56,
   "id": "dimensional-posting",
   "metadata": {},
   "outputs": [],
   "source": [
    "def display_scores(scores):\n",
    "    print('Scores: ', scores)\n",
    "    print('Mean Score:', scores.mean())\n",
    "    print('Std: ', scores.std())"
   ]
  },
  {
   "cell_type": "markdown",
   "id": "sunset-report",
   "metadata": {},
   "source": [
    "1. KNN"
   ]
  },
  {
   "cell_type": "code",
   "execution_count": 68,
   "id": "positive-quarter",
   "metadata": {},
   "outputs": [
    {
     "name": "stdout",
     "output_type": "stream",
     "text": [
      "Scores:  [0.58730159 0.80952381 0.71428571 0.69354839 0.74193548 0.62903226\n",
      " 0.74193548 0.67741935 0.69354839 0.67741935]\n",
      "Mean Score: 0.6965949820788531\n",
      "Std:  0.05868657848254691\n"
     ]
    }
   ],
   "source": [
    "knn_cls = KNeighborsClassifier()\n",
    "scores_knn = cross_val_score(knn_cls, X_train, y_train.values.ravel(), scoring='accuracy', cv=10)\n",
    "\n",
    "display_scores(scores_knn)"
   ]
  },
  {
   "cell_type": "markdown",
   "id": "sporting-operations",
   "metadata": {},
   "source": [
    "2. SVC"
   ]
  },
  {
   "cell_type": "code",
   "execution_count": 70,
   "id": "graphic-hobby",
   "metadata": {},
   "outputs": [
    {
     "name": "stdout",
     "output_type": "stream",
     "text": [
      "Scores:  [0.68253968 0.6984127  0.71428571 0.69354839 0.62903226 0.61290323\n",
      " 0.66129032 0.62903226 0.69354839 0.70967742]\n",
      "Mean Score: 0.6724270353302612\n",
      "Std:  0.03498972290996514\n"
     ]
    }
   ],
   "source": [
    "svc_cls = SVC()\n",
    "\n",
    "scores_svc = cross_val_score(svc_cls, X_train, y_train.values.ravel(), scoring='accuracy', cv=10)\n",
    "display_scores(scores_svc)"
   ]
  },
  {
   "cell_type": "markdown",
   "id": "subsequent-astrology",
   "metadata": {},
   "source": [
    "3. Random Forest"
   ]
  },
  {
   "cell_type": "code",
   "execution_count": 72,
   "id": "coastal-latitude",
   "metadata": {},
   "outputs": [
    {
     "name": "stdout",
     "output_type": "stream",
     "text": [
      "Scores:  [0.82539683 0.79365079 0.80952381 0.83870968 0.77419355 0.70967742\n",
      " 0.79032258 0.80645161 0.80645161 0.85483871]\n",
      "Mean Score: 0.8009216589861751\n",
      "Std:  0.037781322560493553\n"
     ]
    }
   ],
   "source": [
    "rf_cls = RandomForestClassifier()\n",
    "\n",
    "scores_rf = cross_val_score(rf_cls, X_train, y_train.values.ravel(), scoring='accuracy', cv=10)\n",
    "display_scores(scores_rf)"
   ]
  },
  {
   "cell_type": "markdown",
   "id": "sitting-stewart",
   "metadata": {},
   "source": [
    "4. LightGBM"
   ]
  },
  {
   "cell_type": "code",
   "execution_count": 77,
   "id": "stable-record",
   "metadata": {},
   "outputs": [
    {
     "name": "stdout",
     "output_type": "stream",
     "text": [
      "Scores:  [0.80952381 0.82539683 0.88888889 0.88709677 0.80645161 0.74193548\n",
      " 0.82258065 0.79032258 0.77419355 0.90322581]\n",
      "Mean Score: 0.8249615975422427\n",
      "Std:  0.05032907727979229\n"
     ]
    }
   ],
   "source": [
    "lgb_cls = LGBMClassifier()\n",
    "\n",
    "scores_lgb = cross_val_score(lgb_cls, X_train, y_train.values.ravel(), scoring='accuracy', cv=10)\n",
    "display_scores(scores_lgb)"
   ]
  },
  {
   "cell_type": "markdown",
   "id": "realistic-bandwidth",
   "metadata": {},
   "source": [
    "5. AdaBoost"
   ]
  },
  {
   "cell_type": "code",
   "execution_count": 78,
   "id": "collect-marsh",
   "metadata": {},
   "outputs": [
    {
     "name": "stdout",
     "output_type": "stream",
     "text": [
      "Scores:  [0.80952381 0.77777778 0.79365079 0.83870968 0.80645161 0.70967742\n",
      " 0.80645161 0.83870968 0.80645161 0.85483871]\n",
      "Mean Score: 0.8042242703533027\n",
      "Std:  0.03838437020701616\n"
     ]
    }
   ],
   "source": [
    "ada_cls = Ada()\n",
    "\n",
    "scores_ada = cross_val_score(ada_cls, X_train, y_train.values.ravel(), scoring='accuracy', cv=10)\n",
    "display_scores(scores_ada)"
   ]
  },
  {
   "cell_type": "markdown",
   "id": "typical-humanity",
   "metadata": {},
   "source": [
    "6. CatBoost"
   ]
  },
  {
   "cell_type": "code",
   "execution_count": 79,
   "id": "returning-proxy",
   "metadata": {},
   "outputs": [],
   "source": [
    "X_train1, X_valid1, y_train1, y_valid1 = train_test_split(inputs, target, test_size=0.30, random_state=42)\n",
    "\n",
    "cat_features = ['Sex', 'Embarked', 'AgeGroup', 'FareGroup']\n",
    "cat_cls = CatBoostClassifier(iterations=2500, learning_rate=0.05, random_seed=42, cat_features=cat_features, verbose=False)\n",
    "\n",
    "scores_cat = cross_val_score(cat_cls, X_train1, y_train1.values.ravel(), scoring='accuracy', cv=10)"
   ]
  },
  {
   "cell_type": "code",
   "execution_count": 80,
   "id": "characteristic-embassy",
   "metadata": {},
   "outputs": [
    {
     "name": "stdout",
     "output_type": "stream",
     "text": [
      "Scores:  [0.79365079 0.82539683 0.88888889 0.87096774 0.77419355 0.74193548\n",
      " 0.83870968 0.80645161 0.85483871 0.90322581]\n",
      "Mean Score: 0.8298259088581668\n",
      "Std:  0.048956605624214784\n"
     ]
    }
   ],
   "source": [
    "display_scores(scores_cat)"
   ]
  },
  {
   "cell_type": "markdown",
   "id": "perfect-estonia",
   "metadata": {},
   "source": [
    "**Observation**\n",
    "\n",
    "From little exploration, CatBoost performs the best with very high Test and Train Scores.\n",
    "This notebook will explore a further exploration by means of hyperparameter tuning via GridSearch to select the best estimator with optimum parameters.\n",
    "\n",
    "The selected algorithms for hyperparameter tuning are: Random Forest, AdaBoost, LightGBM, and CatBoost\n",
    "\n",
    "#### Hyperparameter Tuning"
   ]
  },
  {
   "cell_type": "code",
   "execution_count": 95,
   "id": "stylish-vector",
   "metadata": {},
   "outputs": [],
   "source": [
    "from sklearn.model_selection import GridSearchCV\n",
    "from sklearn.model_selection import StratifiedKFold\n",
    "\n",
    "\n",
    "# Random Forest param Grid\n",
    "rf_param_grid = {\n",
    "    'n_estimators': [100, 250, 400,],\n",
    "    'criterion': ['gini', 'entropy'],\n",
    "    \"min_samples_split\":[2,3,10],\n",
    "    \"min_samples_leaf\":[1,3,10],\n",
    "    'max_features': ['sqrt', 'log2'],\n",
    "    'random_state':[8, 16, 42],\n",
    "}\n",
    "\n",
    "lgb_param_grid = {\n",
    "    'boosting_type ':['gbdt', 'rf', 'goss'],\n",
    "    'learning rate': [0.025, 0.05, 0.1, 0.2],\n",
    "    'n_estimators': [100, 250, 400],\n",
    "    'metric': ['auc', 'average_precision'],\n",
    "    'random_state':[8, 16, 42],\n",
    "}\n",
    "\n",
    "ada_param_grid = {\n",
    "    'n_estimators': [50, 100, 250],\n",
    "    'learning_rate': [0.1, 0.5, 1, 1.5],\n",
    "    'random_state':[8, 16, 42],\n",
    "}\n",
    "\n",
    "cat_param_grid = {\n",
    "    'iterations': [1000, 1600, 2000, 2400],\n",
    "    'learning_rate': [0.01, 0.03, 0.05],\n",
    "    'random_state':[8, 16, 42],\n",
    "}\n",
    "\n",
    "classifier_param = [rf_param_grid, lgb_param_grid, ada_param_grid]\n",
    "\n",
    "# Classifiers\n",
    "\n",
    "classifier = [RandomForestClassifier(), LGBMClassifier(), AdaBoostClassifier()]"
   ]
  },
  {
   "cell_type": "code",
   "execution_count": 91,
   "id": "broken-blade",
   "metadata": {},
   "outputs": [],
   "source": [
    "cv_result = []\n",
    "best_estimators = []\n",
    "\n",
    "for i in range(len(classifier)):\n",
    "    clf = GridSearchCV(classifier[i], param_grid=classifier_param[i], \n",
    "                       scoring='accuracy', n_jobs=-1, cv=StratifiedKFold(n_splits=10))\n",
    "    clf.fit(X_train, y_train.values.ravel())\n",
    "    cv_result.append(clf.best_score_)\n",
    "    best_estimators.append(clf.best_estimator_)"
   ]
  },
  {
   "cell_type": "code",
   "execution_count": 102,
   "id": "polar-composer",
   "metadata": {},
   "outputs": [],
   "source": [
    "clf2 = GridSearchCV(CatBoostClassifier(cat_features=cat_features, verbose=False), param_grid=cat_param_grid,\n",
    "                    scoring='accuracy', n_jobs=-1, cv=StratifiedKFold(n_splits=10))\n",
    "clf2.fit(X_train1, y_train1.values.ravel())\n",
    "cv_result.append(clf2.best_score_)\n",
    "best_estimators.append(clf2.best_estimator_)"
   ]
  },
  {
   "cell_type": "code",
   "execution_count": 111,
   "id": "julian-boring",
   "metadata": {},
   "outputs": [],
   "source": [
    "result = pd.DataFrame({'Mean Score': cv_result, 'Model': ['Random Forest', 'LightGBM', 'AdaBoost', 'CatBoost', 'CatBoost']})"
   ]
  },
  {
   "cell_type": "code",
   "execution_count": 120,
   "id": "deadly-decline",
   "metadata": {},
   "outputs": [
    {
     "data": {
      "image/png": "[encoded data removed]",
      "text/plain": [
       "<Figure size 432x288 with 1 Axes>"
      ]
     },
     "metadata": {
      "needs_background": "light"
     },
     "output_type": "display_data"
    }
   ],
   "source": [
    "g = sns.barplot(data=result, x='Mean Score', y='Model')\n",
    "g.set_xlabel('Mean Score')\n",
    "g.set_title('Mean Scores for the Models')\n",
    "plt.show()"
   ]
  },
  {
   "cell_type": "code",
   "execution_count": 125,
   "id": "special-northern",
   "metadata": {},
   "outputs": [
    {
     "data": {
      "text/plain": [
       "<bound method BaseEstimator.set_params of GridSearchCV(cv=StratifiedKFold(n_splits=10, random_state=None, shuffle=False),\n",
       "             estimator=AdaBoostClassifier(), n_jobs=-1,\n",
       "             param_grid={'learning_rate': [0.1, 0.5, 1, 1.5],\n",
       "                         'n_estimators': [50, 100, 250],\n",
       "                         'random_state': [8, 16, 42]},\n",
       "             scoring='accuracy')>"
      ]
     },
     "execution_count": 125,
     "metadata": {},
     "output_type": "execute_result"
    }
   ],
   "source": []
  },
  {
   "cell_type": "code",
   "execution_count": 135,
   "id": "assumed-perry",
   "metadata": {},
   "outputs": [],
   "source": [
    "rf_model = best_estimators[0]\n",
    "lgb_model= best_estimators[1]\n",
    "ada_model = best_estimators[2]\n",
    "cat_model = best_estimators[3]"
   ]
  },
  {
   "cell_type": "markdown",
   "id": "intensive-frequency",
   "metadata": {},
   "source": [
    "#### Validate the Models"
   ]
  },
  {
   "cell_type": "code",
   "execution_count": 144,
   "id": "worthy-rebound",
   "metadata": {},
   "outputs": [
    {
     "name": "stdout",
     "output_type": "stream",
     "text": [
      "Accuracies -> Random Forest: 0.7835820895522388, LightGBM: 0.8246268656716418, AdaBoost: 0.8134328358208955, CatBoost:0.832089552238806\n"
     ]
    }
   ],
   "source": [
    "rf_preds = rf_model.predict(X_valid)\n",
    "lgb_preds = lgb_model.predict(X_valid)\n",
    "ada_preds = ada_model.predict(X_valid)\n",
    "cat_preds = cat_model.predict(X_valid1)\n",
    "\n",
    "rf_acc = accuracy_score(y_valid.values.ravel(), rf_preds)\n",
    "lgb_acc = accuracy_score(y_valid.values.ravel(), lgb_preds)\n",
    "ada_acc = accuracy_score(y_valid.values.ravel(), ada_preds)\n",
    "cat_acc = accuracy_score(y_valid1.values.ravel(), cat_preds)\n",
    "\n",
    "print(f'Accuracies -> Random Forest: {rf_acc}, LightGBM: {lgb_acc}, AdaBoost: {ada_acc}, CatBoost:{cat_acc}')"
   ]
  },
  {
   "cell_type": "markdown",
   "id": "favorite-venture",
   "metadata": {},
   "source": [
    "**Observation**\n",
    "From the test accuracies(demonstrating prediction on unseen data) the models rank as follows:\n",
    "1. CatBoost\n",
    "2. LightGBM\n",
    "3. AdaBoost\n",
    "4. Random Forest"
   ]
  },
  {
   "cell_type": "markdown",
   "id": "similar-commerce",
   "metadata": {},
   "source": [
    "####  Predict Survival of the Passengers in the Test Data"
   ]
  },
  {
   "cell_type": "code",
   "execution_count": 179,
   "id": "satellite-kennedy",
   "metadata": {},
   "outputs": [
    {
     "data": {
      "text/plain": [
       "(623, 12)"
      ]
     },
     "execution_count": 179,
     "metadata": {},
     "output_type": "execute_result"
    }
   ],
   "source": [
    "X_train1.shape"
   ]
  },
  {
   "cell_type": "code",
   "execution_count": 183,
   "id": "elect-terrorism",
   "metadata": {},
   "outputs": [
    {
     "name": "stdout",
     "output_type": "stream",
     "text": [
      "<class 'pandas.core.frame.DataFrame'>\n",
      "RangeIndex: 418 entries, 0 to 417\n",
      "Data columns (total 13 columns):\n",
      " #   Column       Non-Null Count  Dtype   \n",
      "---  ------       --------------  -----   \n",
      " 0   PassengerId  418 non-null    int64   \n",
      " 1   Pclass       418 non-null    int64   \n",
      " 2   Sex          418 non-null    object  \n",
      " 3   Age          418 non-null    float64 \n",
      " 4   SibSp        418 non-null    int64   \n",
      " 5   Parch        418 non-null    int64   \n",
      " 6   Fare         417 non-null    float64 \n",
      " 7   Embarked     418 non-null    object  \n",
      " 8   AgeGroup     418 non-null    category\n",
      " 9   FareGroup    417 non-null    category\n",
      " 10  TitleGroup   418 non-null    int64   \n",
      " 11  FamilySize   418 non-null    int64   \n",
      " 12  FamilyType   418 non-null    int64   \n",
      "dtypes: category(2), float64(2), int64(7), object(2)\n",
      "memory usage: 37.3+ KB\n"
     ]
    }
   ],
   "source": [
    "inputs_test.info()"
   ]
  },
  {
   "cell_type": "code",
   "execution_count": 186,
   "id": "funded-digest",
   "metadata": {},
   "outputs": [
    {
     "data": {
      "text/html": [
       "<div>\n",
       "<style scoped>\n",
       "    .dataframe tbody tr th:only-of-type {\n",
       "        vertical-align: middle;\n",
       "    }\n",
       "\n",
       "    .dataframe tbody tr th {\n",
       "        vertical-align: top;\n",
       "    }\n",
       "\n",
       "    .dataframe thead th {\n",
       "        text-align: right;\n",
       "    }\n",
       "</style>\n",
       "<table border=\"1\" class=\"dataframe\">\n",
       "  <thead>\n",
       "    <tr style=\"text-align: right;\">\n",
       "      <th></th>\n",
       "      <th>Fare</th>\n",
       "      <th>Pclass</th>\n",
       "    </tr>\n",
       "  </thead>\n",
       "  <tbody>\n",
       "    <tr>\n",
       "      <th>152</th>\n",
       "      <td>NaN</td>\n",
       "      <td>3</td>\n",
       "    </tr>\n",
       "  </tbody>\n",
       "</table>\n",
       "</div>"
      ],
      "text/plain": [
       "     Fare  Pclass\n",
       "152   NaN       3"
      ]
     },
     "execution_count": 186,
     "metadata": {},
     "output_type": "execute_result"
    }
   ],
   "source": [
    "inputs_test[['Fare', 'Pclass']][inputs_test['Fare'].isna()]"
   ]
  },
  {
   "cell_type": "code",
   "execution_count": 187,
   "id": "toxic-participation",
   "metadata": {},
   "outputs": [
    {
     "name": "stderr",
     "output_type": "stream",
     "text": [
      "/home/nyamwamu/anaconda3/lib/python3.8/site-packages/pandas/core/series.py:4463: SettingWithCopyWarning: \n",
      "A value is trying to be set on a copy of a slice from a DataFrame\n",
      "\n",
      "See the caveats in the documentation: https://pandas.pydata.org/pandas-docs/stable/user_guide/indexing.html#returning-a-view-versus-a-copy\n",
      "  return super().fillna(\n"
     ]
    }
   ],
   "source": [
    "pclass3mean = inputs_test['Fare'][inputs_test['Pclass'] == 3].mean()\n",
    "inputs_test['Fare'].fillna(pclass3mean, inplace=True)"
   ]
  },
  {
   "cell_type": "code",
   "execution_count": 188,
   "id": "satellite-relationship",
   "metadata": {},
   "outputs": [
    {
     "name": "stderr",
     "output_type": "stream",
     "text": [
      "<ipython-input-188-fd19e536e296>:1: SettingWithCopyWarning: \n",
      "A value is trying to be set on a copy of a slice from a DataFrame.\n",
      "Try using .loc[row_indexer,col_indexer] = value instead\n",
      "\n",
      "See the caveats in the documentation: https://pandas.pydata.org/pandas-docs/stable/user_guide/indexing.html#returning-a-view-versus-a-copy\n",
      "  inputs_test['FareGroup'] = pd.cut(inputs_test['Fare'], bins = [0, 41, 101, 201, np.inf], labels=[1, 2, 3, 4])\n"
     ]
    }
   ],
   "source": [
    "inputs_test['FareGroup'] = pd.cut(inputs_test['Fare'], bins = [0, 41, 101, 201, np.inf], labels=[1, 2, 3, 4])"
   ]
  },
  {
   "cell_type": "code",
   "execution_count": 189,
   "id": "accepted-outside",
   "metadata": {},
   "outputs": [],
   "source": [
    "X_test = inputs_test[['Pclass', 'Sex', 'Age', 'SibSp', 'Parch', 'Fare', 'Embarked',\n",
    "       'AgeGroup', 'FareGroup', 'TitleGroup', 'FamilySize', 'FamilyType']]"
   ]
  },
  {
   "cell_type": "code",
   "execution_count": 190,
   "id": "decent-banking",
   "metadata": {},
   "outputs": [
    {
     "name": "stdout",
     "output_type": "stream",
     "text": [
      "<class 'pandas.core.frame.DataFrame'>\n",
      "RangeIndex: 418 entries, 0 to 417\n",
      "Data columns (total 12 columns):\n",
      " #   Column      Non-Null Count  Dtype   \n",
      "---  ------      --------------  -----   \n",
      " 0   Pclass      418 non-null    int64   \n",
      " 1   Sex         418 non-null    object  \n",
      " 2   Age         418 non-null    float64 \n",
      " 3   SibSp       418 non-null    int64   \n",
      " 4   Parch       418 non-null    int64   \n",
      " 5   Fare        418 non-null    float64 \n",
      " 6   Embarked    418 non-null    object  \n",
      " 7   AgeGroup    418 non-null    category\n",
      " 8   FareGroup   418 non-null    category\n",
      " 9   TitleGroup  418 non-null    int64   \n",
      " 10  FamilySize  418 non-null    int64   \n",
      " 11  FamilyType  418 non-null    int64   \n",
      "dtypes: category(2), float64(2), int64(6), object(2)\n",
      "memory usage: 34.0+ KB\n"
     ]
    }
   ],
   "source": [
    "X_test.info()"
   ]
  },
  {
   "cell_type": "code",
   "execution_count": 191,
   "id": "noted-billy",
   "metadata": {},
   "outputs": [],
   "source": [
    "test_preds = cat_model.predict(X_test)"
   ]
  },
  {
   "cell_type": "code",
   "execution_count": 194,
   "id": "precise-wrist",
   "metadata": {},
   "outputs": [],
   "source": [
    "survival_results = pd.concat([inputs_test['PassengerId'], pd.Series(test_preds, name='Survived')], axis=1)"
   ]
  },
  {
   "cell_type": "code",
   "execution_count": 196,
   "id": "suffering-furniture",
   "metadata": {},
   "outputs": [],
   "source": [
    "survival_results.to_csv('survived_submission.csv', index=False)"
   ]
  },
  {
   "cell_type": "code",
   "execution_count": null,
   "id": "arabic-wellington",
   "metadata": {},
   "outputs": [],
   "source": []
  }
 ],
 "metadata": {
  "kernelspec": {
   "display_name": "Python 3",
   "language": "python",
   "name": "python3"
  },
  "language_info": {
   "codemirror_mode": {
    "name": "ipython",
    "version": 3
   },
   "file_extension": ".py",
   "mimetype": "text/x-python",
   "name": "python",
   "nbconvert_exporter": "python",
   "pygments_lexer": "ipython3",
   "version": "3.8.3"
  }
 },
 "nbformat": 4,
 "nbformat_minor": 5
}
